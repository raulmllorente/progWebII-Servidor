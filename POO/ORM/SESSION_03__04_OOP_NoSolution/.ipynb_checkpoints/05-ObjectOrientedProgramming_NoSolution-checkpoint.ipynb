{
 "cells": [
  {
   "cell_type": "markdown",
   "metadata": {},
   "source": [
    "#  Object Oriented Programming (OOP)\n",
    "\n",
    "<img src=\"profile_manoelgadi.png\" width=100 height=100 align=\"right\">\n",
    "\n",
    "Author: Prof. Manoel Gadi\n",
    "\n",
    "Contact: mfalonso@faculty.ie.edu\n",
    "\n",
    "Teaching Web: http://mfalonso.pythonanywhere.com\n",
    "\n",
    "Last revision: 27/June/2021\n",
    "\n",
    "---"
   ]
  },
  {
   "cell_type": "markdown",
   "metadata": {},
   "source": [
    "## Difference between Procedure Oriented and  Object Oriented Programming!\n",
    "\n",
    "* Procedural programming creates a step by step program that  guides the application through a sequence of instructions. Each  instruction is executed in order.\n",
    "* Procedural programming also focuses on the idea that all  algorithms are executed with functions and data that the  programmer has access to and is able to change.\n",
    "* Object-Oriented programming is much more similar to the way  the real world works; it is analogous to the human brain. Each  program is made up of many entities called objects.\n",
    "* Instead, a message must be sent requesting the data, just like  people must ask one another for information; we cannot see  inside each other’s heads.\n",
    "\n",
    "\n",
    "__del something__ # (1) It is __procedural programming__ (PP)\n",
    "\n",
    "__del(something)__ # (2) It is __functional programming__ (FP)\n",
    "\n",
    "__something.del()__ # (3) It is __object oriented programming__ (OOP)\n",
    "\n",
    "3 different paradigms, and Python is 90% (3 - OOP), 9% (2 - FP) and some bizarre cases it is (1 - PP) like in del my_dict[key]!!!\n",
    "\n"
   ]
  },
  {
   "cell_type": "markdown",
   "metadata": {},
   "source": [
    "The following is a method that can only be applied to strings so lower(a) makes no sense because lower(10) would fail:"
   ]
  },
  {
   "cell_type": "code",
   "execution_count": null,
   "metadata": {},
   "outputs": [],
   "source": [
    "a = ' BiG MuG '\n",
    "a.lower() "
   ]
  },
  {
   "cell_type": "code",
   "execution_count": null,
   "metadata": {},
   "outputs": [],
   "source": [
    "a.upper()"
   ]
  },
  {
   "cell_type": "code",
   "execution_count": null,
   "metadata": {},
   "outputs": [],
   "source": [
    "a.strip()"
   ]
  },
  {
   "cell_type": "markdown",
   "metadata": {},
   "source": [
    "Chainning methods as the returned object if from the same type as the original"
   ]
  },
  {
   "cell_type": "code",
   "execution_count": null,
   "metadata": {},
   "outputs": [],
   "source": [
    "type(a), type(a.strip())"
   ]
  },
  {
   "cell_type": "code",
   "execution_count": null,
   "metadata": {},
   "outputs": [],
   "source": [
    "a.strip().upper()"
   ]
  },
  {
   "cell_type": "code",
   "execution_count": null,
   "metadata": {},
   "outputs": [],
   "source": [
    "a.strip().upper().split(' ')"
   ]
  },
  {
   "cell_type": "markdown",
   "metadata": {},
   "source": [
    "Using join to turn the list back into a string"
   ]
  },
  {
   "cell_type": "code",
   "execution_count": null,
   "metadata": {},
   "outputs": [],
   "source": [
    "';'.join(a.strip().upper().split(' '))"
   ]
  },
  {
   "cell_type": "markdown",
   "metadata": {},
   "source": [
    "## The rule of thumb in Python for methods vs. functions\n",
    "__A function can be applied to one or more type__ of things (objects), while __methods are specific and can only be applied to one type__, “things” (objects) of one given type (one given class)  \n"
   ]
  },
  {
   "cell_type": "code",
   "execution_count": null,
   "metadata": {},
   "outputs": [],
   "source": [
    "import random as rd\n",
    "frog_tuple = ('L','L','L','','R','R','R')\n",
    "frog_list = ['L','L','L','','R','R','R']"
   ]
  },
  {
   "cell_type": "code",
   "execution_count": null,
   "metadata": {},
   "outputs": [],
   "source": [
    "def randomize_frogs(frogs):\n",
    "    \"\"\"\n",
    "    Randomizes the order of the frogs without altering the original list / tuple types\n",
    "     Input: List / Tuple of elements\n",
    "     Output: New List / Tuple of elements in random order\n",
    "    \"\"\"\n",
    "    if type(frogs) not in (list,tuple):\n",
    "        print('Error: El tipo de entrada tiene que ser lista o tupla')\n",
    "        return(None)\n",
    "    t = True if type(frogs) == tuple else False    \n",
    "    frogs = list(frogs).copy()\n",
    "    for x in range(len(frogs)):\n",
    "        rd1 = x\n",
    "        rd2 = rd.randint(0,6)\n",
    "        frogs[rd1],frogs[rd2] = frogs[rd2],frogs[rd1]\n",
    "    # if t == True:\n",
    "    #     return(tuple(lista))\n",
    "    # else:\n",
    "    #     return(lista)\n",
    "    return(tuple(frogs) if t else frogs)   \n"
   ]
  },
  {
   "cell_type": "markdown",
   "metadata": {},
   "source": [
    "Note that if we send a tuple the function returns a tuple"
   ]
  },
  {
   "cell_type": "code",
   "execution_count": null,
   "metadata": {},
   "outputs": [],
   "source": [
    "frog_tuple_res = randomize_frogs(frog_tuple)\n",
    "type(frog_tuple_res),frog_tuple_res"
   ]
  },
  {
   "cell_type": "markdown",
   "metadata": {},
   "source": [
    "Note that if we send a tuple the list returns a list"
   ]
  },
  {
   "cell_type": "code",
   "execution_count": null,
   "metadata": {},
   "outputs": [],
   "source": [
    "frog_list_res = randomize_frogs(frog_list)\n",
    "type(frog_list_res),frog_list_res"
   ]
  },
  {
   "cell_type": "markdown",
   "metadata": {},
   "source": [
    "Therefore, this is a clear candidate to remain a function."
   ]
  },
  {
   "cell_type": "markdown",
   "metadata": {},
   "source": [
    "# Classes\n",
    "<img src=\"classes1.png\" width=500 align=\"center\">\n",
    "\n",
    "## Using a Class to Make Many Objects\n",
    "\n",
    "A class is like a cookie cutter that can be used many times to make many cookies. There is only one cookie cutter, but can be used to make many cookies. Cookies are objects and each one has its own individuality because each one is made out of a different section of dough. Different cookies may have different characteristics, even though they follow the same basic pattern. For example, different cookies can have different candy sprinkles or frosting, or be backed for different times.\n",
    "\n",
    "Cookies can be created. And cookies can be destroyed (just ask Cookie Monster). But destroying cookies does not affect the cookie cutter. It can be used again if there is dough left.\n",
    "\n",
    "A big cookie jar might require many cookies made with many different cookie patterns (stars, hearts, squares, gingerbread androids...) A big cookie (such as a gingerbread house) might be built out of many smaller cookies of several different types. \n",
    "\n",
    "<img src=\"cookieDough.gif\" width=500 align=\"center\">\n",
    "\n",
    "## Object (Instance of a Class)\n",
    "\n",
    "<img src=\"classes2.png\" width=500 align=\"center\">"
   ]
  },
  {
   "cell_type": "markdown",
   "metadata": {},
   "source": [
    "## Features of OOP\n",
    "\n",
    "* Ability to simulate real-world event much more effectively\n",
    "* Code is reusable thus less code may have to be written\n",
    "* Data becomes active\n",
    "* Better able to create GUI (graphical user interface) applications\n",
    "* Programmers are able to produce faster, more accurate and better-  written applications\n",
    "\n",
    "# The four major principles of object orientation are:\n",
    "* Encapsulation - Attributes (variables) and Methods (functions) belong to the single object and can only be used/applied to that particular object.\n",
    "* Data Abstraction - \"shows\" only essential attributes and \"hides\" unnecessary information.\n",
    "* Inheritance - the super power of creating a new class with more attributes or methods by extending another, example creating your own Pandas Dataframe ;-)\n",
    "* Polymorphism - the ability of an object to take on many forms - For example, lets say we have a class Animal that has a method sound() . Since this is a generic class so we can't give it a implementation like: Roar, Meow, Oink etc. We had to give a generic message.\n",
    "\n",
    "# What is an Object..?\n",
    "* Objects\tare\tthe\tbasic\trun-time\tentities\tin\tan\tobject-oriented system.\n",
    "* They may represent a person, a place, a bank account, a table of  data or any item that the program must handle.\n",
    "* When\ta\tprogram\tis\texecuted\tthe\tobjects\tinteract\tby\tsending messages to one another.\n",
    "* Objects have two components: Data (i.e., attributes) / Behaviors (i.e., methods)\n"
   ]
  },
  {
   "cell_type": "markdown",
   "metadata": {},
   "source": [
    "## Let's create a class \n"
   ]
  },
  {
   "cell_type": "code",
   "execution_count": null,
   "metadata": {},
   "outputs": [],
   "source": [
    "\n",
    "\n",
    "\n",
    "\n",
    "\n",
    "\n",
    "\n",
    "\n",
    "\n",
    "\n",
    "\n",
    "\n",
    "\n"
   ]
  },
  {
   "cell_type": "markdown",
   "metadata": {},
   "source": [
    "### Self (the object itself calling the method)\n",
    "\n",
    "<img src=\"classes3b.png\" width=500 align=\"center\">"
   ]
  },
  {
   "cell_type": "code",
   "execution_count": null,
   "metadata": {},
   "outputs": [],
   "source": []
  },
  {
   "cell_type": "code",
   "execution_count": null,
   "metadata": {},
   "outputs": [],
   "source": []
  },
  {
   "cell_type": "code",
   "execution_count": null,
   "metadata": {},
   "outputs": [],
   "source": []
  },
  {
   "cell_type": "code",
   "execution_count": null,
   "metadata": {},
   "outputs": [],
   "source": []
  },
  {
   "cell_type": "markdown",
   "metadata": {},
   "source": [
    "Note that methods (functions) and attribules (variables) belong to each object."
   ]
  },
  {
   "cell_type": "code",
   "execution_count": null,
   "metadata": {},
   "outputs": [],
   "source": []
  },
  {
   "cell_type": "code",
   "execution_count": null,
   "metadata": {},
   "outputs": [],
   "source": []
  },
  {
   "cell_type": "code",
   "execution_count": null,
   "metadata": {},
   "outputs": [],
   "source": []
  },
  {
   "cell_type": "code",
   "execution_count": null,
   "metadata": {},
   "outputs": [],
   "source": []
  },
  {
   "cell_type": "code",
   "execution_count": null,
   "metadata": {},
   "outputs": [],
   "source": []
  },
  {
   "cell_type": "code",
   "execution_count": null,
   "metadata": {},
   "outputs": [],
   "source": []
  },
  {
   "cell_type": "code",
   "execution_count": null,
   "metadata": {},
   "outputs": [],
   "source": []
  },
  {
   "cell_type": "code",
   "execution_count": null,
   "metadata": {},
   "outputs": [],
   "source": []
  },
  {
   "cell_type": "code",
   "execution_count": null,
   "metadata": {},
   "outputs": [],
   "source": []
  },
  {
   "cell_type": "markdown",
   "metadata": {},
   "source": [
    "# Full Example:"
   ]
  },
  {
   "cell_type": "code",
   "execution_count": null,
   "metadata": {},
   "outputs": [],
   "source": [
    "class Dog :\n",
    "    \"\"\" Blueprint of a dog \"\"\"\n",
    "    # class variable shared by all instances\n",
    "    species = [ \"canis lupus\" ]\n",
    "    def __init__ (self, name, color) :\n",
    "        self.name = name\n",
    "        self.state = \"sleeping\"\n",
    "        self.color = color\n",
    "    def command (self, x) :\n",
    "        if x == self.name:\n",
    "            self.bark( 2 )\n",
    "        elif x == \"sit\" :\n",
    "            self.state = \"sit\"\n",
    "        else :\n",
    "            self.state = \"wag tail\"\n",
    "    def bark (self, freq) :\n",
    "        for i in range(freq):\n",
    "            print( \"[\" + self.name + \"]: Woof!\" )"
   ]
  },
  {
   "cell_type": "code",
   "execution_count": null,
   "metadata": {},
   "outputs": [],
   "source": [
    "bello = Dog( \"bello\" , \"black\" )\n",
    "alice = Dog( \"alice\" , \"white\" )\n",
    "print(bello.color) # black\n",
    "print(alice.color) # white\n",
    "bello.bark( 1 ) # [bello]: Woof!\n",
    "alice.command( \"sit\" )\n",
    "print( \"[alice]: \" + alice.state)\n",
    "# [alice]: sit\n",
    "bello.command( \"no\" )\n",
    "print( \"[bello]: \" + bello.state)\n",
    "# [bello]: wag tail\n",
    "alice.command( \"alice\" )\n",
    "# [alice]: Woof!\n",
    "# [alice]: Woof!\n",
    "bello.species += [ \"wulf\" ]\n",
    "print(len(bello.species)\n",
    "== len(alice.species)) # True (!)"
   ]
  },
  {
   "cell_type": "markdown",
   "metadata": {},
   "source": [
    "---"
   ]
  },
  {
   "cell_type": "markdown",
   "metadata": {},
   "source": [
    "## You can create classes “on the fly” and use them as logical units to store complex data types."
   ]
  },
  {
   "cell_type": "code",
   "execution_count": null,
   "metadata": {},
   "outputs": [],
   "source": [
    "class Employee() :\n",
    "    pass\n",
    "\n",
    "employee = Employee()\n",
    "employee.salary = 122000\n",
    "employee.firstname = \"alice\"\n",
    "employee.lastname = \"wonderland\"\n",
    "print(employee.firstname + \" \" + employee.lastname + \" \" + str(employee.salary) + \"$\" )"
   ]
  },
  {
   "cell_type": "markdown",
   "metadata": {},
   "source": [
    "## Adding attributes & methods to a Pandas DataFrame"
   ]
  },
  {
   "cell_type": "code",
   "execution_count": null,
   "metadata": {},
   "outputs": [],
   "source": [
    "import pandas as pd\n",
    "df = pd.DataFrame()"
   ]
  },
  {
   "cell_type": "code",
   "execution_count": null,
   "metadata": {},
   "outputs": [],
   "source": [
    "df.myatribute = 'Manoel'"
   ]
  },
  {
   "cell_type": "code",
   "execution_count": null,
   "metadata": {},
   "outputs": [],
   "source": [
    "df.myatribute"
   ]
  },
  {
   "cell_type": "code",
   "execution_count": null,
   "metadata": {},
   "outputs": [],
   "source": [
    "type(df)"
   ]
  },
  {
   "cell_type": "markdown",
   "metadata": {},
   "source": [
    "# BUG"
   ]
  },
  {
   "cell_type": "code",
   "execution_count": null,
   "metadata": {},
   "outputs": [],
   "source": [
    "import pandas as pd\n",
    "df = pd.read_csv(\"anorexia.csv\")"
   ]
  },
  {
   "cell_type": "code",
   "execution_count": null,
   "metadata": {},
   "outputs": [],
   "source": [
    "df.group.value_counts()"
   ]
  },
  {
   "cell_type": "markdown",
   "metadata": {},
   "source": [
    "The following can be considered a \"bug\" in pandas because the result is very poorly understood."
   ]
  },
  {
   "cell_type": "code",
   "execution_count": null,
   "metadata": {},
   "outputs": [],
   "source": [
    "df.mode()"
   ]
  },
  {
   "cell_type": "markdown",
   "metadata": {},
   "source": [
    "## Let's solve it using some pandas options"
   ]
  },
  {
   "cell_type": "code",
   "execution_count": null,
   "metadata": {},
   "outputs": [],
   "source": [
    "import numpy as np\n",
    "df.mode().T.replace(np.nan,\"\")"
   ]
  },
  {
   "cell_type": "code",
   "execution_count": null,
   "metadata": {},
   "outputs": [],
   "source": [
    "def mode(self):\n",
    "    return self.mode().T.replace(np.nan,\"\")"
   ]
  },
  {
   "cell_type": "markdown",
   "metadata": {},
   "source": [
    "## Functional Programming"
   ]
  },
  {
   "cell_type": "code",
   "execution_count": null,
   "metadata": {},
   "outputs": [],
   "source": [
    "mode(df)"
   ]
  },
  {
   "cell_type": "markdown",
   "metadata": {},
   "source": [
    "## Object Oriented Programming - Adding Methods on the fly\n",
    "reference: https://stackoverflow.com/questions/972/adding-a-method-to-an-existing-object-instance"
   ]
  },
  {
   "cell_type": "code",
   "execution_count": null,
   "metadata": {},
   "outputs": [],
   "source": [
    "df.mode2 = mode.__get__(df)"
   ]
  },
  {
   "cell_type": "code",
   "execution_count": null,
   "metadata": {},
   "outputs": [],
   "source": [
    "df.mode2()"
   ]
  },
  {
   "cell_type": "markdown",
   "metadata": {},
   "source": [
    "## More Advanced Solution - Creating our own class with a DF inside"
   ]
  },
  {
   "cell_type": "code",
   "execution_count": null,
   "metadata": {},
   "outputs": [],
   "source": [
    "import pandas as pd    \n",
    "class CustomDF():\n",
    "    def  __init__(self, filename):\n",
    "        self.data = pd.read_csv(filename)\n",
    "    def mode(self):\n",
    "        return self.data.mode().T.replace(np.nan,\"\")\n",
    "    def set_df(self, df):\n",
    "        self.data = df\n",
    "    def get_df(self):\n",
    "        return self.data\n"
   ]
  },
  {
   "cell_type": "code",
   "execution_count": null,
   "metadata": {},
   "outputs": [],
   "source": [
    "csdf = CustomDF(\"anorexia.csv\")"
   ]
  },
  {
   "cell_type": "code",
   "execution_count": null,
   "metadata": {},
   "outputs": [],
   "source": [
    "type(csdf)"
   ]
  },
  {
   "cell_type": "code",
   "execution_count": null,
   "metadata": {},
   "outputs": [],
   "source": [
    "csdf.mode()"
   ]
  },
  {
   "cell_type": "code",
   "execution_count": null,
   "metadata": {},
   "outputs": [],
   "source": [
    "csdf.set_df(df)"
   ]
  },
  {
   "cell_type": "code",
   "execution_count": null,
   "metadata": {},
   "outputs": [],
   "source": [
    "csdf.mode()"
   ]
  },
  {
   "cell_type": "code",
   "execution_count": null,
   "metadata": {},
   "outputs": [],
   "source": [
    "df2 = csdf.get_df()"
   ]
  },
  {
   "cell_type": "code",
   "execution_count": null,
   "metadata": {},
   "outputs": [],
   "source": [
    "type(df2)"
   ]
  },
  {
   "cell_type": "code",
   "execution_count": null,
   "metadata": {},
   "outputs": [],
   "source": [
    "df2.mode()"
   ]
  },
  {
   "cell_type": "markdown",
   "metadata": {},
   "source": [
    "## Exercise part 1 - create a class named Company with the following attributes:\n",
    "* nif: company fiscal number\n",
    "* company_name: Company Name\n",
    "* CNAE: Business Sector\n",
    "* p10000: Total Assets / Total activos\n",
    "* p20000: Own Capital / Patrimonio neto\n",
    "* p31200: Short Term Debt / Deuda a corto plazo\n",
    "* p32300: Long Term Debt / Deuda a largo plazo\n",
    "* p40100_40500: Sales Turnover (Ingresos de Explotación) + Other sales (Otros Ingresos)\n",
    "* p40800: Amortization (Amortización)\n",
    "* p49100: Profit (Resultado del ejercicio)\n",
    "\n"
   ]
  },
  {
   "cell_type": "code",
   "execution_count": null,
   "metadata": {},
   "outputs": [],
   "source": []
  },
  {
   "cell_type": "markdown",
   "metadata": {},
   "source": [
    "Then, a constructor to set those values. Test with:"
   ]
  },
  {
   "cell_type": "code",
   "execution_count": null,
   "metadata": {},
   "outputs": [],
   "source": [
    "c1 = Company('A28015865', # nif: company fiscal number\n",
    "        'Telefonica, SA', # company_name: Company Name\n",
    "        6420,             # CNAE: Sector de la Empresa\n",
    "        115066000.0,      # p10000: Total Assets / Total activos\n",
    "        26618000.0,       # p20000: Own Capital / Patrimonio neto\n",
    "        46332000.0,       # p31200: Short Term Debt / Deuda a corto plazo\n",
    "        9414000.0,        # p32300: Long Term Debt / Deuda a largo plazo\n",
    "        -9396000.0,       # p40800: Amortization (Amortización)\n",
    "        52455000.0,       # p40100_40500: Sales Turnover (Ingresos de Explotación) + Other sales (Otros Ingresos)\n",
    "        6791000.0)        # p49100: Profit (Resultado del ejercicio)\n",
    "\n"
   ]
  },
  {
   "cell_type": "markdown",
   "metadata": {},
   "source": [
    "## Part 2 - create 3 methods\n",
    "\n",
    "* 1: get_ebitda_margin: Ebitda / Turn over (Ventas)\n",
    "* calculate and return: (p49100 + abs(p40800)) / p40100_40500\n",
    "* test using: e.get_ebitda_margin()\n",
    "\n",
    "\n",
    "* 2: get_total_debt_ebitda: Total Debt / Ebita \n",
    "* calculate and return: (p31200+p32300)/(p49100 + abs(p40800))\n",
    "* test using: e.get_total_debt_ebitda()\n",
    "\n",
    "\n",
    "* 3: get_leverage: Financial leveraging / apalancamiento financiero \n",
    "* calculate and return: (p10000-p20000)/p20000\n",
    "* test using: e.get_leverage()"
   ]
  },
  {
   "cell_type": "code",
   "execution_count": null,
   "metadata": {},
   "outputs": [],
   "source": []
  },
  {
   "cell_type": "code",
   "execution_count": null,
   "metadata": {},
   "outputs": [],
   "source": []
  }
 ],
 "metadata": {
  "kernelspec": {
   "display_name": "Python 3",
   "language": "python",
   "name": "python3"
  },
  "language_info": {
   "codemirror_mode": {
    "name": "ipython",
    "version": 3
   },
   "file_extension": ".py",
   "mimetype": "text/x-python",
   "name": "python",
   "nbconvert_exporter": "python",
   "pygments_lexer": "ipython3",
   "version": "3.8.3"
  }
 },
 "nbformat": 4,
 "nbformat_minor": 2
}
