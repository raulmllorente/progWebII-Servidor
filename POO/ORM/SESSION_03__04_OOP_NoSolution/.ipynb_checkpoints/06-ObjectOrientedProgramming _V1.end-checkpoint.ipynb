{
 "cells": [
  {
   "cell_type": "markdown",
   "metadata": {},
   "source": [
    "#  Object Oriented Programming (OOP)\n",
    "\n",
    "<img src=\"profile_manoelgadi.png\" width=100 height=100 align=\"right\">\n",
    "\n",
    "Author: Prof. Manoel Gadi\n",
    "\n",
    "Contact: mfalonso@faculty.ie.edu\n",
    "\n",
    "Teaching Web: http://mfalonso.pythonanywhere.com\n",
    "\n",
    "Last revision: 27/June/2021\n",
    "\n",
    "---"
   ]
  },
  {
   "cell_type": "markdown",
   "metadata": {},
   "source": [
    "## Difference between Procedure Oriented and  Object Oriented Programming!\n",
    "\n",
    "* Procedural programming creates a step by step program that  guides the application through a sequence of instructions. Each  instruction is executed in order.\n",
    "* Procedural programming also focuses on the idea that all  algorithms are executed with functions and data that the  programmer has access to and is able to change.\n",
    "* Object-Oriented programming is much more similar to the way  the real world works; it is analogous to the human brain. Each  program is made up of many entities called objects.\n",
    "* Instead, a message must be sent requesting the data, just like  people must ask one another for information; we cannot see  inside each other’s heads.\n",
    "\n",
    "\n",
    "__del something__ # (1) It is __procedural programming__ (PP)\n",
    "\n",
    "__del(something)__ # (2) It is __functional programming__ (FP)\n",
    "\n",
    "__something.del()__ # (3) It is __object oriented programming__ (OOP)\n",
    "\n",
    "3 different paradigms, and Python is 90% (3 - OOP), 9% (2 - FP) and some bizarre cases it is (1 - PP) like in del my_dict[key]!!!\n",
    "\n"
   ]
  },
  {
   "cell_type": "markdown",
   "metadata": {},
   "source": [
    "The following is a method that can only be applied to strings so lower(a) makes no sense because lower(10) would fail:"
   ]
  },
  {
   "cell_type": "code",
   "execution_count": null,
   "metadata": {},
   "outputs": [],
   "source": [
    "a = ' BiG MuG '\n",
    "a.lower() "
   ]
  },
  {
   "cell_type": "code",
   "execution_count": null,
   "metadata": {},
   "outputs": [],
   "source": [
    "a.upper()"
   ]
  },
  {
   "cell_type": "code",
   "execution_count": null,
   "metadata": {},
   "outputs": [],
   "source": [
    "a.strip()"
   ]
  },
  {
   "cell_type": "markdown",
   "metadata": {},
   "source": [
    "Chainning methods as the returned object if from the same type as the original"
   ]
  },
  {
   "cell_type": "code",
   "execution_count": null,
   "metadata": {},
   "outputs": [],
   "source": [
    "type(a), type(a.strip())"
   ]
  },
  {
   "cell_type": "code",
   "execution_count": null,
   "metadata": {},
   "outputs": [],
   "source": [
    "a.strip().upper()"
   ]
  },
  {
   "cell_type": "code",
   "execution_count": null,
   "metadata": {},
   "outputs": [],
   "source": [
    "a.strip().upper().split(' ')"
   ]
  },
  {
   "cell_type": "markdown",
   "metadata": {},
   "source": [
    "Using join to turn the list back into a string"
   ]
  },
  {
   "cell_type": "code",
   "execution_count": null,
   "metadata": {},
   "outputs": [],
   "source": [
    "';'.join(a.strip().upper().split(' '))"
   ]
  },
  {
   "cell_type": "markdown",
   "metadata": {},
   "source": [
    "## The rule of thumb in Python for methods vs. functions\n",
    "__A function can be applied to one or more type__ of things (objects), while __methods are specific and can only be applied to one type__, “things” (objects) of one given type (one given class)  \n"
   ]
  },
  {
   "cell_type": "code",
   "execution_count": null,
   "metadata": {},
   "outputs": [],
   "source": [
    "import random as rd\n",
    "frog_tuple = ('L','L','L','','R','R','R')\n",
    "frog_list = ['L','L','L','','R','R','R']"
   ]
  },
  {
   "cell_type": "code",
   "execution_count": null,
   "metadata": {},
   "outputs": [],
   "source": [
    "def randomize_frogs(frogs):\n",
    "    \"\"\"\n",
    "    Randomizes the order of the frogs without altering the original list / tuple types\n",
    "     Input: List / Tuple of elements\n",
    "     Output: New List / Tuple of elements in random order\n",
    "    \"\"\"\n",
    "    if type(frogs) not in (list,tuple):\n",
    "        print('Error: El tipo de entrada tiene que ser lista o tupla')\n",
    "        return(None)\n",
    "    t = True if type(frogs) == tuple else False    \n",
    "    frogs = list(frogs).copy()\n",
    "    for x in range(len(frogs)):\n",
    "        rd1 = x\n",
    "        rd2 = rd.randint(0,6)\n",
    "        frogs[rd1],frogs[rd2] = frogs[rd2],frogs[rd1]\n",
    "    # if t == True:\n",
    "    #     return(tuple(lista))\n",
    "    # else:\n",
    "    #     return(lista)\n",
    "    return(tuple(frogs) if t else frogs)   \n"
   ]
  },
  {
   "cell_type": "markdown",
   "metadata": {},
   "source": [
    "Note that if we send a tuple the function returns a tuple"
   ]
  },
  {
   "cell_type": "code",
   "execution_count": null,
   "metadata": {},
   "outputs": [],
   "source": [
    "frog_tuple_res = randomize_frogs(frog_tuple)\n",
    "type(frog_tuple_res),frog_tuple_res"
   ]
  },
  {
   "cell_type": "markdown",
   "metadata": {},
   "source": [
    "Note that if we send a tuple the list returns a list"
   ]
  },
  {
   "cell_type": "code",
   "execution_count": null,
   "metadata": {},
   "outputs": [],
   "source": [
    "frog_list_res = randomize_frogs(frog_list)\n",
    "type(frog_list_res),frog_list_res"
   ]
  },
  {
   "cell_type": "markdown",
   "metadata": {},
   "source": [
    "Therefore, this is a clear candidate to remain a function."
   ]
  },
  {
   "cell_type": "markdown",
   "metadata": {},
   "source": [
    "# Classes\n",
    "<img src=\"classes1.png\" width=500 align=\"center\">\n",
    "\n",
    "## Using a Class to Make Many Objects\n",
    "\n",
    "A class is like a cookie cutter that can be used many times to make many cookies. There is only one cookie cutter, but can be used to make many cookies. Cookies are objects and each one has its own individuality because each one is made out of a different section of dough. Different cookies may have different characteristics, even though they follow the same basic pattern. For example, different cookies can have different candy sprinkles or frosting, or be backed for different times.\n",
    "\n",
    "Cookies can be created. And cookies can be destroyed (just ask Cookie Monster). But destroying cookies does not affect the cookie cutter. It can be used again if there is dough left.\n",
    "\n",
    "A big cookie jar might require many cookies made with many different cookie patterns (stars, hearts, squares, gingerbread androids...) A big cookie (such as a gingerbread house) might be built out of many smaller cookies of several different types. \n",
    "\n",
    "<img src=\"cookieDough.gif\" width=500 align=\"center\">\n",
    "\n",
    "## Object (Instance of a Class)\n",
    "\n",
    "<img src=\"classes2.png\" width=500 align=\"center\">"
   ]
  },
  {
   "cell_type": "markdown",
   "metadata": {},
   "source": [
    "## Features of OOP\n",
    "\n",
    "* Ability to simulate real-world event much more effectively\n",
    "* Code is reusable thus less code may have to be written\n",
    "* Data becomes active\n",
    "* Better able to create GUI (graphical user interface) applications\n",
    "* Programmers are able to produce faster, more accurate and better-  written applications\n",
    "\n",
    "# The four major principles of object orientation are:\n",
    "* Encapsulation - Attributes (variables) and Methods (functions) belong to the single object and can only be used/applied to that particular object.\n",
    "* Data Abstraction - \"shows\" only essential attributes and \"hides\" unnecessary information.\n",
    "* Inheritance - the super power of creating a new class with more attributes or methods by extending another, example creating your own Pandas Dataframe ;-)\n",
    "* Polymorphism - the ability of an object to take on many forms - For example, lets say we have a class Animal that has a method sound() . Since this is a generic class so we can't give it a implementation like: Roar, Meow, Oink etc. We had to give a generic message.\n",
    "\n",
    "# What is an Object..?\n",
    "* Objects\tare\tthe\tbasic\trun-time\tentities\tin\tan\tobject-oriented system.\n",
    "* They may represent a person, a place, a bank account, a table of  data or any item that the program must handle.\n",
    "* When\ta\tprogram\tis\texecuted\tthe\tobjects\tinteract\tby\tsending messages to one another.\n",
    "* Objects have two components: Data (i.e., attributes) / Behaviors (i.e., methods)\n"
   ]
  },
  {
   "cell_type": "markdown",
   "metadata": {},
   "source": [
    "## Let's create a class \n"
   ]
  },
  {
   "cell_type": "code",
   "execution_count": null,
   "metadata": {},
   "outputs": [],
   "source": [
    "class Dog :\n",
    "    # class attribute\n",
    "    is_hairy = True\n",
    "    bark_counter = 0\n",
    "    # constructor\n",
    "    def __init__ (self, name):\n",
    "        # instance attribute\n",
    "        self.name = name\n",
    "    # method\n",
    "    def bark (self):\n",
    "        self.bark_counter += 1\n",
    "        return( \"Wuff\" )"
   ]
  },
  {
   "cell_type": "markdown",
   "metadata": {},
   "source": [
    "### Self (the object itself calling the method)\n",
    "\n",
    "<img src=\"classes3b.png\" width=500 align=\"center\">"
   ]
  },
  {
   "cell_type": "code",
   "execution_count": null,
   "metadata": {},
   "outputs": [],
   "source": [
    "bello = Dog( \"bello\" )"
   ]
  },
  {
   "cell_type": "code",
   "execution_count": null,
   "metadata": {},
   "outputs": [],
   "source": [
    "paris = Dog( \"paris\" )"
   ]
  },
  {
   "cell_type": "code",
   "execution_count": null,
   "metadata": {},
   "outputs": [],
   "source": [
    "print(bello.name)"
   ]
  },
  {
   "cell_type": "code",
   "execution_count": null,
   "metadata": {},
   "outputs": [],
   "source": [
    "print(paris.name)"
   ]
  },
  {
   "cell_type": "markdown",
   "metadata": {},
   "source": [
    "Note that methods (functions) and attribules (variables) belong to each object."
   ]
  },
  {
   "cell_type": "code",
   "execution_count": null,
   "metadata": {},
   "outputs": [],
   "source": [
    "bello.bark(), bello.bark_counter"
   ]
  },
  {
   "cell_type": "code",
   "execution_count": null,
   "metadata": {},
   "outputs": [],
   "source": [
    "bello.bark(), bello.bark_counter"
   ]
  },
  {
   "cell_type": "code",
   "execution_count": null,
   "metadata": {},
   "outputs": [],
   "source": [
    "bello.bark(), bello.bark_counter"
   ]
  },
  {
   "cell_type": "code",
   "execution_count": null,
   "metadata": {},
   "outputs": [],
   "source": [
    "paris.bark(), paris.bark_counter"
   ]
  },
  {
   "cell_type": "code",
   "execution_count": null,
   "metadata": {},
   "outputs": [],
   "source": [
    "paris.bark(), paris.bark_counter"
   ]
  },
  {
   "cell_type": "code",
   "execution_count": null,
   "metadata": {},
   "outputs": [],
   "source": [
    "class Cat :\n",
    "    # method overloading\n",
    "    def miau (self, times= 1 ):\n",
    "        print( \"miau \" * times)"
   ]
  },
  {
   "cell_type": "code",
   "execution_count": null,
   "metadata": {},
   "outputs": [],
   "source": [
    "fifi = Cat()"
   ]
  },
  {
   "cell_type": "code",
   "execution_count": null,
   "metadata": {},
   "outputs": [],
   "source": [
    "fifi.miau()"
   ]
  },
  {
   "cell_type": "code",
   "execution_count": null,
   "metadata": {},
   "outputs": [],
   "source": [
    "fifi.miau( 5 )"
   ]
  },
  {
   "cell_type": "markdown",
   "metadata": {},
   "source": [
    "# Full Example:"
   ]
  },
  {
   "cell_type": "code",
   "execution_count": null,
   "metadata": {},
   "outputs": [],
   "source": [
    "class Dog :\n",
    "    \"\"\" Blueprint of a dog \"\"\"\n",
    "    # class variable shared by all instances\n",
    "    species = [ \"canis lupus\" ]\n",
    "    def __init__ (self, name, color) :\n",
    "        self.name = name\n",
    "        self.state = \"sleeping\"\n",
    "        self.color = color\n",
    "    def command (self, x) :\n",
    "        if x == self.name:\n",
    "            self.bark( 2 )\n",
    "        elif x == \"sit\" :\n",
    "            self.state = \"sit\"\n",
    "        else :\n",
    "            self.state = \"wag tail\"\n",
    "    def bark (self, freq) :\n",
    "        for i in range(freq):\n",
    "            print( \"[\" + self.name + \"]: Woof!\" )"
   ]
  },
  {
   "cell_type": "code",
   "execution_count": null,
   "metadata": {},
   "outputs": [],
   "source": [
    "bello = Dog( \"bello\" , \"black\" )\n",
    "alice = Dog( \"alice\" , \"white\" )\n",
    "print(bello.color) # black\n",
    "print(alice.color) # white\n",
    "bello.bark( 1 ) # [bello]: Woof!\n",
    "alice.command( \"sit\" )\n",
    "print( \"[alice]: \" + alice.state)\n",
    "# [alice]: sit\n",
    "bello.command( \"no\" )\n",
    "print( \"[bello]: \" + bello.state)\n",
    "# [bello]: wag tail\n",
    "alice.command( \"alice\" )\n",
    "# [alice]: Woof!\n",
    "# [alice]: Woof!\n",
    "bello.species += [ \"wulf\" ]\n",
    "print(len(bello.species)\n",
    "== len(alice.species)) # True (!)"
   ]
  },
  {
   "cell_type": "markdown",
   "metadata": {},
   "source": [
    "---\n",
    "## You can create classes “on the fly” and use them as logical units to store complex data types."
   ]
  },
  {
   "cell_type": "code",
   "execution_count": null,
   "metadata": {},
   "outputs": [],
   "source": [
    "class Employee() :\n",
    "    pass\n",
    "\n",
    "employee = Employee()\n",
    "employee.salary = 122000\n",
    "employee.firstname = \"alice\"\n",
    "employee.lastname = \"wonderland\"\n",
    "print(employee.firstname + \" \" + employee.lastname + \" \" + str(employee.salary) + \"$\" )"
   ]
  },
  {
   "cell_type": "markdown",
   "metadata": {},
   "source": [
    "## Adding attributes & methods to a Pandas DataFrame"
   ]
  },
  {
   "cell_type": "code",
   "execution_count": null,
   "metadata": {},
   "outputs": [],
   "source": [
    "import pandas as pd\n",
    "df = pd.DataFrame()"
   ]
  },
  {
   "cell_type": "code",
   "execution_count": null,
   "metadata": {},
   "outputs": [],
   "source": [
    "df.myatribute = 'Manoel'"
   ]
  },
  {
   "cell_type": "code",
   "execution_count": null,
   "metadata": {},
   "outputs": [],
   "source": [
    "df.myatribute"
   ]
  },
  {
   "cell_type": "code",
   "execution_count": null,
   "metadata": {},
   "outputs": [],
   "source": [
    "type(df)"
   ]
  },
  {
   "cell_type": "markdown",
   "metadata": {},
   "source": [
    "# BUG"
   ]
  },
  {
   "cell_type": "code",
   "execution_count": null,
   "metadata": {},
   "outputs": [],
   "source": [
    "import pandas as pd\n",
    "df = pd.read_csv(\"anorexia.csv\")"
   ]
  },
  {
   "cell_type": "code",
   "execution_count": null,
   "metadata": {},
   "outputs": [],
   "source": [
    "df.group.value_counts()"
   ]
  },
  {
   "cell_type": "markdown",
   "metadata": {},
   "source": [
    "The following can be considered a \"bug\" in pandas because the result is very poorly understood."
   ]
  },
  {
   "cell_type": "code",
   "execution_count": null,
   "metadata": {},
   "outputs": [],
   "source": [
    "df.mode()"
   ]
  },
  {
   "cell_type": "markdown",
   "metadata": {},
   "source": [
    "## Let's solve it using some pandas options"
   ]
  },
  {
   "cell_type": "code",
   "execution_count": null,
   "metadata": {},
   "outputs": [],
   "source": [
    "import numpy as np\n",
    "df.mode().T.replace(np.nan,\"\")"
   ]
  },
  {
   "cell_type": "code",
   "execution_count": null,
   "metadata": {},
   "outputs": [],
   "source": [
    "def mode(self):\n",
    "    return self.mode().T.replace(np.nan,\"\")"
   ]
  },
  {
   "cell_type": "markdown",
   "metadata": {},
   "source": [
    "## Functional Programming"
   ]
  },
  {
   "cell_type": "code",
   "execution_count": null,
   "metadata": {},
   "outputs": [],
   "source": [
    "mode(df)"
   ]
  },
  {
   "cell_type": "markdown",
   "metadata": {},
   "source": [
    "## Object Oriented Programming - Adding Methods on the fly\n",
    "reference: https://stackoverflow.com/questions/972/adding-a-method-to-an-existing-object-instance"
   ]
  },
  {
   "cell_type": "code",
   "execution_count": null,
   "metadata": {},
   "outputs": [],
   "source": [
    "df.mode2 = mode.__get__(df)"
   ]
  },
  {
   "cell_type": "code",
   "execution_count": null,
   "metadata": {},
   "outputs": [],
   "source": [
    "df.mode2()"
   ]
  },
  {
   "cell_type": "markdown",
   "metadata": {},
   "source": [
    "## More Advanced Solution - Creating our own class with a DF inside"
   ]
  },
  {
   "cell_type": "code",
   "execution_count": null,
   "metadata": {},
   "outputs": [],
   "source": [
    "import pandas as pd    \n",
    "class CustomDF():\n",
    "    def  __init__(self, filename):\n",
    "        self.data = pd.read_csv(filename)\n",
    "    def mode(self):\n",
    "        return self.data.mode().T.replace(np.nan,\"\")\n",
    "    def set_df(self, df):\n",
    "        self.data = df\n",
    "    def get_df(self):\n",
    "        return self.data\n"
   ]
  },
  {
   "cell_type": "code",
   "execution_count": null,
   "metadata": {},
   "outputs": [],
   "source": [
    "csdf = CustomDF(\"anorexia.csv\")"
   ]
  },
  {
   "cell_type": "code",
   "execution_count": null,
   "metadata": {},
   "outputs": [],
   "source": [
    "type(csdf)"
   ]
  },
  {
   "cell_type": "code",
   "execution_count": null,
   "metadata": {},
   "outputs": [],
   "source": [
    "csdf.mode()"
   ]
  },
  {
   "cell_type": "code",
   "execution_count": null,
   "metadata": {},
   "outputs": [],
   "source": [
    "csdf.set_df(df)"
   ]
  },
  {
   "cell_type": "code",
   "execution_count": null,
   "metadata": {},
   "outputs": [],
   "source": [
    "csdf.mode()"
   ]
  },
  {
   "cell_type": "code",
   "execution_count": null,
   "metadata": {},
   "outputs": [],
   "source": [
    "df2 = csdf.get_df()"
   ]
  },
  {
   "cell_type": "code",
   "execution_count": null,
   "metadata": {},
   "outputs": [],
   "source": [
    "type(df2)"
   ]
  },
  {
   "cell_type": "code",
   "execution_count": null,
   "metadata": {},
   "outputs": [],
   "source": [
    "df2.mode()"
   ]
  },
  {
   "cell_type": "markdown",
   "metadata": {},
   "source": [
    "## Exercise part 1 - create a class named Company with the following attributes:\n",
    "* nif: company fiscal number\n",
    "* company_name: Company Name\n",
    "* CNAE: Business Sector\n",
    "* p10000: Total Assets / Total activos\n",
    "* p20000: Own Capital / Patrimonio neto\n",
    "* p31200: Short Term Debt / Deuda a corto plazo\n",
    "* p32300: Long Term Debt / Deuda a largo plazo\n",
    "* p40100_40500: Sales Turnover (Ingresos de Explotación) + Other sales (Otros Ingresos)\n",
    "* p40800: Amortization (Amortización)\n",
    "* p49100: Profit (Resultado del ejercicio)\n",
    "\n"
   ]
  },
  {
   "cell_type": "code",
   "execution_count": null,
   "metadata": {},
   "outputs": [],
   "source": []
  },
  {
   "cell_type": "markdown",
   "metadata": {},
   "source": [
    "Then, a constructor to set those values. Test with:"
   ]
  },
  {
   "cell_type": "code",
   "execution_count": null,
   "metadata": {},
   "outputs": [],
   "source": [
    "c1 = Company('A28015865', # nif: company fiscal number\n",
    "        'Telefonica, SA', # company_name: Company Name\n",
    "        6420,             # CNAE: Sector de la Empresa\n",
    "        115066000.0,      # p10000: Total Assets / Total activos\n",
    "        26618000.0,       # p20000: Own Capital / Patrimonio neto\n",
    "        46332000.0,       # p31200: Short Term Debt / Deuda a corto plazo\n",
    "        9414000.0,        # p32300: Long Term Debt / Deuda a largo plazo\n",
    "        -9396000.0,       # p40800: Amortization (Amortización)\n",
    "        52455000.0,       # p40100_40500: Sales Turnover (Ingresos de Explotación) + Other sales (Otros Ingresos)\n",
    "        6791000.0)        # p49100: Profit (Resultado del ejercicio)\n",
    "\n"
   ]
  },
  {
   "cell_type": "markdown",
   "metadata": {},
   "source": [
    "## Part 2 - create 3 methods\n",
    "\n",
    "* 1: get_ebitda_margin: Ebitda / Turn over (Ventas)\n",
    "* calculate and return: (p49100 + abs(p40800)) / p40100_40500\n",
    "* test using: e.get_ebitda_margin()\n",
    "\n",
    "\n",
    "* 2: get_total_debt_ebitda: Total Debt / Ebita \n",
    "* calculate and return: (p31200+p32300)/(p49100 + abs(p40800))\n",
    "* test using: e.get_total_debt_ebitda()\n",
    "\n",
    "\n",
    "* 3: get_leverage: Financial leveraging / apalancamiento financiero \n",
    "* calculate and return: (p10000-p20000)/p20000\n",
    "* test using: e.get_leverage()"
   ]
  },
  {
   "cell_type": "markdown",
   "metadata": {},
   "source": [
    "# 07 - Rating Case Study - Model development part 3\n",
    "\n",
    "## Creanting a code prof_manoel_gadi_model_dev_support.py with the code we are going to be using in many different projects."
   ]
  },
  {
   "cell_type": "code",
   "execution_count": 1,
   "metadata": {},
   "outputs": [],
   "source": [
    "#IMPORTING LIBRARIES\n",
    "import pandas as pd\n",
    "import statsmodels.api as sm\n",
    "\n",
    "# READING THE DEVELOPEMENT DATAFRAME!\n",
    "output_var = 'target_increase_in_risk'\n",
    "list_of_bucket_fields = ['Market Cap_group', 'Enterprise Value_group', 'Trailing P/E_group', 'Forward P/E_group', 'PEG Ratio_group', 'Price/Sales_group', 'Price/Book_group', 'Enterprise Value/Revenue_group', 'Enterprise Value/EBITDA_group', 'Profit Margin_group', 'Operating Margin_group', 'Return on Assets_group', 'Return on Equity_group', 'Revenue_group', 'Revenue Per Share_group', 'Quarterly Revenue Growth_group', 'Gross Profit_group', 'EBITDA_group', 'Net Income Avi to Common_group', 'Diluted EPS_group', 'Quarterly Earnings Growth_group', 'Total Cash_group', 'Total Cash Per Share_group', 'Total Debt_group', 'Total Debt/Equity_group', 'Current Ratio_group', 'Book Value Per Share_group', 'Operating Cash Flow_group', 'Levered Free Cash Flow_group', '52-Week Change_group', 'S&amp;P500 52-Week Change_group', '52 Week High_group', '52 Week Low_group', '50-Day Moving Average_group', '200-Day Moving Average_group', 'Avg Vol (3 month)_group', 'Avg Vol (10 day)_group', 'Shares Outstanding_group', 'Float_group', '% Held by Insiders_group', '% Held by Institutions_group', 'Shares Short_group', 'Short Ratio_group', 'Short % of Float_group', 'Shares Short (prior month)_group', 'Forward Annual Dividend Rate_group', 'Forward Annual Dividend Yield_group', 'Trailing Annual Dividend Rate_group', 'Trailing Annual Dividend Yield_group', '5 Year Average Dividend Yield_group', 'Payout Ratio_group']\n",
    "\n",
    "df_dev = pd.read_excel(\"yahoo_ticker_new_beta_20180306.xlsx\")\n",
    "y_dev = df_dev[output_var]\n",
    "X_dev = df_dev[list_of_bucket_fields]\n",
    "\n",
    "# READING THE OUT-OF-TIME DATAFRAME!\n",
    "df_oot = pd.read_excel(\"oot_yahoo_ticker_new_beta_20180226.xlsx\")\n",
    "y_oot = df_oot[output_var]\n",
    "X_oot = df_oot[list_of_bucket_fields]"
   ]
  },
  {
   "cell_type": "code",
   "execution_count": 2,
   "metadata": {},
   "outputs": [
    {
     "name": "stderr",
     "output_type": "stream",
     "text": [
      "C:\\Anaconda3\\lib\\site-packages\\sklearn\\utils\\deprecation.py:143: FutureWarning: The sklearn.linear_model.logistic module is  deprecated in version 0.22 and will be removed in version 0.24. The corresponding classes / functions should instead be imported from sklearn.linear_model. Anything that cannot be imported from sklearn.linear_model is now part of the private API.\n",
      "  warnings.warn(message, FutureWarning)\n"
     ]
    }
   ],
   "source": [
    "from prof_manoel_gadi_model_dev_support import *"
   ]
  },
  {
   "cell_type": "code",
   "execution_count": 3,
   "metadata": {},
   "outputs": [
    {
     "name": "stdout",
     "output_type": "stream",
     "text": [
      "{'model': LinearRegression(), 'accuracy_train': 0.2420382903447491, 'ks_train': 0.46521739130434847, 'gini_train': 0.5130434782608693, 'accuracy_test': -0.01785348939710385, 'ks_test': 0.32467532467532506, 'gini_test': 0.2943722943722944}\n"
     ]
    }
   ],
   "source": [
    "dict_trained_model = train_method(X_dev, y_dev,X_oot,y_oot,\"LR\")\n",
    "print(dict_trained_model)"
   ]
  },
  {
   "cell_type": "code",
   "execution_count": 4,
   "metadata": {},
   "outputs": [],
   "source": [
    "method_list = ['LR','LASSO', 'DT', 'LOGR','RIDGE','RFR','RFC','GBR']"
   ]
  },
  {
   "cell_type": "code",
   "execution_count": 5,
   "metadata": {},
   "outputs": [
    {
     "name": "stderr",
     "output_type": "stream",
     "text": [
      "C:\\Anaconda3\\lib\\site-packages\\sklearn\\linear_model\\_logistic.py:762: ConvergenceWarning: lbfgs failed to converge (status=1):\n",
      "STOP: TOTAL NO. of ITERATIONS REACHED LIMIT.\n",
      "\n",
      "Increase the number of iterations (max_iter) or scale the data as shown in:\n",
      "    https://scikit-learn.org/stable/modules/preprocessing.html\n",
      "Please also refer to the documentation for alternative solver options:\n",
      "    https://scikit-learn.org/stable/modules/linear_model.html#logistic-regression\n",
      "  n_iter_i = _check_optimize_result(\n"
     ]
    }
   ],
   "source": [
    "# We develop the model in df_dev and test is on df_oot.\n",
    "data = []\n",
    "for method in method_list:\n",
    "    dict_trained_model[method] = train_method(X_dev, y_dev,X_oot,y_oot,method)\n",
    "#    print (dict_trained_model[method])\n",
    "    data.append([method, dict_trained_model[method]['accuracy_train'], dict_trained_model[method]['accuracy_test'], dict_trained_model[method]['gini_train'], dict_trained_model[method]['gini_test'], dict_trained_model[method]['ks_train'], dict_trained_model[method]['ks_test']])\n",
    "\n",
    "df_result_summary = pd.DataFrame(data,columns=['method','accuracy_train', 'accuracy_test', 'gini_train', 'gini_test', 'ks_train', 'ks_test'])    "
   ]
  },
  {
   "cell_type": "code",
   "execution_count": 6,
   "metadata": {},
   "outputs": [
    {
     "data": {
      "text/html": [
       "<div>\n",
       "<style scoped>\n",
       "    .dataframe tbody tr th:only-of-type {\n",
       "        vertical-align: middle;\n",
       "    }\n",
       "\n",
       "    .dataframe tbody tr th {\n",
       "        vertical-align: top;\n",
       "    }\n",
       "\n",
       "    .dataframe thead th {\n",
       "        text-align: right;\n",
       "    }\n",
       "</style>\n",
       "<table border=\"1\" class=\"dataframe\">\n",
       "  <thead>\n",
       "    <tr style=\"text-align: right;\">\n",
       "      <th></th>\n",
       "      <th>method</th>\n",
       "      <th>accuracy_train</th>\n",
       "      <th>accuracy_test</th>\n",
       "      <th>gini_train</th>\n",
       "      <th>gini_test</th>\n",
       "      <th>ks_train</th>\n",
       "      <th>ks_test</th>\n",
       "    </tr>\n",
       "  </thead>\n",
       "  <tbody>\n",
       "    <tr>\n",
       "      <th>0</th>\n",
       "      <td>LR</td>\n",
       "      <td>0.242038</td>\n",
       "      <td>-0.017853</td>\n",
       "      <td>0.513043</td>\n",
       "      <td>0.294372</td>\n",
       "      <td>0.465217</td>\n",
       "      <td>0.324675</td>\n",
       "    </tr>\n",
       "    <tr>\n",
       "      <th>1</th>\n",
       "      <td>LASSO</td>\n",
       "      <td>0.197391</td>\n",
       "      <td>0.024700</td>\n",
       "      <td>0.497826</td>\n",
       "      <td>0.288961</td>\n",
       "      <td>0.386957</td>\n",
       "      <td>0.282468</td>\n",
       "    </tr>\n",
       "    <tr>\n",
       "      <th>2</th>\n",
       "      <td>DT</td>\n",
       "      <td>0.813953</td>\n",
       "      <td>0.732558</td>\n",
       "      <td>0.768478</td>\n",
       "      <td>0.498377</td>\n",
       "      <td>0.635870</td>\n",
       "      <td>0.468615</td>\n",
       "    </tr>\n",
       "    <tr>\n",
       "      <th>3</th>\n",
       "      <td>LOGR</td>\n",
       "      <td>0.732558</td>\n",
       "      <td>0.639535</td>\n",
       "      <td>0.570652</td>\n",
       "      <td>0.306277</td>\n",
       "      <td>0.498913</td>\n",
       "      <td>0.367965</td>\n",
       "    </tr>\n",
       "    <tr>\n",
       "      <th>4</th>\n",
       "      <td>RIDGE</td>\n",
       "      <td>0.242038</td>\n",
       "      <td>-0.017714</td>\n",
       "      <td>0.513043</td>\n",
       "      <td>0.294372</td>\n",
       "      <td>0.465217</td>\n",
       "      <td>0.324675</td>\n",
       "    </tr>\n",
       "    <tr>\n",
       "      <th>5</th>\n",
       "      <td>RFR</td>\n",
       "      <td>0.843293</td>\n",
       "      <td>0.481765</td>\n",
       "      <td>1.000000</td>\n",
       "      <td>0.769481</td>\n",
       "      <td>1.000000</td>\n",
       "      <td>0.813853</td>\n",
       "    </tr>\n",
       "    <tr>\n",
       "      <th>6</th>\n",
       "      <td>RFC</td>\n",
       "      <td>1.000000</td>\n",
       "      <td>0.895349</td>\n",
       "      <td>1.000000</td>\n",
       "      <td>0.742424</td>\n",
       "      <td>1.000000</td>\n",
       "      <td>0.812771</td>\n",
       "    </tr>\n",
       "    <tr>\n",
       "      <th>7</th>\n",
       "      <td>GBR</td>\n",
       "      <td>1.000000</td>\n",
       "      <td>0.422119</td>\n",
       "      <td>0.976087</td>\n",
       "      <td>0.718615</td>\n",
       "      <td>0.953261</td>\n",
       "      <td>0.766234</td>\n",
       "    </tr>\n",
       "  </tbody>\n",
       "</table>\n",
       "</div>"
      ],
      "text/plain": [
       "  method  accuracy_train  accuracy_test  gini_train  gini_test  ks_train  \\\n",
       "0     LR        0.242038      -0.017853    0.513043   0.294372  0.465217   \n",
       "1  LASSO        0.197391       0.024700    0.497826   0.288961  0.386957   \n",
       "2     DT        0.813953       0.732558    0.768478   0.498377  0.635870   \n",
       "3   LOGR        0.732558       0.639535    0.570652   0.306277  0.498913   \n",
       "4  RIDGE        0.242038      -0.017714    0.513043   0.294372  0.465217   \n",
       "5    RFR        0.843293       0.481765    1.000000   0.769481  1.000000   \n",
       "6    RFC        1.000000       0.895349    1.000000   0.742424  1.000000   \n",
       "7    GBR        1.000000       0.422119    0.976087   0.718615  0.953261   \n",
       "\n",
       "    ks_test  \n",
       "0  0.324675  \n",
       "1  0.282468  \n",
       "2  0.468615  \n",
       "3  0.367965  \n",
       "4  0.324675  \n",
       "5  0.813853  \n",
       "6  0.812771  \n",
       "7  0.766234  "
      ]
     },
     "execution_count": 6,
     "metadata": {},
     "output_type": "execute_result"
    }
   ],
   "source": [
    "df_result_summary"
   ]
  },
  {
   "cell_type": "code",
   "execution_count": 7,
   "metadata": {},
   "outputs": [],
   "source": [
    "# As a class\n"
   ]
  },
  {
   "cell_type": "code",
   "execution_count": 8,
   "metadata": {},
   "outputs": [],
   "source": [
    "import prof_manoel_gadi_model_dev_support_class as prof"
   ]
  },
  {
   "cell_type": "code",
   "execution_count": 9,
   "metadata": {},
   "outputs": [],
   "source": [
    "csdf = prof.CustomDF()"
   ]
  },
  {
   "cell_type": "code",
   "execution_count": 10,
   "metadata": {},
   "outputs": [],
   "source": [
    "csdf.set_df(df_dev, df_oot)"
   ]
  },
  {
   "cell_type": "code",
   "execution_count": 11,
   "metadata": {},
   "outputs": [
    {
     "ename": "ValueError",
     "evalue": "could not convert string to float: 'USA'",
     "output_type": "error",
     "traceback": [
      "\u001b[1;31m---------------------------------------------------------------------------\u001b[0m",
      "\u001b[1;31mValueError\u001b[0m                                Traceback (most recent call last)",
      "\u001b[1;32m<ipython-input-11-28a384df8258>\u001b[0m in \u001b[0;36m<module>\u001b[1;34m\u001b[0m\n\u001b[1;32m----> 1\u001b[1;33m \u001b[0mcsdf\u001b[0m\u001b[1;33m.\u001b[0m\u001b[0mtrain_method\u001b[0m\u001b[1;33m(\u001b[0m\u001b[1;34m\"target_increase_in_risk\"\u001b[0m\u001b[1;33m,\u001b[0m \u001b[1;34m\"LR\"\u001b[0m\u001b[1;33m)\u001b[0m\u001b[1;33m\u001b[0m\u001b[1;33m\u001b[0m\u001b[0m\n\u001b[0m\u001b[0;32m      2\u001b[0m \u001b[0mprint\u001b[0m\u001b[1;33m(\u001b[0m\u001b[0mdict_trained_model\u001b[0m\u001b[1;33m)\u001b[0m\u001b[1;33m\u001b[0m\u001b[1;33m\u001b[0m\u001b[0m\n",
      "\u001b[1;32mD:\\01-IE\\01-MBDA\\IE-MBD-EN-BL ENE-2021J-1\\Statistical Programming - Python II\\SESSION_04__05_OOP_PythonPackaging_Github_v2\\prof_manoel_gadi_model_dev_support_class.py\u001b[0m in \u001b[0;36mtrain_method\u001b[1;34m(self, target, method)\u001b[0m\n\u001b[0;32m    175\u001b[0m \u001b[1;33m\u001b[0m\u001b[0m\n\u001b[0;32m    176\u001b[0m         \u001b[1;32mif\u001b[0m \u001b[0mmethod\u001b[0m \u001b[1;33m==\u001b[0m \u001b[1;34m'LR'\u001b[0m\u001b[1;33m:\u001b[0m  \u001b[1;31m# Linear Regresssion\u001b[0m\u001b[1;33m\u001b[0m\u001b[1;33m\u001b[0m\u001b[0m\n\u001b[1;32m--> 177\u001b[1;33m             \u001b[1;32mreturn\u001b[0m \u001b[0mLR\u001b[0m\u001b[1;33m(\u001b[0m\u001b[0mX_train\u001b[0m\u001b[1;33m,\u001b[0m \u001b[0my_train\u001b[0m\u001b[1;33m,\u001b[0m \u001b[0mX_test\u001b[0m\u001b[1;33m,\u001b[0m \u001b[0my_test\u001b[0m\u001b[1;33m)\u001b[0m\u001b[1;33m\u001b[0m\u001b[1;33m\u001b[0m\u001b[0m\n\u001b[0m\u001b[0;32m    178\u001b[0m \u001b[1;33m\u001b[0m\u001b[0m\n\u001b[0;32m    179\u001b[0m         \u001b[1;32melif\u001b[0m \u001b[0mmethod\u001b[0m \u001b[1;33m==\u001b[0m \u001b[1;34m'LOGR'\u001b[0m\u001b[1;33m:\u001b[0m \u001b[1;31m# Logistic Regresssion\u001b[0m\u001b[1;33m\u001b[0m\u001b[1;33m\u001b[0m\u001b[0m\n",
      "\u001b[1;32mD:\\01-IE\\01-MBDA\\IE-MBD-EN-BL ENE-2021J-1\\Statistical Programming - Python II\\SESSION_04__05_OOP_PythonPackaging_Github_v2\\prof_manoel_gadi_model_dev_support_class.py\u001b[0m in \u001b[0;36mLR\u001b[1;34m(X_train, y_train, X_test, y_test)\u001b[0m\n\u001b[0;32m     66\u001b[0m     \u001b[0mLinear\u001b[0m \u001b[0mRegresssion\u001b[0m\u001b[1;33m\u001b[0m\u001b[1;33m\u001b[0m\u001b[0m\n\u001b[0;32m     67\u001b[0m     \"\"\"\n\u001b[1;32m---> 68\u001b[1;33m     \u001b[0mmodel\u001b[0m \u001b[1;33m=\u001b[0m \u001b[0mLinearRegression\u001b[0m\u001b[1;33m(\u001b[0m\u001b[1;33m)\u001b[0m\u001b[1;33m.\u001b[0m\u001b[0mfit\u001b[0m\u001b[1;33m(\u001b[0m\u001b[0mX_train\u001b[0m\u001b[1;33m,\u001b[0m \u001b[0my_train\u001b[0m\u001b[1;33m)\u001b[0m\u001b[1;33m\u001b[0m\u001b[1;33m\u001b[0m\u001b[0m\n\u001b[0m\u001b[0;32m     69\u001b[0m     \u001b[1;32mreturn\u001b[0m \u001b[0mprepare_dictionary_of_measures\u001b[0m\u001b[1;33m(\u001b[0m\u001b[0mmodel\u001b[0m\u001b[1;33m,\u001b[0m \u001b[0mX_train\u001b[0m\u001b[1;33m,\u001b[0m \u001b[0my_train\u001b[0m\u001b[1;33m,\u001b[0m \u001b[0mX_test\u001b[0m\u001b[1;33m,\u001b[0m \u001b[0my_test\u001b[0m\u001b[1;33m)\u001b[0m\u001b[1;33m\u001b[0m\u001b[1;33m\u001b[0m\u001b[0m\n\u001b[0;32m     70\u001b[0m \u001b[1;33m\u001b[0m\u001b[0m\n",
      "\u001b[1;32mC:\\Anaconda3\\lib\\site-packages\\sklearn\\linear_model\\_base.py\u001b[0m in \u001b[0;36mfit\u001b[1;34m(self, X, y, sample_weight)\u001b[0m\n\u001b[0;32m    503\u001b[0m \u001b[1;33m\u001b[0m\u001b[0m\n\u001b[0;32m    504\u001b[0m         \u001b[0mn_jobs_\u001b[0m \u001b[1;33m=\u001b[0m \u001b[0mself\u001b[0m\u001b[1;33m.\u001b[0m\u001b[0mn_jobs\u001b[0m\u001b[1;33m\u001b[0m\u001b[1;33m\u001b[0m\u001b[0m\n\u001b[1;32m--> 505\u001b[1;33m         X, y = self._validate_data(X, y, accept_sparse=['csr', 'csc', 'coo'],\n\u001b[0m\u001b[0;32m    506\u001b[0m                                    y_numeric=True, multi_output=True)\n\u001b[0;32m    507\u001b[0m \u001b[1;33m\u001b[0m\u001b[0m\n",
      "\u001b[1;32mC:\\Anaconda3\\lib\\site-packages\\sklearn\\base.py\u001b[0m in \u001b[0;36m_validate_data\u001b[1;34m(self, X, y, reset, validate_separately, **check_params)\u001b[0m\n\u001b[0;32m    430\u001b[0m                 \u001b[0my\u001b[0m \u001b[1;33m=\u001b[0m \u001b[0mcheck_array\u001b[0m\u001b[1;33m(\u001b[0m\u001b[0my\u001b[0m\u001b[1;33m,\u001b[0m \u001b[1;33m**\u001b[0m\u001b[0mcheck_y_params\u001b[0m\u001b[1;33m)\u001b[0m\u001b[1;33m\u001b[0m\u001b[1;33m\u001b[0m\u001b[0m\n\u001b[0;32m    431\u001b[0m             \u001b[1;32melse\u001b[0m\u001b[1;33m:\u001b[0m\u001b[1;33m\u001b[0m\u001b[1;33m\u001b[0m\u001b[0m\n\u001b[1;32m--> 432\u001b[1;33m                 \u001b[0mX\u001b[0m\u001b[1;33m,\u001b[0m \u001b[0my\u001b[0m \u001b[1;33m=\u001b[0m \u001b[0mcheck_X_y\u001b[0m\u001b[1;33m(\u001b[0m\u001b[0mX\u001b[0m\u001b[1;33m,\u001b[0m \u001b[0my\u001b[0m\u001b[1;33m,\u001b[0m \u001b[1;33m**\u001b[0m\u001b[0mcheck_params\u001b[0m\u001b[1;33m)\u001b[0m\u001b[1;33m\u001b[0m\u001b[1;33m\u001b[0m\u001b[0m\n\u001b[0m\u001b[0;32m    433\u001b[0m             \u001b[0mout\u001b[0m \u001b[1;33m=\u001b[0m \u001b[0mX\u001b[0m\u001b[1;33m,\u001b[0m \u001b[0my\u001b[0m\u001b[1;33m\u001b[0m\u001b[1;33m\u001b[0m\u001b[0m\n\u001b[0;32m    434\u001b[0m \u001b[1;33m\u001b[0m\u001b[0m\n",
      "\u001b[1;32mC:\\Anaconda3\\lib\\site-packages\\sklearn\\utils\\validation.py\u001b[0m in \u001b[0;36minner_f\u001b[1;34m(*args, **kwargs)\u001b[0m\n\u001b[0;32m     71\u001b[0m                           FutureWarning)\n\u001b[0;32m     72\u001b[0m         \u001b[0mkwargs\u001b[0m\u001b[1;33m.\u001b[0m\u001b[0mupdate\u001b[0m\u001b[1;33m(\u001b[0m\u001b[1;33m{\u001b[0m\u001b[0mk\u001b[0m\u001b[1;33m:\u001b[0m \u001b[0marg\u001b[0m \u001b[1;32mfor\u001b[0m \u001b[0mk\u001b[0m\u001b[1;33m,\u001b[0m \u001b[0marg\u001b[0m \u001b[1;32min\u001b[0m \u001b[0mzip\u001b[0m\u001b[1;33m(\u001b[0m\u001b[0msig\u001b[0m\u001b[1;33m.\u001b[0m\u001b[0mparameters\u001b[0m\u001b[1;33m,\u001b[0m \u001b[0margs\u001b[0m\u001b[1;33m)\u001b[0m\u001b[1;33m}\u001b[0m\u001b[1;33m)\u001b[0m\u001b[1;33m\u001b[0m\u001b[1;33m\u001b[0m\u001b[0m\n\u001b[1;32m---> 73\u001b[1;33m         \u001b[1;32mreturn\u001b[0m \u001b[0mf\u001b[0m\u001b[1;33m(\u001b[0m\u001b[1;33m**\u001b[0m\u001b[0mkwargs\u001b[0m\u001b[1;33m)\u001b[0m\u001b[1;33m\u001b[0m\u001b[1;33m\u001b[0m\u001b[0m\n\u001b[0m\u001b[0;32m     74\u001b[0m     \u001b[1;32mreturn\u001b[0m \u001b[0minner_f\u001b[0m\u001b[1;33m\u001b[0m\u001b[1;33m\u001b[0m\u001b[0m\n\u001b[0;32m     75\u001b[0m \u001b[1;33m\u001b[0m\u001b[0m\n",
      "\u001b[1;32mC:\\Anaconda3\\lib\\site-packages\\sklearn\\utils\\validation.py\u001b[0m in \u001b[0;36mcheck_X_y\u001b[1;34m(X, y, accept_sparse, accept_large_sparse, dtype, order, copy, force_all_finite, ensure_2d, allow_nd, multi_output, ensure_min_samples, ensure_min_features, y_numeric, estimator)\u001b[0m\n\u001b[0;32m    794\u001b[0m         \u001b[1;32mraise\u001b[0m \u001b[0mValueError\u001b[0m\u001b[1;33m(\u001b[0m\u001b[1;34m\"y cannot be None\"\u001b[0m\u001b[1;33m)\u001b[0m\u001b[1;33m\u001b[0m\u001b[1;33m\u001b[0m\u001b[0m\n\u001b[0;32m    795\u001b[0m \u001b[1;33m\u001b[0m\u001b[0m\n\u001b[1;32m--> 796\u001b[1;33m     X = check_array(X, accept_sparse=accept_sparse,\n\u001b[0m\u001b[0;32m    797\u001b[0m                     \u001b[0maccept_large_sparse\u001b[0m\u001b[1;33m=\u001b[0m\u001b[0maccept_large_sparse\u001b[0m\u001b[1;33m,\u001b[0m\u001b[1;33m\u001b[0m\u001b[1;33m\u001b[0m\u001b[0m\n\u001b[0;32m    798\u001b[0m                     \u001b[0mdtype\u001b[0m\u001b[1;33m=\u001b[0m\u001b[0mdtype\u001b[0m\u001b[1;33m,\u001b[0m \u001b[0morder\u001b[0m\u001b[1;33m=\u001b[0m\u001b[0morder\u001b[0m\u001b[1;33m,\u001b[0m \u001b[0mcopy\u001b[0m\u001b[1;33m=\u001b[0m\u001b[0mcopy\u001b[0m\u001b[1;33m,\u001b[0m\u001b[1;33m\u001b[0m\u001b[1;33m\u001b[0m\u001b[0m\n",
      "\u001b[1;32mC:\\Anaconda3\\lib\\site-packages\\sklearn\\utils\\validation.py\u001b[0m in \u001b[0;36minner_f\u001b[1;34m(*args, **kwargs)\u001b[0m\n\u001b[0;32m     71\u001b[0m                           FutureWarning)\n\u001b[0;32m     72\u001b[0m         \u001b[0mkwargs\u001b[0m\u001b[1;33m.\u001b[0m\u001b[0mupdate\u001b[0m\u001b[1;33m(\u001b[0m\u001b[1;33m{\u001b[0m\u001b[0mk\u001b[0m\u001b[1;33m:\u001b[0m \u001b[0marg\u001b[0m \u001b[1;32mfor\u001b[0m \u001b[0mk\u001b[0m\u001b[1;33m,\u001b[0m \u001b[0marg\u001b[0m \u001b[1;32min\u001b[0m \u001b[0mzip\u001b[0m\u001b[1;33m(\u001b[0m\u001b[0msig\u001b[0m\u001b[1;33m.\u001b[0m\u001b[0mparameters\u001b[0m\u001b[1;33m,\u001b[0m \u001b[0margs\u001b[0m\u001b[1;33m)\u001b[0m\u001b[1;33m}\u001b[0m\u001b[1;33m)\u001b[0m\u001b[1;33m\u001b[0m\u001b[1;33m\u001b[0m\u001b[0m\n\u001b[1;32m---> 73\u001b[1;33m         \u001b[1;32mreturn\u001b[0m \u001b[0mf\u001b[0m\u001b[1;33m(\u001b[0m\u001b[1;33m**\u001b[0m\u001b[0mkwargs\u001b[0m\u001b[1;33m)\u001b[0m\u001b[1;33m\u001b[0m\u001b[1;33m\u001b[0m\u001b[0m\n\u001b[0m\u001b[0;32m     74\u001b[0m     \u001b[1;32mreturn\u001b[0m \u001b[0minner_f\u001b[0m\u001b[1;33m\u001b[0m\u001b[1;33m\u001b[0m\u001b[0m\n\u001b[0;32m     75\u001b[0m \u001b[1;33m\u001b[0m\u001b[0m\n",
      "\u001b[1;32mC:\\Anaconda3\\lib\\site-packages\\sklearn\\utils\\validation.py\u001b[0m in \u001b[0;36mcheck_array\u001b[1;34m(array, accept_sparse, accept_large_sparse, dtype, order, copy, force_all_finite, ensure_2d, allow_nd, ensure_min_samples, ensure_min_features, estimator)\u001b[0m\n\u001b[0;32m    597\u001b[0m                     \u001b[0marray\u001b[0m \u001b[1;33m=\u001b[0m \u001b[0marray\u001b[0m\u001b[1;33m.\u001b[0m\u001b[0mastype\u001b[0m\u001b[1;33m(\u001b[0m\u001b[0mdtype\u001b[0m\u001b[1;33m,\u001b[0m \u001b[0mcasting\u001b[0m\u001b[1;33m=\u001b[0m\u001b[1;34m\"unsafe\"\u001b[0m\u001b[1;33m,\u001b[0m \u001b[0mcopy\u001b[0m\u001b[1;33m=\u001b[0m\u001b[1;32mFalse\u001b[0m\u001b[1;33m)\u001b[0m\u001b[1;33m\u001b[0m\u001b[1;33m\u001b[0m\u001b[0m\n\u001b[0;32m    598\u001b[0m                 \u001b[1;32melse\u001b[0m\u001b[1;33m:\u001b[0m\u001b[1;33m\u001b[0m\u001b[1;33m\u001b[0m\u001b[0m\n\u001b[1;32m--> 599\u001b[1;33m                     \u001b[0marray\u001b[0m \u001b[1;33m=\u001b[0m \u001b[0mnp\u001b[0m\u001b[1;33m.\u001b[0m\u001b[0masarray\u001b[0m\u001b[1;33m(\u001b[0m\u001b[0marray\u001b[0m\u001b[1;33m,\u001b[0m \u001b[0morder\u001b[0m\u001b[1;33m=\u001b[0m\u001b[0morder\u001b[0m\u001b[1;33m,\u001b[0m \u001b[0mdtype\u001b[0m\u001b[1;33m=\u001b[0m\u001b[0mdtype\u001b[0m\u001b[1;33m)\u001b[0m\u001b[1;33m\u001b[0m\u001b[1;33m\u001b[0m\u001b[0m\n\u001b[0m\u001b[0;32m    600\u001b[0m             \u001b[1;32mexcept\u001b[0m \u001b[0mComplexWarning\u001b[0m\u001b[1;33m:\u001b[0m\u001b[1;33m\u001b[0m\u001b[1;33m\u001b[0m\u001b[0m\n\u001b[0;32m    601\u001b[0m                 raise ValueError(\"Complex data not supported\\n\"\n",
      "\u001b[1;32mC:\\Anaconda3\\lib\\site-packages\\numpy\\core\\_asarray.py\u001b[0m in \u001b[0;36masarray\u001b[1;34m(a, dtype, order, like)\u001b[0m\n\u001b[0;32m    100\u001b[0m         \u001b[1;32mreturn\u001b[0m \u001b[0m_asarray_with_like\u001b[0m\u001b[1;33m(\u001b[0m\u001b[0ma\u001b[0m\u001b[1;33m,\u001b[0m \u001b[0mdtype\u001b[0m\u001b[1;33m=\u001b[0m\u001b[0mdtype\u001b[0m\u001b[1;33m,\u001b[0m \u001b[0morder\u001b[0m\u001b[1;33m=\u001b[0m\u001b[0morder\u001b[0m\u001b[1;33m,\u001b[0m \u001b[0mlike\u001b[0m\u001b[1;33m=\u001b[0m\u001b[0mlike\u001b[0m\u001b[1;33m)\u001b[0m\u001b[1;33m\u001b[0m\u001b[1;33m\u001b[0m\u001b[0m\n\u001b[0;32m    101\u001b[0m \u001b[1;33m\u001b[0m\u001b[0m\n\u001b[1;32m--> 102\u001b[1;33m     \u001b[1;32mreturn\u001b[0m \u001b[0marray\u001b[0m\u001b[1;33m(\u001b[0m\u001b[0ma\u001b[0m\u001b[1;33m,\u001b[0m \u001b[0mdtype\u001b[0m\u001b[1;33m,\u001b[0m \u001b[0mcopy\u001b[0m\u001b[1;33m=\u001b[0m\u001b[1;32mFalse\u001b[0m\u001b[1;33m,\u001b[0m \u001b[0morder\u001b[0m\u001b[1;33m=\u001b[0m\u001b[0morder\u001b[0m\u001b[1;33m)\u001b[0m\u001b[1;33m\u001b[0m\u001b[1;33m\u001b[0m\u001b[0m\n\u001b[0m\u001b[0;32m    103\u001b[0m \u001b[1;33m\u001b[0m\u001b[0m\n\u001b[0;32m    104\u001b[0m \u001b[1;33m\u001b[0m\u001b[0m\n",
      "\u001b[1;32mC:\\Anaconda3\\lib\\site-packages\\pandas\\core\\generic.py\u001b[0m in \u001b[0;36m__array__\u001b[1;34m(self, dtype)\u001b[0m\n\u001b[0;32m   1896\u001b[0m \u001b[1;33m\u001b[0m\u001b[0m\n\u001b[0;32m   1897\u001b[0m     \u001b[1;32mdef\u001b[0m \u001b[0m__array__\u001b[0m\u001b[1;33m(\u001b[0m\u001b[0mself\u001b[0m\u001b[1;33m,\u001b[0m \u001b[0mdtype\u001b[0m\u001b[1;33m=\u001b[0m\u001b[1;32mNone\u001b[0m\u001b[1;33m)\u001b[0m \u001b[1;33m->\u001b[0m \u001b[0mnp\u001b[0m\u001b[1;33m.\u001b[0m\u001b[0mndarray\u001b[0m\u001b[1;33m:\u001b[0m\u001b[1;33m\u001b[0m\u001b[1;33m\u001b[0m\u001b[0m\n\u001b[1;32m-> 1898\u001b[1;33m         \u001b[1;32mreturn\u001b[0m \u001b[0mnp\u001b[0m\u001b[1;33m.\u001b[0m\u001b[0masarray\u001b[0m\u001b[1;33m(\u001b[0m\u001b[0mself\u001b[0m\u001b[1;33m.\u001b[0m\u001b[0m_values\u001b[0m\u001b[1;33m,\u001b[0m \u001b[0mdtype\u001b[0m\u001b[1;33m=\u001b[0m\u001b[0mdtype\u001b[0m\u001b[1;33m)\u001b[0m\u001b[1;33m\u001b[0m\u001b[1;33m\u001b[0m\u001b[0m\n\u001b[0m\u001b[0;32m   1899\u001b[0m \u001b[1;33m\u001b[0m\u001b[0m\n\u001b[0;32m   1900\u001b[0m     def __array_wrap__(\n",
      "\u001b[1;32mC:\\Anaconda3\\lib\\site-packages\\numpy\\core\\_asarray.py\u001b[0m in \u001b[0;36masarray\u001b[1;34m(a, dtype, order, like)\u001b[0m\n\u001b[0;32m    100\u001b[0m         \u001b[1;32mreturn\u001b[0m \u001b[0m_asarray_with_like\u001b[0m\u001b[1;33m(\u001b[0m\u001b[0ma\u001b[0m\u001b[1;33m,\u001b[0m \u001b[0mdtype\u001b[0m\u001b[1;33m=\u001b[0m\u001b[0mdtype\u001b[0m\u001b[1;33m,\u001b[0m \u001b[0morder\u001b[0m\u001b[1;33m=\u001b[0m\u001b[0morder\u001b[0m\u001b[1;33m,\u001b[0m \u001b[0mlike\u001b[0m\u001b[1;33m=\u001b[0m\u001b[0mlike\u001b[0m\u001b[1;33m)\u001b[0m\u001b[1;33m\u001b[0m\u001b[1;33m\u001b[0m\u001b[0m\n\u001b[0;32m    101\u001b[0m \u001b[1;33m\u001b[0m\u001b[0m\n\u001b[1;32m--> 102\u001b[1;33m     \u001b[1;32mreturn\u001b[0m \u001b[0marray\u001b[0m\u001b[1;33m(\u001b[0m\u001b[0ma\u001b[0m\u001b[1;33m,\u001b[0m \u001b[0mdtype\u001b[0m\u001b[1;33m,\u001b[0m \u001b[0mcopy\u001b[0m\u001b[1;33m=\u001b[0m\u001b[1;32mFalse\u001b[0m\u001b[1;33m,\u001b[0m \u001b[0morder\u001b[0m\u001b[1;33m=\u001b[0m\u001b[0morder\u001b[0m\u001b[1;33m)\u001b[0m\u001b[1;33m\u001b[0m\u001b[1;33m\u001b[0m\u001b[0m\n\u001b[0m\u001b[0;32m    103\u001b[0m \u001b[1;33m\u001b[0m\u001b[0m\n\u001b[0;32m    104\u001b[0m \u001b[1;33m\u001b[0m\u001b[0m\n",
      "\u001b[1;31mValueError\u001b[0m: could not convert string to float: 'USA'"
     ]
    }
   ],
   "source": [
    "csdf.train_method(inputvars=['Market Cap_group', 'Enterprise Value_group', 'Trailing P/E_group', 'Forward P/E_group', 'PEG Ratio_group', 'Price/Sales_group', 'Price/Book_group', 'Enterprise Value/Revenue_group', 'Enterprise Value/EBITDA_group', 'Profit Margin_group', 'Operating Margin_group', 'Return on Assets_group', 'Return on Equity_group', 'Revenue_group', 'Revenue Per Share_group', 'Quarterly Revenue Growth_group', 'Gross Profit_group', 'EBITDA_group', 'Net Income Avi to Common_group', 'Diluted EPS_group', 'Quarterly Earnings Growth_group', 'Total Cash_group', 'Total Cash Per Share_group', 'Total Debt_group', 'Total Debt/Equity_group', 'Current Ratio_group', 'Book Value Per Share_group', 'Operating Cash Flow_group', 'Levered Free Cash Flow_group', '52-Week Change_group', 'S&amp;P500 52-Week Change_group', '52 Week High_group', '52 Week Low_group', '50-Day Moving Average_group', '200-Day Moving Average_group', 'Avg Vol (3 month)_group', 'Avg Vol (10 day)_group', 'Shares Outstanding_group', 'Float_group', '% Held by Insiders_group', '% Held by Institutions_group', 'Shares Short_group', 'Short Ratio_group', 'Short % of Float_group', 'Shares Short (prior month)_group', 'Forward Annual Dividend Rate_group', 'Forward Annual Dividend Yield_group', 'Trailing Annual Dividend Rate_group', 'Trailing Annual Dividend Yield_group', '5 Year Average Dividend Yield_group', 'Payout Ratio_group']\n",
    "                  targetvar = \"target_increase_in_risk\", \n",
    "                  method=\"LR\")\n",
    "print(dict_trained_model)"
   ]
  },
  {
   "cell_type": "code",
   "execution_count": null,
   "metadata": {},
   "outputs": [],
   "source": []
  }
 ],
 "metadata": {
  "kernelspec": {
   "display_name": "Python 3",
   "language": "python",
   "name": "python3"
  },
  "language_info": {
   "codemirror_mode": {
    "name": "ipython",
    "version": 3
   },
   "file_extension": ".py",
   "mimetype": "text/x-python",
   "name": "python",
   "nbconvert_exporter": "python",
   "pygments_lexer": "ipython3",
   "version": "3.8.3"
  }
 },
 "nbformat": 4,
 "nbformat_minor": 2
}
