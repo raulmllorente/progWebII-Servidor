{
 "cells": [
  {
   "cell_type": "markdown",
   "metadata": {
    "id": "mB8SCRAaIGjZ"
   },
   "source": [
    "# Datetime Module -  A very nice example of OOP in Python\n",
    "\n",
    "<img src=\"profile_manoelgadi.png\" width=100 height=100 align=\"right\">\n",
    "\n",
    "Author: Prof. Manoel Gadi\n",
    "\n",
    "Contact: mfalonso@faculty.ie.edu\n",
    "\n",
    "Teaching Web: http://mfalonso.pythonanywhere.com\n",
    "\n",
    "Last revision: 27/June/2021"
   ]
  },
  {
   "cell_type": "code",
   "execution_count": null,
   "metadata": {
    "id": "RQ-sgGp2IGjd"
   },
   "outputs": [],
   "source": [
    "from __future__ import print_function"
   ]
  },
  {
   "cell_type": "markdown",
   "metadata": {
    "id": "u88IADhCIGjf"
   },
   "source": [
    "## <font color='red'>What will be Covered?</font>\n",
    "- Times\n",
    "- Dates\n",
    "- timedeltas\n",
    "- Date Arithmetic\n",
    "- Comparing Values\n",
    "- Combining Dates and Times\n",
    "- Formating and Parsing\n",
    "\n",
    "## <font color='red'>Reference Documents</font>\n",
    "\n",
    "- <A HREF=\"http://pleac.sourceforge.net/pleac_python/datesandtimes.html\">Dates and Times</A>\n",
    "- <A HREF=\"http://www.marinamele.com/2014/03/13-useful-tips-about-python-datetime.html\">Usedul Tips about Python datetime Objects</A>\n",
    "- <A HREF=\"https://pymotw.com/3/datetime/\">datetime - Date and Time Value Manipulation</A>\n",
    "\n",
    "## <font color='red'>What is the `datetime` Module?</font>\n",
    "\n",
    "- The `datetime` module supplies classes to work with date and time. \n",
    "- These classes provide a number of functions to deal with dates, times and time intervals.  \n",
    "- Date and datetime are an object in Python, so when you manipulate them, you are actually manipulating objects and not string or timestamps.\n",
    "\n",
    "The `datetime` module provides high-level interface classes:\n",
    "\n",
    "- `date`: An idealized date that assumes the Gregorian calendar extends infinitely into the future and past. It stores the year, month, and day as attributes.\n",
    "- `time`: An idealized time that assumes there are 86,400 seconds per day with no leap seconds. This object stores the hour, minute, second, microsecond, and tzinfo (time zone information).\n",
    "- `datetime`: A combination of a date and a time. It has all the attributes of both classes.\n",
    "- `timedelta`: A duration expressing the difference between two date, time, or datetime objects to microsecond resolution.\n",
    "- `tzinfo`: Provides time zone information objects.\n",
    "- `timezone`: A class that implements the `tzinfo` abstract base class as a fixed offset from the UTC.\n",
    "\n",
    "In this presentation, we will focus on the first four classes."
   ]
  },
  {
   "cell_type": "code",
   "execution_count": null,
   "metadata": {
    "id": "tuhG9R46IGjh"
   },
   "outputs": [],
   "source": [
    "import datetime\n",
    "import numpy as np\n",
    "import pandas as pd"
   ]
  },
  {
   "cell_type": "markdown",
   "metadata": {
    "id": "gMaznB3aIGji"
   },
   "source": [
    "## <font color='red'>Times</font>"
   ]
  },
  {
   "cell_type": "markdown",
   "metadata": {
    "id": "DIeQYCxIIGji"
   },
   "source": [
    "Time values are represented with the <B>time</B> class. Times have attributes for hour, minute, second, and microsecond. \n",
    "\n",
    "```python\n",
    "datetime.time(hour=0, minute=0, second=0, microsecond=0, tzinfo=None, *, fold=0)\n",
    "```"
   ]
  },
  {
   "cell_type": "code",
   "execution_count": null,
   "metadata": {
    "id": "w1GS-Ff1IGjj"
   },
   "outputs": [],
   "source": [
    "t = datetime.time(1, 2, 3)\n",
    "print (t)\n",
    "print ('hour  :     ', t.hour)\n",
    "print ('minute:     ', t.minute)\n",
    "print ('second:     ', t.second)\n",
    "print ('microsecond:', t.microsecond)\n",
    "print ('tzinfo:     ', t.tzinfo)"
   ]
  },
  {
   "cell_type": "markdown",
   "metadata": {
    "id": "M6GxBBYzIGjk"
   },
   "source": [
    "The variable <B>t</B> only holds values of time, and not a date associated with the time.\n",
    "<P>\n",
    "You can get the valid range of times in a single day:"
   ]
  },
  {
   "cell_type": "code",
   "execution_count": null,
   "metadata": {
    "id": "n6ddd3kRIGjk"
   },
   "outputs": [],
   "source": [
    "print ('Earliest  :', datetime.time.min)\n",
    "print ('Latest    :', datetime.time.max)\n",
    "print ('Resolution:', datetime.time.resolution)"
   ]
  },
  {
   "cell_type": "markdown",
   "metadata": {
    "id": "og1sTIp5IGjl"
   },
   "source": [
    "Note that the resolution for time is limited to whole microseconds."
   ]
  },
  {
   "cell_type": "markdown",
   "metadata": {
    "id": "jm8GzylxIGjm"
   },
   "source": [
    "## <font color='red'>Dates</font>"
   ]
  },
  {
   "cell_type": "markdown",
   "metadata": {
    "id": "Sh65KbiyIGjn"
   },
   "source": [
    "Calendar date values are represented with the **date** class.\n",
    "\n",
    "It is easy to create a date representing today’s date using the **today()** class method.\n",
    "    \n",
    "```python\n",
    "datetime.date(year, month, day)\n",
    "```"
   ]
  },
  {
   "cell_type": "code",
   "execution_count": null,
   "metadata": {
    "id": "GlFI5gIfIGjn"
   },
   "outputs": [],
   "source": [
    "today = datetime.date.today()\n",
    "print ('today:  ', today)\n",
    "print ('ctime:  ', today.ctime())\n",
    "print ('tuple:  ', today.timetuple())\n",
    "print ('ordinal:', today.toordinal())\n",
    "print ('Year:   ', today.year)\n",
    "print ('Mon:    ', today.month)\n",
    "print ('Day :   ', today.day)"
   ]
  },
  {
   "cell_type": "markdown",
   "metadata": {
    "id": "tebhjyLQIGjo"
   },
   "source": [
    "There are also class methods for creating instances from integers (using proleptic Gregorian ordinal values, which starts counting from Jan. 1 of the year 1) or POSIX timestamp values.\n",
    "\n",
    "The following example illustrates the different value types used by:\n",
    "\n",
    "- `fromordinal()`: Return the date corresponding to the proleptic Gregorian ordinal, where January 1 of year 1 has ordinal 1.\n",
    "- `fromtimestamp()`: Return the local date corresponding to the timestamp."
   ]
  },
  {
   "cell_type": "code",
   "execution_count": null,
   "metadata": {
    "id": "P3ruHfLlIGjo"
   },
   "outputs": [],
   "source": [
    "import time\n",
    "\n",
    "o = 733114\n",
    "print ('o = {} and fromordinal(o) = {}:'.format(o, datetime.date.fromordinal(o)))\n",
    "\n",
    "t = time.time()\n",
    "print ('t = {} and fromtimestamp(t) = {}'.format(t, datetime.date.fromtimestamp(t)))"
   ]
  },
  {
   "cell_type": "markdown",
   "metadata": {
    "id": "cQpDbxuOIGjo"
   },
   "source": [
    "We can also determine the range of date values:"
   ]
  },
  {
   "cell_type": "code",
   "execution_count": null,
   "metadata": {
    "id": "T91CO3p2IGjo"
   },
   "outputs": [],
   "source": [
    "print ('Earliest  :', datetime.date.min)\n",
    "print ('Latest    :', datetime.date.max)\n",
    "print ('Resolution:', datetime.date.resolution)"
   ]
  },
  {
   "cell_type": "markdown",
   "metadata": {
    "id": "EtKV_V8pIGjp"
   },
   "source": [
    "Note too that the resolution for dates is a whole day.\n",
    "<P>\n",
    "Another way to create new date instances uses the <B>replace()</B> method of an existing date. For example, you can change the year, leaving the day and month alone."
   ]
  },
  {
   "cell_type": "code",
   "execution_count": null,
   "metadata": {
    "id": "qISPbINZIGjp"
   },
   "outputs": [],
   "source": [
    "d1 = datetime.date(2008, 3, 12)\n",
    "print ('d1:', d1)\n",
    "\n",
    "d2 = d1.replace(year=2009)\n",
    "print ('d2:', d2)"
   ]
  },
  {
   "cell_type": "markdown",
   "metadata": {
    "id": "31EgH1kVIGjq"
   },
   "source": [
    "## <font color='red'>timedeltas</font>"
   ]
  },
  {
   "cell_type": "markdown",
   "metadata": {
    "id": "9i_Y2P3fIGjq"
   },
   "source": [
    "We can use <B>datetime</B> to perform basic arithmetic on date values via the <B>timedelta</B> class.\n",
    "\n",
    "```python\n",
    "datetime.timedelta(days=0, seconds=0, microseconds=0, \n",
    "                   milliseconds=0, minutes=0, hours=0, weeks=0)\n",
    "```"
   ]
  },
  {
   "cell_type": "code",
   "execution_count": null,
   "metadata": {
    "id": "7CMFTLYkIGjq"
   },
   "outputs": [],
   "source": [
    "print (\"microseconds:\", datetime.timedelta(microseconds=1))\n",
    "print (\"milliseconds:\", datetime.timedelta(milliseconds=1))\n",
    "print (\"seconds     :\", datetime.timedelta(seconds=1))\n",
    "print (\"minutes     :\", datetime.timedelta(minutes=1))\n",
    "print (\"hours       :\", datetime.timedelta(hours=1))\n",
    "print (\"days        :\", datetime.timedelta(days=1))\n",
    "print (\"weeks       :\", datetime.timedelta(weeks=1))"
   ]
  },
  {
   "cell_type": "markdown",
   "metadata": {
    "id": "uAMFg_OHIGjq"
   },
   "source": [
    "## <font color='red'>Date Arithmetic</font>"
   ]
  },
  {
   "cell_type": "markdown",
   "metadata": {
    "id": "9NLROE2RIGjr"
   },
   "source": [
    "Date math uses the standard arithmetic operators. The following example with date objects illustrates using <B>timedelta</B> objects to compute new dates, and subtracting date instances to produce timedeltas (including a negative delta value)."
   ]
  },
  {
   "cell_type": "code",
   "execution_count": null,
   "metadata": {
    "id": "lrYEQa1DIGjr"
   },
   "outputs": [],
   "source": [
    "today = datetime.date.today()\n",
    "print ('Today    :', today)\n",
    "\n",
    "one_day = datetime.timedelta(days=1)\n",
    "print ('One day  :', one_day)\n",
    "\n",
    "yesterday = today - one_day\n",
    "print ('Yesterday:', yesterday)\n",
    "\n",
    "tomorrow = today + one_day\n",
    "print ('Tomorrow :', tomorrow)\n",
    "\n",
    "print ('tomorrow - yesterday:', tomorrow - yesterday)\n",
    "print ('yesterday - tomorrow:', yesterday - tomorrow)"
   ]
  },
  {
   "cell_type": "markdown",
   "metadata": {
    "id": "LF2lfvgXIGjr"
   },
   "source": [
    "## <font color='red'>Comparing Values</font>"
   ]
  },
  {
   "cell_type": "markdown",
   "metadata": {
    "id": "s2CJdNA9IGjr"
   },
   "source": [
    "Both date and time values can be compared using the standard operators to determine which is earlier or later."
   ]
  },
  {
   "cell_type": "code",
   "execution_count": null,
   "metadata": {
    "id": "EkQnln-JIGjr"
   },
   "outputs": [],
   "source": [
    "print ('Times:')\n",
    "t1 = datetime.time(12, 55, 0)\n",
    "print ('\\tt1:', t1)\n",
    "t2 = datetime.time(13, 5, 0)\n",
    "print ('\\tt2:', t2)\n",
    "print ('\\tt1 < t2:', t1 < t2)\n",
    "\n",
    "print ('Dates:')\n",
    "d1 = datetime.date.today()\n",
    "print ('\\td1:', d1)\n",
    "d2 = datetime.date.today() + datetime.timedelta(days=1)\n",
    "print ('\\td2:', d2)\n",
    "print ('\\td1 > d2:', d1 > d2)"
   ]
  },
  {
   "cell_type": "markdown",
   "metadata": {
    "id": "Nri0taZnIGjs"
   },
   "source": [
    "## <font color='red'>Combining Dates and Times</font>"
   ]
  },
  {
   "cell_type": "markdown",
   "metadata": {
    "id": "ad46wx5GIGjs"
   },
   "source": [
    "We can use the datetime class to hold values consisting of both date and time components. \n",
    "\n",
    "```python\n",
    "datetime.datetime(year, month, day, \n",
    "                  hour=0, minute=0, second=0, microsecond=0, tzinfo=None, *, fold=0)\n",
    "```"
   ]
  },
  {
   "cell_type": "code",
   "execution_count": null,
   "metadata": {
    "id": "5ah8f7-UIGjs"
   },
   "outputs": [],
   "source": [
    "print('Now    :', datetime.datetime.now())\n",
    "print('Today  :', datetime.datetime.today())\n",
    "print('UTC Now:', datetime.datetime.utcnow())\n",
    "\n",
    "d = datetime.datetime.now()\n",
    "for attr in [ 'year', 'month', 'day', 'hour', 'minute', 'second', 'microsecond']:\n",
    "    print (attr, ':', getattr(d, attr))"
   ]
  },
  {
   "cell_type": "code",
   "execution_count": null,
   "metadata": {
    "id": "sJrCujEhIGjs"
   },
   "outputs": [],
   "source": [
    "NOW = datetime.datetime.now()\n",
    " \n",
    "print( \"Current date & time =         %s \" %NOW)\n",
    "print( \"Date and time in ISO format = %s\" %NOW.isoformat())\n",
    "print( \"Current year =                %s \" %NOW.year)\n",
    "print( \"Current month =               %s \" %NOW.month)\n",
    "print( \"Current date (day) =          %s \" %NOW.day)\n",
    "print( \"dd/mm/yyyy format =           %s/%s/%s\" % (NOW.day, NOW.month, NOW.year))\n",
    "print( \"Current hour =                %s \" %NOW.hour)\n",
    "print( \"Current minute =              %s \" %NOW.minute)\n",
    "print( \"Current second =              %s\" %NOW.second)\n",
    "print( \"hh:mm:ss format =             %s:%s:%s\" % (NOW.hour, NOW.month, NOW.second))"
   ]
  },
  {
   "cell_type": "markdown",
   "metadata": {
    "id": "iDMAPjw9IGjt"
   },
   "source": [
    "* Just as with date, datetime provides convenient class methods for creating new instances. It also includes `fromordinal()` and `fromtimestamp()`. \n",
    "* In addition, `combine()` can be useful if you already have a date instance and time instance and want to create a datetime."
   ]
  },
  {
   "cell_type": "code",
   "execution_count": null,
   "metadata": {
    "id": "tVGJQN0iIGjt"
   },
   "outputs": [],
   "source": [
    "t = datetime.time(1, 2, 3)\n",
    "print ('t :', t)\n",
    "\n",
    "d = datetime.date.today()\n",
    "print ('d :', d)\n",
    "\n",
    "dt = datetime.datetime.combine(d, t)\n",
    "print ('dt:', dt)"
   ]
  },
  {
   "cell_type": "markdown",
   "metadata": {
    "id": "VEJs8_NlIGjt"
   },
   "source": [
    "## <font color='red'>Formating and Parsing</font>"
   ]
  },
  {
   "cell_type": "markdown",
   "metadata": {
    "id": "9KXlnsQ3IGjt"
   },
   "source": [
    "* The default string representation of a datetime object uses the format: YYYY-MM-DDTHH:MM:SS.mmmmmm \n",
    "* Alternate formats can be generated using `strftime()` function. \n",
    "        - Uses different control code to give an output.\n",
    "        - Each control code resembles different parameters like year,month, weekday and date.\n",
    "* If your input data includes timestamp values parsable with `time.strptime()`, then `datetime.strptime()` is a convenient way to convert them to datetime instances."
   ]
  },
  {
   "cell_type": "markdown",
   "metadata": {
    "id": "Rb_-Ls8XIGju"
   },
   "source": [
    "**Useful `strptime` and `strftime` Patterns**\n",
    "\n",
    "|Directive | Meaning |\n",
    "| --- | --- |\n",
    "| `%a` | Weekday as locale's abbreviated name |\n",
    "| `%A` | Weekday as locale's full name |\n",
    "| `%w` | Weekday as decimal number, where 0 is Sunday and 6 is Saturday |\n",
    "| `%d` | Day of the month as a zero-padded decimal number |\n",
    "| `%b` | Month as locale's abbreviated name |\n",
    "| `%B` | Weekday as locale's full name |\n",
    "| `%m` | Month as zero-padded decimal number |\n",
    "| `%y` | Year without century as a zero-padded decimal number name |\n",
    "| `%Y` | Year with century as a decimal number |\n",
    "| `%H` | Hour (24-hour clock) as a zero-padded decimal number |\n",
    "| `%I` | Hour (12-hour clock) as a zero-padded decimal number |\n",
    "| `%p` | Locale equivalent of either AM or PM |\n",
    "| `%M` | Minute as a zero-padded decimal number |\n",
    "| `%S` | Second as a zero-padded decimal number |\n",
    "| `%f` | Microsecond as a zero-padded decimal number |\n",
    "| `%j` | Day of the year as a zero-padded decimal number |\n",
    "| `%W` | Week number of the year (Monday as the first day of the week) as a decimal number |\n",
    "| `%U` | Week number of the year (Sunday as the first day of the week) as a decimal number |\n",
    "| `%c` | Locale’s appropriate date and time representation |\n",
    "| `%Z` | Time zone name |\n",
    "| `%z` | UTC offset in the form HH[SS[.fffff]] |\n"
   ]
  },
  {
   "cell_type": "markdown",
   "metadata": {
    "id": "rSjb3M6PIGju"
   },
   "source": [
    "**Formatting**"
   ]
  },
  {
   "cell_type": "markdown",
   "metadata": {
    "id": "SeV8G3ISIGjv"
   },
   "source": [
    "Weekday Month Day Hour:Minute:Second Year"
   ]
  },
  {
   "cell_type": "code",
   "execution_count": null,
   "metadata": {
    "id": "kDRqQnWlIGjv"
   },
   "outputs": [],
   "source": [
    "format = \"%a %b %d %H:%M:%S %Y\"\n",
    "\n",
    "today = datetime.datetime.today()\n",
    "print ('ISO     :', today)\n",
    "\n",
    "s = today.strftime(format)\n",
    "print ('strftime:', s)"
   ]
  },
  {
   "cell_type": "markdown",
   "metadata": {
    "id": "_eMe8OHwIGjv"
   },
   "source": [
    "Obtain the time in HH:MM:SS"
   ]
  },
  {
   "cell_type": "code",
   "execution_count": null,
   "metadata": {
    "id": "0f0GgTIBIGjw"
   },
   "outputs": [],
   "source": [
    "print(today.strftime(\"%X\"))"
   ]
  },
  {
   "cell_type": "markdown",
   "metadata": {
    "id": "9NDva9VmIGjw"
   },
   "source": [
    "Obtain the hour with 12 hours time"
   ]
  },
  {
   "cell_type": "code",
   "execution_count": null,
   "metadata": {
    "id": "rqjA2l5DIGjw"
   },
   "outputs": [],
   "source": [
    "print(today.strftime(\"%I\"))"
   ]
  },
  {
   "cell_type": "markdown",
   "metadata": {
    "id": "FEXGXkh7IGjw"
   },
   "source": [
    "Obtain AM or PM"
   ]
  },
  {
   "cell_type": "code",
   "execution_count": null,
   "metadata": {
    "id": "91fcEFEFIGjx"
   },
   "outputs": [],
   "source": [
    "print(today.strftime(\"%p\"))"
   ]
  },
  {
   "cell_type": "markdown",
   "metadata": {
    "id": "rOkHFkcGIGjy"
   },
   "source": [
    "%c - local date and time, %x-local's date, %X- local's time"
   ]
  },
  {
   "cell_type": "code",
   "execution_count": null,
   "metadata": {
    "id": "x1cokAfoIGjy"
   },
   "outputs": [],
   "source": [
    "print(\"Date and Time =\", today.strftime(\"%c\"))\n",
    "print(\"Date =         \", today.strftime(\"%x\"))\n",
    "print(\"Time =         \", today.strftime(\"%X\"))"
   ]
  },
  {
   "cell_type": "markdown",
   "metadata": {
    "id": "gzpmNkDqIGjz"
   },
   "source": [
    "%I/%H - 12/24 Hour, %M - minute, %S - second, %p - local's AM/PM"
   ]
  },
  {
   "cell_type": "code",
   "execution_count": null,
   "metadata": {
    "id": "9Sy8F9XDIGjz"
   },
   "outputs": [],
   "source": [
    "print(\"Time =         \", today.strftime(\"%I:%M:%S %p\")) # 12-Hour:Minute:Second:AM\n",
    "print(\"Hour:Minutes = \", today.strftime(\"%H:%M\")) # 24-Hour:Minute"
   ]
  },
  {
   "cell_type": "markdown",
   "metadata": {
    "id": "gpAceNNcIGj0"
   },
   "source": [
    "**Parsing**"
   ]
  },
  {
   "cell_type": "code",
   "execution_count": null,
   "metadata": {
    "id": "LBJid36pIGj0"
   },
   "outputs": [],
   "source": [
    "d = datetime.datetime.strptime(s, format)\n",
    "print ('strptime:', d.strftime(format))"
   ]
  },
  {
   "cell_type": "markdown",
   "metadata": {
    "id": "ZQj6PHLgIGj0"
   },
   "source": [
    "## <font color=\"red\">Breakout 1</font>\n",
    "\n",
    "Write a function (named `number_days_between`) that:\n",
    "\n",
    "- Takes two arguments that are 8-digit integers of the form YYYYMMDD (actually a date), and\n",
    "- Returns the number of days between the two dates.\n",
    "\n",
    "For instance:\n",
    "\n",
    "```python\n",
    "   number_days_between(20200617, 20200619) = 2\n",
    "   number_days_between(20200619, 20100219) = 3773\n",
    "```"
   ]
  },
  {
   "cell_type": "markdown",
   "metadata": {
    "id": "sAIijaOyIGj0"
   },
   "source": [
    "## <font color=\"red\">Breakout 2</font>\n",
    "\n",
    "On July 16, 1969, the huge, 363-feet tall Saturn V rocket launches on the Apollo 11 mission from Pad A, Launch Complex 39, Kennedy Space Center, at 9:32 a.m. EDT. Write a Python program the computes (**from now**) the number of:\n",
    "\n",
    "* Years\n",
    "* Months\n",
    "* Days\n",
    "* Hours\n",
    "* Minutes\n",
    "* Seconds\n",
    "\n",
    "since the launch.\n",
    "\n",
    "Hint: <A HREF=\"https://stackoverflow.com/questions/1345827/how-do-i-find-the-time-difference-between-two-datetime-objects-in-python\"> Check this website</A>"
   ]
  },
  {
   "cell_type": "markdown",
   "metadata": {
    "id": "jzN0swxVIGj0"
   },
   "source": [
    "### Sample Problem 1"
   ]
  },
  {
   "cell_type": "markdown",
   "metadata": {
    "id": "5gGNIHuSIGj1"
   },
   "source": [
    "Write a function (add_Years) that adds numYears to a date object."
   ]
  },
  {
   "cell_type": "markdown",
   "metadata": {
    "id": "bKkNcA7qIGj1"
   },
   "source": [
    "#### Solution"
   ]
  },
  {
   "cell_type": "code",
   "execution_count": null,
   "metadata": {
    "id": "Ab1AxsXGIGj1"
   },
   "outputs": [],
   "source": [
    "def add_Years (myDate, numYears):\n",
    "    return myDate.replace(year=myDate.year + numYears)"
   ]
  },
  {
   "cell_type": "markdown",
   "metadata": {
    "id": "A0_43G0eIGj1"
   },
   "source": [
    "### Sample Problem 2"
   ]
  },
  {
   "cell_type": "markdown",
   "metadata": {
    "id": "zZxeJjemIGj1"
   },
   "source": [
    "Write a function (add_Months) that adds numMonths to a date object."
   ]
  },
  {
   "cell_type": "markdown",
   "metadata": {
    "id": "M7FoMNOLIGj2"
   },
   "source": [
    "#### Solution"
   ]
  },
  {
   "cell_type": "code",
   "execution_count": null,
   "metadata": {
    "id": "rp_9EWFbIGj2"
   },
   "outputs": [],
   "source": []
  },
  {
   "cell_type": "markdown",
   "metadata": {
    "id": "dhcdxqViIGj2"
   },
   "source": [
    "### Sample Problem 3"
   ]
  },
  {
   "cell_type": "markdown",
   "metadata": {
    "id": "dAdaplc-IGj2"
   },
   "source": [
    "Write a function (add_Days) that adds numDays to a date object."
   ]
  },
  {
   "cell_type": "markdown",
   "metadata": {
    "id": "EzAZHkdvIGj2"
   },
   "source": [
    "#### Solution"
   ]
  },
  {
   "cell_type": "code",
   "execution_count": null,
   "metadata": {
    "id": "LZ-z-xFFIGj3"
   },
   "outputs": [],
   "source": []
  },
  {
   "cell_type": "markdown",
   "metadata": {
    "id": "mJDQz73JIGj3"
   },
   "source": [
    "### Sample Problem 4"
   ]
  },
  {
   "cell_type": "markdown",
   "metadata": {
    "id": "DO-vSWYoIGj3"
   },
   "source": [
    "Write a function (increment_Date):\n",
    "<UL> \n",
    "<LI> That has as arguments refDate (in the format YYYYMMDD), numYears, numMonths and numDays, and \n",
    "<LI> That adds numYears, numMonths and numDays to refDate.\n",
    "<LI> That returns a new date in the format YYYYMMDD.\n",
    "</UL>\n",
    "<P>\n",
    "Note that Years, Months and Days can be negative numbers."
   ]
  },
  {
   "cell_type": "markdown",
   "metadata": {
    "id": "MRuK3djbIGj3"
   },
   "source": [
    "#### Solution"
   ]
  },
  {
   "cell_type": "code",
   "execution_count": null,
   "metadata": {
    "id": "Z8TRe_R6IGj3"
   },
   "outputs": [],
   "source": []
  },
  {
   "cell_type": "code",
   "execution_count": null,
   "metadata": {},
   "outputs": [],
   "source": []
  }
 ],
 "metadata": {
  "colab": {
   "name": "introduction_datetime.ipynb",
   "provenance": []
  },
  "kernelspec": {
   "display_name": "Python 3",
   "language": "python",
   "name": "python3"
  },
  "language_info": {
   "codemirror_mode": {
    "name": "ipython",
    "version": 3
   },
   "file_extension": ".py",
   "mimetype": "text/x-python",
   "name": "python",
   "nbconvert_exporter": "python",
   "pygments_lexer": "ipython3",
   "version": "3.8.3"
  }
 },
 "nbformat": 4,
 "nbformat_minor": 1
}
