{
 "cells": [
  {
   "cell_type": "markdown",
   "metadata": {},
   "source": [
    "#  Object Oriented Programming (OOP)\n",
    "\n",
    "<img src=\"profile_manoelgadi.png\" width=100 height=100 align=\"right\">\n",
    "\n",
    "Author: Prof. Manoel Gadi\n",
    "\n",
    "Contact: mfalonso@faculty.ie.edu\n",
    "\n",
    "Teaching Web: http://mfalonso.pythonanywhere.com\n",
    "\n",
    "Last revision: 27/June/2021\n",
    "\n",
    "---"
   ]
  },
  {
   "cell_type": "markdown",
   "metadata": {},
   "source": [
    "## Difference between Procedure Oriented and  Object Oriented Programming!\n",
    "\n",
    "* Procedural programming creates a step by step program that  guides the application through a sequence of instructions. Each  instruction is executed in order.\n",
    "* Procedural programming also focuses on the idea that all  algorithms are executed with functions and data that the  programmer has access to and is able to change.\n",
    "* Object-Oriented programming is much more similar to the way  the real world works; it is analogous to the human brain. Each  program is made up of many entities called objects.\n",
    "* Instead, a message must be sent requesting the data, just like  people must ask one another for information; we cannot see  inside each other’s heads.\n",
    "\n",
    "\n",
    "__del something__ # (1) It is __procedural programming__ (PP)\n",
    "\n",
    "__del(something)__ # (2) It is __functional programming__ (FP)\n",
    "\n",
    "__something.del()__ # (3) It is __object oriented programming__ (OOP)\n",
    "\n",
    "3 different paradigms, and Python is 90% (3 - OOP), 9% (2 - FP) and some bizarre cases it is (1 - PP) like in del my_dict[key]!!!\n",
    "\n"
   ]
  },
  {
   "cell_type": "markdown",
   "metadata": {},
   "source": [
    "The following is a method that can only be applied to strings so lower(a) makes no sense because lower(10) would fail:"
   ]
  },
  {
   "cell_type": "code",
   "execution_count": 1,
   "metadata": {},
   "outputs": [
    {
     "data": {
      "text/plain": [
       "' big mug '"
      ]
     },
     "execution_count": 1,
     "metadata": {},
     "output_type": "execute_result"
    }
   ],
   "source": [
    "a = ' BiG MuG '\n",
    "a.lower() "
   ]
  },
  {
   "cell_type": "code",
   "execution_count": 2,
   "metadata": {},
   "outputs": [
    {
     "data": {
      "text/plain": [
       "' BIG MUG '"
      ]
     },
     "execution_count": 2,
     "metadata": {},
     "output_type": "execute_result"
    }
   ],
   "source": [
    "a.upper()"
   ]
  },
  {
   "cell_type": "code",
   "execution_count": 3,
   "metadata": {},
   "outputs": [
    {
     "data": {
      "text/plain": [
       "'BiG MuG'"
      ]
     },
     "execution_count": 3,
     "metadata": {},
     "output_type": "execute_result"
    }
   ],
   "source": [
    "a.strip()"
   ]
  },
  {
   "cell_type": "markdown",
   "metadata": {},
   "source": [
    "Chainning methods as the returned object if from the same type as the original"
   ]
  },
  {
   "cell_type": "code",
   "execution_count": 4,
   "metadata": {},
   "outputs": [
    {
     "data": {
      "text/plain": [
       "(str, str)"
      ]
     },
     "execution_count": 4,
     "metadata": {},
     "output_type": "execute_result"
    }
   ],
   "source": [
    "type(a), type(a.strip())"
   ]
  },
  {
   "cell_type": "code",
   "execution_count": 5,
   "metadata": {},
   "outputs": [
    {
     "data": {
      "text/plain": [
       "'BIG MUG'"
      ]
     },
     "execution_count": 5,
     "metadata": {},
     "output_type": "execute_result"
    }
   ],
   "source": [
    "a.strip().upper()"
   ]
  },
  {
   "cell_type": "code",
   "execution_count": 6,
   "metadata": {},
   "outputs": [
    {
     "data": {
      "text/plain": [
       "['BIG', 'MUG']"
      ]
     },
     "execution_count": 6,
     "metadata": {},
     "output_type": "execute_result"
    }
   ],
   "source": [
    "a.strip().upper().split(' ')"
   ]
  },
  {
   "cell_type": "markdown",
   "metadata": {},
   "source": [
    "Using join to turn the list back into a string"
   ]
  },
  {
   "cell_type": "code",
   "execution_count": 7,
   "metadata": {},
   "outputs": [
    {
     "data": {
      "text/plain": [
       "'BIG;MUG'"
      ]
     },
     "execution_count": 7,
     "metadata": {},
     "output_type": "execute_result"
    }
   ],
   "source": [
    "';'.join(a.strip().upper().split(' '))"
   ]
  },
  {
   "cell_type": "markdown",
   "metadata": {},
   "source": [
    "## The rule of thumb in Python for methods vs. functions\n",
    "__A function can be applied to one or more type__ of things (objects), while __methods are specific and can only be applied to one type__, “things” (objects) of one given type (one given class)  \n"
   ]
  },
  {
   "cell_type": "code",
   "execution_count": 8,
   "metadata": {},
   "outputs": [],
   "source": [
    "import random as rd\n",
    "frog_tuple = ('L','L','L','','R','R','R')\n",
    "frog_list = ['L','L','L','','R','R','R']"
   ]
  },
  {
   "cell_type": "code",
   "execution_count": 9,
   "metadata": {},
   "outputs": [],
   "source": [
    "def randomize_frogs(frogs):\n",
    "    \"\"\"\n",
    "    Randomizes the order of the frogs without altering the original list / tuple types\n",
    "     Input: List / Tuple of elements\n",
    "     Output: New List / Tuple of elements in random order\n",
    "    \"\"\"\n",
    "    if type(frogs) not in (list,tuple):\n",
    "        print('Error: El tipo de entrada tiene que ser lista o tupla')\n",
    "        return(None)\n",
    "    t = True if type(frogs) == tuple else False    \n",
    "    frogs = list(frogs).copy()\n",
    "    for x in range(len(frogs)):\n",
    "        rd1 = x\n",
    "        rd2 = rd.randint(0,6)\n",
    "        frogs[rd1],frogs[rd2] = frogs[rd2],frogs[rd1]\n",
    "    # if t == True:\n",
    "    #     return(tuple(lista))\n",
    "    # else:\n",
    "    #     return(lista)\n",
    "    return(tuple(frogs) if t else frogs)   \n"
   ]
  },
  {
   "cell_type": "markdown",
   "metadata": {},
   "source": [
    "Note that if we send a tuple the function returns a tuple"
   ]
  },
  {
   "cell_type": "code",
   "execution_count": 10,
   "metadata": {},
   "outputs": [
    {
     "data": {
      "text/plain": [
       "(tuple, ('R', 'R', 'L', 'L', '', 'L', 'R'))"
      ]
     },
     "execution_count": 10,
     "metadata": {},
     "output_type": "execute_result"
    }
   ],
   "source": [
    "frog_tuple_res = randomize_frogs(frog_tuple)\n",
    "type(frog_tuple_res),frog_tuple_res"
   ]
  },
  {
   "cell_type": "markdown",
   "metadata": {},
   "source": [
    "Note that if we send a tuple the list returns a list"
   ]
  },
  {
   "cell_type": "code",
   "execution_count": 11,
   "metadata": {},
   "outputs": [
    {
     "data": {
      "text/plain": [
       "(list, ['L', 'R', '', 'L', 'R', 'L', 'R'])"
      ]
     },
     "execution_count": 11,
     "metadata": {},
     "output_type": "execute_result"
    }
   ],
   "source": [
    "frog_list_res = randomize_frogs(frog_list)\n",
    "type(frog_list_res),frog_list_res"
   ]
  },
  {
   "cell_type": "markdown",
   "metadata": {},
   "source": [
    "Therefore, this is a clear candidate to remain a function."
   ]
  },
  {
   "cell_type": "markdown",
   "metadata": {},
   "source": [
    "# Classes\n",
    "<img src=\"classes1.png\" width=500 align=\"center\">\n",
    "\n",
    "## Using a Class to Make Many Objects\n",
    "\n",
    "A class is like a cookie cutter that can be used many times to make many cookies. There is only one cookie cutter, but can be used to make many cookies. Cookies are objects and each one has its own individuality because each one is made out of a different section of dough. Different cookies may have different characteristics, even though they follow the same basic pattern. For example, different cookies can have different candy sprinkles or frosting, or be backed for different times.\n",
    "\n",
    "Cookies can be created. And cookies can be destroyed (just ask Cookie Monster). But destroying cookies does not affect the cookie cutter. It can be used again if there is dough left.\n",
    "\n",
    "A big cookie jar might require many cookies made with many different cookie patterns (stars, hearts, squares, gingerbread androids...) A big cookie (such as a gingerbread house) might be built out of many smaller cookies of several different types. \n",
    "\n",
    "<img src=\"cookieDough.gif\" width=500 align=\"center\">\n",
    "\n",
    "## Object (Instance of a Class)\n",
    "\n",
    "<img src=\"classes2.png\" width=500 align=\"center\">"
   ]
  },
  {
   "cell_type": "markdown",
   "metadata": {},
   "source": [
    "## Features of OOP\n",
    "\n",
    "* Ability to simulate real-world event much more effectively\n",
    "* Code is reusable thus less code may have to be written\n",
    "* Data becomes active\n",
    "* Better able to create GUI (graphical user interface) applications\n",
    "* Programmers are able to produce faster, more accurate and better-  written applications\n",
    "\n",
    "# The four major principles of object orientation are:\n",
    "* Encapsulation - Attributes (variables) and Methods (functions) belong to the single object and can only be used/applied to that particular object.\n",
    "* Data Abstraction - \"shows\" only essential attributes and \"hides\" unnecessary information.\n",
    "* Inheritance - the super power of creating a new class with more attributes or methods by extending another, example creating your own Pandas Dataframe ;-)\n",
    "* Polymorphism - the ability of an object to take on many forms - For example, lets say we have a class Animal that has a method sound() . Since this is a generic class so we can't give it a implementation like: Roar, Meow, Oink etc. We had to give a generic message.\n",
    "\n",
    "# What is an Object..?\n",
    "* Objects\tare\tthe\tbasic\trun-time\tentities\tin\tan\tobject-oriented system.\n",
    "* They may represent a person, a place, a bank account, a table of  data or any item that the program must handle.\n",
    "* When\ta\tprogram\tis\texecuted\tthe\tobjects\tinteract\tby\tsending messages to one another.\n",
    "* Objects have two components: Data (i.e., attributes) / Behaviors (i.e., methods)\n"
   ]
  },
  {
   "cell_type": "markdown",
   "metadata": {},
   "source": [
    "## Let's create a class \n"
   ]
  },
  {
   "cell_type": "code",
   "execution_count": 12,
   "metadata": {},
   "outputs": [],
   "source": [
    "class Dog :\n",
    "    # class attribute\n",
    "    is_hairy = True\n",
    "    bark_counter = 0\n",
    "    # constructor\n",
    "    def __init__ (self, name):\n",
    "        # instance attribute\n",
    "        self.name = name\n",
    "    # method\n",
    "    def bark (self):\n",
    "        self.bark_counter += 1\n",
    "        return( \"Wuff\" )"
   ]
  },
  {
   "cell_type": "markdown",
   "metadata": {},
   "source": [
    "### Self (the object itself calling the method)\n",
    "\n",
    "<img src=\"classes3b.png\" width=500 align=\"center\">"
   ]
  },
  {
   "cell_type": "code",
   "execution_count": 13,
   "metadata": {},
   "outputs": [],
   "source": [
    "bello = Dog( \"bello\" )"
   ]
  },
  {
   "cell_type": "code",
   "execution_count": 14,
   "metadata": {},
   "outputs": [],
   "source": [
    "paris = Dog( \"paris\" )"
   ]
  },
  {
   "cell_type": "code",
   "execution_count": 15,
   "metadata": {},
   "outputs": [
    {
     "name": "stdout",
     "output_type": "stream",
     "text": [
      "bello\n"
     ]
    }
   ],
   "source": [
    "print(bello.name)"
   ]
  },
  {
   "cell_type": "code",
   "execution_count": 16,
   "metadata": {},
   "outputs": [
    {
     "name": "stdout",
     "output_type": "stream",
     "text": [
      "paris\n"
     ]
    }
   ],
   "source": [
    "print(paris.name)"
   ]
  },
  {
   "cell_type": "markdown",
   "metadata": {},
   "source": [
    "Note that methods (functions) and attribules (variables) belong to each object."
   ]
  },
  {
   "cell_type": "code",
   "execution_count": 17,
   "metadata": {},
   "outputs": [
    {
     "data": {
      "text/plain": [
       "('Wuff', 1)"
      ]
     },
     "execution_count": 17,
     "metadata": {},
     "output_type": "execute_result"
    }
   ],
   "source": [
    "bello.bark(), bello.bark_counter"
   ]
  },
  {
   "cell_type": "code",
   "execution_count": 18,
   "metadata": {},
   "outputs": [
    {
     "data": {
      "text/plain": [
       "('Wuff', 2)"
      ]
     },
     "execution_count": 18,
     "metadata": {},
     "output_type": "execute_result"
    }
   ],
   "source": [
    "bello.bark(), bello.bark_counter"
   ]
  },
  {
   "cell_type": "code",
   "execution_count": 19,
   "metadata": {},
   "outputs": [
    {
     "data": {
      "text/plain": [
       "('Wuff', 3)"
      ]
     },
     "execution_count": 19,
     "metadata": {},
     "output_type": "execute_result"
    }
   ],
   "source": [
    "bello.bark(), bello.bark_counter"
   ]
  },
  {
   "cell_type": "code",
   "execution_count": 20,
   "metadata": {},
   "outputs": [
    {
     "data": {
      "text/plain": [
       "('Wuff', 1)"
      ]
     },
     "execution_count": 20,
     "metadata": {},
     "output_type": "execute_result"
    }
   ],
   "source": [
    "paris.bark(), paris.bark_counter"
   ]
  },
  {
   "cell_type": "code",
   "execution_count": 21,
   "metadata": {},
   "outputs": [
    {
     "data": {
      "text/plain": [
       "('Wuff', 2)"
      ]
     },
     "execution_count": 21,
     "metadata": {},
     "output_type": "execute_result"
    }
   ],
   "source": [
    "paris.bark(), paris.bark_counter"
   ]
  },
  {
   "cell_type": "code",
   "execution_count": 22,
   "metadata": {},
   "outputs": [],
   "source": [
    "class Cat :\n",
    "    # method overloading\n",
    "    def miau (self, times= 1 ):\n",
    "        print( \"miau \" * times)"
   ]
  },
  {
   "cell_type": "code",
   "execution_count": 23,
   "metadata": {},
   "outputs": [],
   "source": [
    "fifi = Cat()"
   ]
  },
  {
   "cell_type": "code",
   "execution_count": 24,
   "metadata": {},
   "outputs": [
    {
     "name": "stdout",
     "output_type": "stream",
     "text": [
      "miau \n"
     ]
    }
   ],
   "source": [
    "fifi.miau()"
   ]
  },
  {
   "cell_type": "code",
   "execution_count": 25,
   "metadata": {},
   "outputs": [
    {
     "name": "stdout",
     "output_type": "stream",
     "text": [
      "miau miau miau miau miau \n"
     ]
    }
   ],
   "source": [
    "fifi.miau( 5 )"
   ]
  },
  {
   "cell_type": "markdown",
   "metadata": {},
   "source": [
    "# Full Example:"
   ]
  },
  {
   "cell_type": "code",
   "execution_count": 26,
   "metadata": {},
   "outputs": [],
   "source": [
    "class Dog :\n",
    "    \"\"\" Blueprint of a dog \"\"\"\n",
    "    # class variable shared by all instances\n",
    "    species = [ \"canis lupus\" ]\n",
    "    def __init__ (self, name, color) :\n",
    "        self.name = name\n",
    "        self.state = \"sleeping\"\n",
    "        self.color = color\n",
    "    def command (self, x) :\n",
    "        if x == self.name:\n",
    "            self.bark( 2 )\n",
    "        elif x == \"sit\" :\n",
    "            self.state = \"sit\"\n",
    "        else :\n",
    "            self.state = \"wag tail\"\n",
    "    def bark (self, freq) :\n",
    "        for i in range(freq):\n",
    "            print( \"[\" + self.name + \"]: Woof!\" )"
   ]
  },
  {
   "cell_type": "code",
   "execution_count": 27,
   "metadata": {},
   "outputs": [
    {
     "name": "stdout",
     "output_type": "stream",
     "text": [
      "black\n",
      "white\n",
      "[bello]: Woof!\n",
      "[alice]: sit\n",
      "[bello]: wag tail\n",
      "[alice]: Woof!\n",
      "[alice]: Woof!\n",
      "True\n"
     ]
    }
   ],
   "source": [
    "bello = Dog( \"bello\" , \"black\" )\n",
    "alice = Dog( \"alice\" , \"white\" )\n",
    "print(bello.color) # black\n",
    "print(alice.color) # white\n",
    "bello.bark( 1 ) # [bello]: Woof!\n",
    "alice.command( \"sit\" )\n",
    "print( \"[alice]: \" + alice.state)\n",
    "# [alice]: sit\n",
    "bello.command( \"no\" )\n",
    "print( \"[bello]: \" + bello.state)\n",
    "# [bello]: wag tail\n",
    "alice.command( \"alice\" )\n",
    "# [alice]: Woof!\n",
    "# [alice]: Woof!\n",
    "bello.species += [ \"wulf\" ]\n",
    "print(len(bello.species)\n",
    "== len(alice.species)) # True (!)"
   ]
  },
  {
   "cell_type": "markdown",
   "metadata": {},
   "source": [
    "---\n",
    "## You can create classes “on the fly” and use them as logical units to store complex data types."
   ]
  },
  {
   "cell_type": "code",
   "execution_count": 28,
   "metadata": {},
   "outputs": [
    {
     "name": "stdout",
     "output_type": "stream",
     "text": [
      "alice wonderland 122000$\n"
     ]
    }
   ],
   "source": [
    "class Employee() :\n",
    "    pass\n",
    "\n",
    "employee = Employee()\n",
    "employee.salary = 122000\n",
    "employee.firstname = \"alice\"\n",
    "employee.lastname = \"wonderland\"\n",
    "print(employee.firstname + \" \" + employee.lastname + \" \" + str(employee.salary) + \"$\" )"
   ]
  },
  {
   "cell_type": "markdown",
   "metadata": {},
   "source": [
    "## Adding attributes & methods to a Pandas DataFrame"
   ]
  },
  {
   "cell_type": "code",
   "execution_count": 29,
   "metadata": {},
   "outputs": [],
   "source": [
    "import pandas as pd\n",
    "df = pd.DataFrame()"
   ]
  },
  {
   "cell_type": "code",
   "execution_count": 30,
   "metadata": {},
   "outputs": [],
   "source": [
    "df.myatribute = 'Manoel'"
   ]
  },
  {
   "cell_type": "code",
   "execution_count": 31,
   "metadata": {},
   "outputs": [
    {
     "data": {
      "text/plain": [
       "'Manoel'"
      ]
     },
     "execution_count": 31,
     "metadata": {},
     "output_type": "execute_result"
    }
   ],
   "source": [
    "df.myatribute"
   ]
  },
  {
   "cell_type": "code",
   "execution_count": 32,
   "metadata": {},
   "outputs": [
    {
     "data": {
      "text/plain": [
       "pandas.core.frame.DataFrame"
      ]
     },
     "execution_count": 32,
     "metadata": {},
     "output_type": "execute_result"
    }
   ],
   "source": [
    "type(df)"
   ]
  },
  {
   "cell_type": "markdown",
   "metadata": {},
   "source": [
    "# BUG"
   ]
  },
  {
   "cell_type": "code",
   "execution_count": 33,
   "metadata": {},
   "outputs": [],
   "source": [
    "import pandas as pd\n",
    "df = pd.read_csv(\"anorexia.csv\")"
   ]
  },
  {
   "cell_type": "code",
   "execution_count": 34,
   "metadata": {},
   "outputs": [
    {
     "data": {
      "text/plain": [
       "1    29\n",
       "2    26\n",
       "3    17\n",
       "Name: group, dtype: int64"
      ]
     },
     "execution_count": 34,
     "metadata": {},
     "output_type": "execute_result"
    }
   ],
   "source": [
    "df.group.value_counts()"
   ]
  },
  {
   "cell_type": "markdown",
   "metadata": {},
   "source": [
    "The following can be considered a \"bug\" in pandas because the result is very poorly understood."
   ]
  },
  {
   "cell_type": "code",
   "execution_count": 35,
   "metadata": {},
   "outputs": [
    {
     "data": {
      "text/html": [
       "<div>\n",
       "<style scoped>\n",
       "    .dataframe tbody tr th:only-of-type {\n",
       "        vertical-align: middle;\n",
       "    }\n",
       "\n",
       "    .dataframe tbody tr th {\n",
       "        vertical-align: top;\n",
       "    }\n",
       "\n",
       "    .dataframe thead th {\n",
       "        text-align: right;\n",
       "    }\n",
       "</style>\n",
       "<table border=\"1\" class=\"dataframe\">\n",
       "  <thead>\n",
       "    <tr style=\"text-align: right;\">\n",
       "      <th></th>\n",
       "      <th>ID</th>\n",
       "      <th>group</th>\n",
       "      <th>prewt</th>\n",
       "      <th>postwt</th>\n",
       "      <th>difwt</th>\n",
       "    </tr>\n",
       "  </thead>\n",
       "  <tbody>\n",
       "    <tr>\n",
       "      <th>0</th>\n",
       "      <td>101</td>\n",
       "      <td>1.0</td>\n",
       "      <td>80.5</td>\n",
       "      <td>81.4</td>\n",
       "      <td>-10.2</td>\n",
       "    </tr>\n",
       "    <tr>\n",
       "      <th>1</th>\n",
       "      <td>102</td>\n",
       "      <td>NaN</td>\n",
       "      <td>83.3</td>\n",
       "      <td>NaN</td>\n",
       "      <td>-0.7</td>\n",
       "    </tr>\n",
       "    <tr>\n",
       "      <th>2</th>\n",
       "      <td>103</td>\n",
       "      <td>NaN</td>\n",
       "      <td>86.0</td>\n",
       "      <td>NaN</td>\n",
       "      <td>-0.1</td>\n",
       "    </tr>\n",
       "    <tr>\n",
       "      <th>3</th>\n",
       "      <td>104</td>\n",
       "      <td>NaN</td>\n",
       "      <td>NaN</td>\n",
       "      <td>NaN</td>\n",
       "      <td>3.9</td>\n",
       "    </tr>\n",
       "    <tr>\n",
       "      <th>4</th>\n",
       "      <td>105</td>\n",
       "      <td>NaN</td>\n",
       "      <td>NaN</td>\n",
       "      <td>NaN</td>\n",
       "      <td>NaN</td>\n",
       "    </tr>\n",
       "    <tr>\n",
       "      <th>...</th>\n",
       "      <td>...</td>\n",
       "      <td>...</td>\n",
       "      <td>...</td>\n",
       "      <td>...</td>\n",
       "      <td>...</td>\n",
       "    </tr>\n",
       "    <tr>\n",
       "      <th>67</th>\n",
       "      <td>313</td>\n",
       "      <td>NaN</td>\n",
       "      <td>NaN</td>\n",
       "      <td>NaN</td>\n",
       "      <td>NaN</td>\n",
       "    </tr>\n",
       "    <tr>\n",
       "      <th>68</th>\n",
       "      <td>314</td>\n",
       "      <td>NaN</td>\n",
       "      <td>NaN</td>\n",
       "      <td>NaN</td>\n",
       "      <td>NaN</td>\n",
       "    </tr>\n",
       "    <tr>\n",
       "      <th>69</th>\n",
       "      <td>315</td>\n",
       "      <td>NaN</td>\n",
       "      <td>NaN</td>\n",
       "      <td>NaN</td>\n",
       "      <td>NaN</td>\n",
       "    </tr>\n",
       "    <tr>\n",
       "      <th>70</th>\n",
       "      <td>316</td>\n",
       "      <td>NaN</td>\n",
       "      <td>NaN</td>\n",
       "      <td>NaN</td>\n",
       "      <td>NaN</td>\n",
       "    </tr>\n",
       "    <tr>\n",
       "      <th>71</th>\n",
       "      <td>317</td>\n",
       "      <td>NaN</td>\n",
       "      <td>NaN</td>\n",
       "      <td>NaN</td>\n",
       "      <td>NaN</td>\n",
       "    </tr>\n",
       "  </tbody>\n",
       "</table>\n",
       "<p>72 rows × 5 columns</p>\n",
       "</div>"
      ],
      "text/plain": [
       "     ID  group  prewt  postwt  difwt\n",
       "0   101    1.0   80.5    81.4  -10.2\n",
       "1   102    NaN   83.3     NaN   -0.7\n",
       "2   103    NaN   86.0     NaN   -0.1\n",
       "3   104    NaN    NaN     NaN    3.9\n",
       "4   105    NaN    NaN     NaN    NaN\n",
       "..  ...    ...    ...     ...    ...\n",
       "67  313    NaN    NaN     NaN    NaN\n",
       "68  314    NaN    NaN     NaN    NaN\n",
       "69  315    NaN    NaN     NaN    NaN\n",
       "70  316    NaN    NaN     NaN    NaN\n",
       "71  317    NaN    NaN     NaN    NaN\n",
       "\n",
       "[72 rows x 5 columns]"
      ]
     },
     "execution_count": 35,
     "metadata": {},
     "output_type": "execute_result"
    }
   ],
   "source": [
    "df.mode()"
   ]
  },
  {
   "cell_type": "markdown",
   "metadata": {},
   "source": [
    "## Let's solve it using some pandas options"
   ]
  },
  {
   "cell_type": "code",
   "execution_count": 36,
   "metadata": {},
   "outputs": [
    {
     "data": {
      "text/html": [
       "<div>\n",
       "<style scoped>\n",
       "    .dataframe tbody tr th:only-of-type {\n",
       "        vertical-align: middle;\n",
       "    }\n",
       "\n",
       "    .dataframe tbody tr th {\n",
       "        vertical-align: top;\n",
       "    }\n",
       "\n",
       "    .dataframe thead th {\n",
       "        text-align: right;\n",
       "    }\n",
       "</style>\n",
       "<table border=\"1\" class=\"dataframe\">\n",
       "  <thead>\n",
       "    <tr style=\"text-align: right;\">\n",
       "      <th></th>\n",
       "      <th>0</th>\n",
       "      <th>1</th>\n",
       "      <th>2</th>\n",
       "      <th>3</th>\n",
       "      <th>4</th>\n",
       "      <th>5</th>\n",
       "      <th>6</th>\n",
       "      <th>7</th>\n",
       "      <th>8</th>\n",
       "      <th>9</th>\n",
       "      <th>...</th>\n",
       "      <th>62</th>\n",
       "      <th>63</th>\n",
       "      <th>64</th>\n",
       "      <th>65</th>\n",
       "      <th>66</th>\n",
       "      <th>67</th>\n",
       "      <th>68</th>\n",
       "      <th>69</th>\n",
       "      <th>70</th>\n",
       "      <th>71</th>\n",
       "    </tr>\n",
       "  </thead>\n",
       "  <tbody>\n",
       "    <tr>\n",
       "      <th>ID</th>\n",
       "      <td>101.0</td>\n",
       "      <td>102.0</td>\n",
       "      <td>103.0</td>\n",
       "      <td>104.0</td>\n",
       "      <td>105.0</td>\n",
       "      <td>106.0</td>\n",
       "      <td>107.0</td>\n",
       "      <td>108.0</td>\n",
       "      <td>109.0</td>\n",
       "      <td>110.0</td>\n",
       "      <td>...</td>\n",
       "      <td>308.0</td>\n",
       "      <td>309.0</td>\n",
       "      <td>310.0</td>\n",
       "      <td>311.0</td>\n",
       "      <td>312.0</td>\n",
       "      <td>313.0</td>\n",
       "      <td>314.0</td>\n",
       "      <td>315.0</td>\n",
       "      <td>316.0</td>\n",
       "      <td>317.0</td>\n",
       "    </tr>\n",
       "    <tr>\n",
       "      <th>group</th>\n",
       "      <td>1.0</td>\n",
       "      <td></td>\n",
       "      <td></td>\n",
       "      <td></td>\n",
       "      <td></td>\n",
       "      <td></td>\n",
       "      <td></td>\n",
       "      <td></td>\n",
       "      <td></td>\n",
       "      <td></td>\n",
       "      <td>...</td>\n",
       "      <td></td>\n",
       "      <td></td>\n",
       "      <td></td>\n",
       "      <td></td>\n",
       "      <td></td>\n",
       "      <td></td>\n",
       "      <td></td>\n",
       "      <td></td>\n",
       "      <td></td>\n",
       "      <td></td>\n",
       "    </tr>\n",
       "    <tr>\n",
       "      <th>prewt</th>\n",
       "      <td>80.5</td>\n",
       "      <td>83.3</td>\n",
       "      <td>86.0</td>\n",
       "      <td></td>\n",
       "      <td></td>\n",
       "      <td></td>\n",
       "      <td></td>\n",
       "      <td></td>\n",
       "      <td></td>\n",
       "      <td></td>\n",
       "      <td>...</td>\n",
       "      <td></td>\n",
       "      <td></td>\n",
       "      <td></td>\n",
       "      <td></td>\n",
       "      <td></td>\n",
       "      <td></td>\n",
       "      <td></td>\n",
       "      <td></td>\n",
       "      <td></td>\n",
       "      <td></td>\n",
       "    </tr>\n",
       "    <tr>\n",
       "      <th>postwt</th>\n",
       "      <td>81.4</td>\n",
       "      <td></td>\n",
       "      <td></td>\n",
       "      <td></td>\n",
       "      <td></td>\n",
       "      <td></td>\n",
       "      <td></td>\n",
       "      <td></td>\n",
       "      <td></td>\n",
       "      <td></td>\n",
       "      <td>...</td>\n",
       "      <td></td>\n",
       "      <td></td>\n",
       "      <td></td>\n",
       "      <td></td>\n",
       "      <td></td>\n",
       "      <td></td>\n",
       "      <td></td>\n",
       "      <td></td>\n",
       "      <td></td>\n",
       "      <td></td>\n",
       "    </tr>\n",
       "    <tr>\n",
       "      <th>difwt</th>\n",
       "      <td>-10.2</td>\n",
       "      <td>-0.7</td>\n",
       "      <td>-0.1</td>\n",
       "      <td>3.9</td>\n",
       "      <td></td>\n",
       "      <td></td>\n",
       "      <td></td>\n",
       "      <td></td>\n",
       "      <td></td>\n",
       "      <td></td>\n",
       "      <td>...</td>\n",
       "      <td></td>\n",
       "      <td></td>\n",
       "      <td></td>\n",
       "      <td></td>\n",
       "      <td></td>\n",
       "      <td></td>\n",
       "      <td></td>\n",
       "      <td></td>\n",
       "      <td></td>\n",
       "      <td></td>\n",
       "    </tr>\n",
       "  </tbody>\n",
       "</table>\n",
       "<p>5 rows × 72 columns</p>\n",
       "</div>"
      ],
      "text/plain": [
       "           0      1      2      3      4      5      6      7      8      9   \\\n",
       "ID      101.0  102.0  103.0  104.0  105.0  106.0  107.0  108.0  109.0  110.0   \n",
       "group     1.0                                                                  \n",
       "prewt    80.5   83.3   86.0                                                    \n",
       "postwt   81.4                                                                  \n",
       "difwt   -10.2   -0.7   -0.1    3.9                                             \n",
       "\n",
       "        ...     62     63     64     65     66     67     68     69     70  \\\n",
       "ID      ...  308.0  309.0  310.0  311.0  312.0  313.0  314.0  315.0  316.0   \n",
       "group   ...                                                                  \n",
       "prewt   ...                                                                  \n",
       "postwt  ...                                                                  \n",
       "difwt   ...                                                                  \n",
       "\n",
       "           71  \n",
       "ID      317.0  \n",
       "group          \n",
       "prewt          \n",
       "postwt         \n",
       "difwt          \n",
       "\n",
       "[5 rows x 72 columns]"
      ]
     },
     "execution_count": 36,
     "metadata": {},
     "output_type": "execute_result"
    }
   ],
   "source": [
    "import numpy as np\n",
    "df.mode().T.replace(np.nan,\"\")"
   ]
  },
  {
   "cell_type": "code",
   "execution_count": 37,
   "metadata": {},
   "outputs": [],
   "source": [
    "def mode(self):\n",
    "    return self.mode().T.replace(np.nan,\"\")"
   ]
  },
  {
   "cell_type": "markdown",
   "metadata": {},
   "source": [
    "## Functional Programming"
   ]
  },
  {
   "cell_type": "code",
   "execution_count": 38,
   "metadata": {},
   "outputs": [
    {
     "data": {
      "text/html": [
       "<div>\n",
       "<style scoped>\n",
       "    .dataframe tbody tr th:only-of-type {\n",
       "        vertical-align: middle;\n",
       "    }\n",
       "\n",
       "    .dataframe tbody tr th {\n",
       "        vertical-align: top;\n",
       "    }\n",
       "\n",
       "    .dataframe thead th {\n",
       "        text-align: right;\n",
       "    }\n",
       "</style>\n",
       "<table border=\"1\" class=\"dataframe\">\n",
       "  <thead>\n",
       "    <tr style=\"text-align: right;\">\n",
       "      <th></th>\n",
       "      <th>0</th>\n",
       "      <th>1</th>\n",
       "      <th>2</th>\n",
       "      <th>3</th>\n",
       "      <th>4</th>\n",
       "      <th>5</th>\n",
       "      <th>6</th>\n",
       "      <th>7</th>\n",
       "      <th>8</th>\n",
       "      <th>9</th>\n",
       "      <th>...</th>\n",
       "      <th>62</th>\n",
       "      <th>63</th>\n",
       "      <th>64</th>\n",
       "      <th>65</th>\n",
       "      <th>66</th>\n",
       "      <th>67</th>\n",
       "      <th>68</th>\n",
       "      <th>69</th>\n",
       "      <th>70</th>\n",
       "      <th>71</th>\n",
       "    </tr>\n",
       "  </thead>\n",
       "  <tbody>\n",
       "    <tr>\n",
       "      <th>ID</th>\n",
       "      <td>101.0</td>\n",
       "      <td>102.0</td>\n",
       "      <td>103.0</td>\n",
       "      <td>104.0</td>\n",
       "      <td>105.0</td>\n",
       "      <td>106.0</td>\n",
       "      <td>107.0</td>\n",
       "      <td>108.0</td>\n",
       "      <td>109.0</td>\n",
       "      <td>110.0</td>\n",
       "      <td>...</td>\n",
       "      <td>308.0</td>\n",
       "      <td>309.0</td>\n",
       "      <td>310.0</td>\n",
       "      <td>311.0</td>\n",
       "      <td>312.0</td>\n",
       "      <td>313.0</td>\n",
       "      <td>314.0</td>\n",
       "      <td>315.0</td>\n",
       "      <td>316.0</td>\n",
       "      <td>317.0</td>\n",
       "    </tr>\n",
       "    <tr>\n",
       "      <th>group</th>\n",
       "      <td>1.0</td>\n",
       "      <td></td>\n",
       "      <td></td>\n",
       "      <td></td>\n",
       "      <td></td>\n",
       "      <td></td>\n",
       "      <td></td>\n",
       "      <td></td>\n",
       "      <td></td>\n",
       "      <td></td>\n",
       "      <td>...</td>\n",
       "      <td></td>\n",
       "      <td></td>\n",
       "      <td></td>\n",
       "      <td></td>\n",
       "      <td></td>\n",
       "      <td></td>\n",
       "      <td></td>\n",
       "      <td></td>\n",
       "      <td></td>\n",
       "      <td></td>\n",
       "    </tr>\n",
       "    <tr>\n",
       "      <th>prewt</th>\n",
       "      <td>80.5</td>\n",
       "      <td>83.3</td>\n",
       "      <td>86.0</td>\n",
       "      <td></td>\n",
       "      <td></td>\n",
       "      <td></td>\n",
       "      <td></td>\n",
       "      <td></td>\n",
       "      <td></td>\n",
       "      <td></td>\n",
       "      <td>...</td>\n",
       "      <td></td>\n",
       "      <td></td>\n",
       "      <td></td>\n",
       "      <td></td>\n",
       "      <td></td>\n",
       "      <td></td>\n",
       "      <td></td>\n",
       "      <td></td>\n",
       "      <td></td>\n",
       "      <td></td>\n",
       "    </tr>\n",
       "    <tr>\n",
       "      <th>postwt</th>\n",
       "      <td>81.4</td>\n",
       "      <td></td>\n",
       "      <td></td>\n",
       "      <td></td>\n",
       "      <td></td>\n",
       "      <td></td>\n",
       "      <td></td>\n",
       "      <td></td>\n",
       "      <td></td>\n",
       "      <td></td>\n",
       "      <td>...</td>\n",
       "      <td></td>\n",
       "      <td></td>\n",
       "      <td></td>\n",
       "      <td></td>\n",
       "      <td></td>\n",
       "      <td></td>\n",
       "      <td></td>\n",
       "      <td></td>\n",
       "      <td></td>\n",
       "      <td></td>\n",
       "    </tr>\n",
       "    <tr>\n",
       "      <th>difwt</th>\n",
       "      <td>-10.2</td>\n",
       "      <td>-0.7</td>\n",
       "      <td>-0.1</td>\n",
       "      <td>3.9</td>\n",
       "      <td></td>\n",
       "      <td></td>\n",
       "      <td></td>\n",
       "      <td></td>\n",
       "      <td></td>\n",
       "      <td></td>\n",
       "      <td>...</td>\n",
       "      <td></td>\n",
       "      <td></td>\n",
       "      <td></td>\n",
       "      <td></td>\n",
       "      <td></td>\n",
       "      <td></td>\n",
       "      <td></td>\n",
       "      <td></td>\n",
       "      <td></td>\n",
       "      <td></td>\n",
       "    </tr>\n",
       "  </tbody>\n",
       "</table>\n",
       "<p>5 rows × 72 columns</p>\n",
       "</div>"
      ],
      "text/plain": [
       "           0      1      2      3      4      5      6      7      8      9   \\\n",
       "ID      101.0  102.0  103.0  104.0  105.0  106.0  107.0  108.0  109.0  110.0   \n",
       "group     1.0                                                                  \n",
       "prewt    80.5   83.3   86.0                                                    \n",
       "postwt   81.4                                                                  \n",
       "difwt   -10.2   -0.7   -0.1    3.9                                             \n",
       "\n",
       "        ...     62     63     64     65     66     67     68     69     70  \\\n",
       "ID      ...  308.0  309.0  310.0  311.0  312.0  313.0  314.0  315.0  316.0   \n",
       "group   ...                                                                  \n",
       "prewt   ...                                                                  \n",
       "postwt  ...                                                                  \n",
       "difwt   ...                                                                  \n",
       "\n",
       "           71  \n",
       "ID      317.0  \n",
       "group          \n",
       "prewt          \n",
       "postwt         \n",
       "difwt          \n",
       "\n",
       "[5 rows x 72 columns]"
      ]
     },
     "execution_count": 38,
     "metadata": {},
     "output_type": "execute_result"
    }
   ],
   "source": [
    "mode(df)"
   ]
  },
  {
   "cell_type": "markdown",
   "metadata": {},
   "source": [
    "## Object Oriented Programming - Adding Methods on the fly\n",
    "reference: https://stackoverflow.com/questions/972/adding-a-method-to-an-existing-object-instance"
   ]
  },
  {
   "cell_type": "code",
   "execution_count": 39,
   "metadata": {},
   "outputs": [],
   "source": [
    "df.mode2 = mode.__get__(df)"
   ]
  },
  {
   "cell_type": "code",
   "execution_count": 40,
   "metadata": {},
   "outputs": [
    {
     "data": {
      "text/html": [
       "<div>\n",
       "<style scoped>\n",
       "    .dataframe tbody tr th:only-of-type {\n",
       "        vertical-align: middle;\n",
       "    }\n",
       "\n",
       "    .dataframe tbody tr th {\n",
       "        vertical-align: top;\n",
       "    }\n",
       "\n",
       "    .dataframe thead th {\n",
       "        text-align: right;\n",
       "    }\n",
       "</style>\n",
       "<table border=\"1\" class=\"dataframe\">\n",
       "  <thead>\n",
       "    <tr style=\"text-align: right;\">\n",
       "      <th></th>\n",
       "      <th>0</th>\n",
       "      <th>1</th>\n",
       "      <th>2</th>\n",
       "      <th>3</th>\n",
       "      <th>4</th>\n",
       "      <th>5</th>\n",
       "      <th>6</th>\n",
       "      <th>7</th>\n",
       "      <th>8</th>\n",
       "      <th>9</th>\n",
       "      <th>...</th>\n",
       "      <th>62</th>\n",
       "      <th>63</th>\n",
       "      <th>64</th>\n",
       "      <th>65</th>\n",
       "      <th>66</th>\n",
       "      <th>67</th>\n",
       "      <th>68</th>\n",
       "      <th>69</th>\n",
       "      <th>70</th>\n",
       "      <th>71</th>\n",
       "    </tr>\n",
       "  </thead>\n",
       "  <tbody>\n",
       "    <tr>\n",
       "      <th>ID</th>\n",
       "      <td>101.0</td>\n",
       "      <td>102.0</td>\n",
       "      <td>103.0</td>\n",
       "      <td>104.0</td>\n",
       "      <td>105.0</td>\n",
       "      <td>106.0</td>\n",
       "      <td>107.0</td>\n",
       "      <td>108.0</td>\n",
       "      <td>109.0</td>\n",
       "      <td>110.0</td>\n",
       "      <td>...</td>\n",
       "      <td>308.0</td>\n",
       "      <td>309.0</td>\n",
       "      <td>310.0</td>\n",
       "      <td>311.0</td>\n",
       "      <td>312.0</td>\n",
       "      <td>313.0</td>\n",
       "      <td>314.0</td>\n",
       "      <td>315.0</td>\n",
       "      <td>316.0</td>\n",
       "      <td>317.0</td>\n",
       "    </tr>\n",
       "    <tr>\n",
       "      <th>group</th>\n",
       "      <td>1.0</td>\n",
       "      <td></td>\n",
       "      <td></td>\n",
       "      <td></td>\n",
       "      <td></td>\n",
       "      <td></td>\n",
       "      <td></td>\n",
       "      <td></td>\n",
       "      <td></td>\n",
       "      <td></td>\n",
       "      <td>...</td>\n",
       "      <td></td>\n",
       "      <td></td>\n",
       "      <td></td>\n",
       "      <td></td>\n",
       "      <td></td>\n",
       "      <td></td>\n",
       "      <td></td>\n",
       "      <td></td>\n",
       "      <td></td>\n",
       "      <td></td>\n",
       "    </tr>\n",
       "    <tr>\n",
       "      <th>prewt</th>\n",
       "      <td>80.5</td>\n",
       "      <td>83.3</td>\n",
       "      <td>86.0</td>\n",
       "      <td></td>\n",
       "      <td></td>\n",
       "      <td></td>\n",
       "      <td></td>\n",
       "      <td></td>\n",
       "      <td></td>\n",
       "      <td></td>\n",
       "      <td>...</td>\n",
       "      <td></td>\n",
       "      <td></td>\n",
       "      <td></td>\n",
       "      <td></td>\n",
       "      <td></td>\n",
       "      <td></td>\n",
       "      <td></td>\n",
       "      <td></td>\n",
       "      <td></td>\n",
       "      <td></td>\n",
       "    </tr>\n",
       "    <tr>\n",
       "      <th>postwt</th>\n",
       "      <td>81.4</td>\n",
       "      <td></td>\n",
       "      <td></td>\n",
       "      <td></td>\n",
       "      <td></td>\n",
       "      <td></td>\n",
       "      <td></td>\n",
       "      <td></td>\n",
       "      <td></td>\n",
       "      <td></td>\n",
       "      <td>...</td>\n",
       "      <td></td>\n",
       "      <td></td>\n",
       "      <td></td>\n",
       "      <td></td>\n",
       "      <td></td>\n",
       "      <td></td>\n",
       "      <td></td>\n",
       "      <td></td>\n",
       "      <td></td>\n",
       "      <td></td>\n",
       "    </tr>\n",
       "    <tr>\n",
       "      <th>difwt</th>\n",
       "      <td>-10.2</td>\n",
       "      <td>-0.7</td>\n",
       "      <td>-0.1</td>\n",
       "      <td>3.9</td>\n",
       "      <td></td>\n",
       "      <td></td>\n",
       "      <td></td>\n",
       "      <td></td>\n",
       "      <td></td>\n",
       "      <td></td>\n",
       "      <td>...</td>\n",
       "      <td></td>\n",
       "      <td></td>\n",
       "      <td></td>\n",
       "      <td></td>\n",
       "      <td></td>\n",
       "      <td></td>\n",
       "      <td></td>\n",
       "      <td></td>\n",
       "      <td></td>\n",
       "      <td></td>\n",
       "    </tr>\n",
       "  </tbody>\n",
       "</table>\n",
       "<p>5 rows × 72 columns</p>\n",
       "</div>"
      ],
      "text/plain": [
       "           0      1      2      3      4      5      6      7      8      9   \\\n",
       "ID      101.0  102.0  103.0  104.0  105.0  106.0  107.0  108.0  109.0  110.0   \n",
       "group     1.0                                                                  \n",
       "prewt    80.5   83.3   86.0                                                    \n",
       "postwt   81.4                                                                  \n",
       "difwt   -10.2   -0.7   -0.1    3.9                                             \n",
       "\n",
       "        ...     62     63     64     65     66     67     68     69     70  \\\n",
       "ID      ...  308.0  309.0  310.0  311.0  312.0  313.0  314.0  315.0  316.0   \n",
       "group   ...                                                                  \n",
       "prewt   ...                                                                  \n",
       "postwt  ...                                                                  \n",
       "difwt   ...                                                                  \n",
       "\n",
       "           71  \n",
       "ID      317.0  \n",
       "group          \n",
       "prewt          \n",
       "postwt         \n",
       "difwt          \n",
       "\n",
       "[5 rows x 72 columns]"
      ]
     },
     "execution_count": 40,
     "metadata": {},
     "output_type": "execute_result"
    }
   ],
   "source": [
    "df.mode2()"
   ]
  },
  {
   "cell_type": "markdown",
   "metadata": {},
   "source": [
    "## More Advanced Solution - Creating our own class with a DF inside"
   ]
  },
  {
   "cell_type": "code",
   "execution_count": 41,
   "metadata": {},
   "outputs": [],
   "source": [
    "import pandas as pd    \n",
    "class CustomDF():\n",
    "    def  __init__(self, filename):\n",
    "        self.data = pd.read_csv(filename)\n",
    "    def mode(self):\n",
    "        return self.data.mode().T.replace(np.nan,\"\")\n",
    "    def set_df(self, df):\n",
    "        self.data = df\n",
    "    def get_df(self):\n",
    "        return self.data\n"
   ]
  },
  {
   "cell_type": "code",
   "execution_count": 42,
   "metadata": {},
   "outputs": [],
   "source": [
    "csdf = CustomDF(\"anorexia.csv\")"
   ]
  },
  {
   "cell_type": "code",
   "execution_count": 43,
   "metadata": {},
   "outputs": [
    {
     "data": {
      "text/plain": [
       "__main__.CustomDF"
      ]
     },
     "execution_count": 43,
     "metadata": {},
     "output_type": "execute_result"
    }
   ],
   "source": [
    "type(csdf)"
   ]
  },
  {
   "cell_type": "code",
   "execution_count": 44,
   "metadata": {},
   "outputs": [
    {
     "data": {
      "text/html": [
       "<div>\n",
       "<style scoped>\n",
       "    .dataframe tbody tr th:only-of-type {\n",
       "        vertical-align: middle;\n",
       "    }\n",
       "\n",
       "    .dataframe tbody tr th {\n",
       "        vertical-align: top;\n",
       "    }\n",
       "\n",
       "    .dataframe thead th {\n",
       "        text-align: right;\n",
       "    }\n",
       "</style>\n",
       "<table border=\"1\" class=\"dataframe\">\n",
       "  <thead>\n",
       "    <tr style=\"text-align: right;\">\n",
       "      <th></th>\n",
       "      <th>0</th>\n",
       "      <th>1</th>\n",
       "      <th>2</th>\n",
       "      <th>3</th>\n",
       "      <th>4</th>\n",
       "      <th>5</th>\n",
       "      <th>6</th>\n",
       "      <th>7</th>\n",
       "      <th>8</th>\n",
       "      <th>9</th>\n",
       "      <th>...</th>\n",
       "      <th>62</th>\n",
       "      <th>63</th>\n",
       "      <th>64</th>\n",
       "      <th>65</th>\n",
       "      <th>66</th>\n",
       "      <th>67</th>\n",
       "      <th>68</th>\n",
       "      <th>69</th>\n",
       "      <th>70</th>\n",
       "      <th>71</th>\n",
       "    </tr>\n",
       "  </thead>\n",
       "  <tbody>\n",
       "    <tr>\n",
       "      <th>ID</th>\n",
       "      <td>101.0</td>\n",
       "      <td>102.0</td>\n",
       "      <td>103.0</td>\n",
       "      <td>104.0</td>\n",
       "      <td>105.0</td>\n",
       "      <td>106.0</td>\n",
       "      <td>107.0</td>\n",
       "      <td>108.0</td>\n",
       "      <td>109.0</td>\n",
       "      <td>110.0</td>\n",
       "      <td>...</td>\n",
       "      <td>308.0</td>\n",
       "      <td>309.0</td>\n",
       "      <td>310.0</td>\n",
       "      <td>311.0</td>\n",
       "      <td>312.0</td>\n",
       "      <td>313.0</td>\n",
       "      <td>314.0</td>\n",
       "      <td>315.0</td>\n",
       "      <td>316.0</td>\n",
       "      <td>317.0</td>\n",
       "    </tr>\n",
       "    <tr>\n",
       "      <th>group</th>\n",
       "      <td>1.0</td>\n",
       "      <td></td>\n",
       "      <td></td>\n",
       "      <td></td>\n",
       "      <td></td>\n",
       "      <td></td>\n",
       "      <td></td>\n",
       "      <td></td>\n",
       "      <td></td>\n",
       "      <td></td>\n",
       "      <td>...</td>\n",
       "      <td></td>\n",
       "      <td></td>\n",
       "      <td></td>\n",
       "      <td></td>\n",
       "      <td></td>\n",
       "      <td></td>\n",
       "      <td></td>\n",
       "      <td></td>\n",
       "      <td></td>\n",
       "      <td></td>\n",
       "    </tr>\n",
       "    <tr>\n",
       "      <th>prewt</th>\n",
       "      <td>80.5</td>\n",
       "      <td>83.3</td>\n",
       "      <td>86.0</td>\n",
       "      <td></td>\n",
       "      <td></td>\n",
       "      <td></td>\n",
       "      <td></td>\n",
       "      <td></td>\n",
       "      <td></td>\n",
       "      <td></td>\n",
       "      <td>...</td>\n",
       "      <td></td>\n",
       "      <td></td>\n",
       "      <td></td>\n",
       "      <td></td>\n",
       "      <td></td>\n",
       "      <td></td>\n",
       "      <td></td>\n",
       "      <td></td>\n",
       "      <td></td>\n",
       "      <td></td>\n",
       "    </tr>\n",
       "    <tr>\n",
       "      <th>postwt</th>\n",
       "      <td>81.4</td>\n",
       "      <td></td>\n",
       "      <td></td>\n",
       "      <td></td>\n",
       "      <td></td>\n",
       "      <td></td>\n",
       "      <td></td>\n",
       "      <td></td>\n",
       "      <td></td>\n",
       "      <td></td>\n",
       "      <td>...</td>\n",
       "      <td></td>\n",
       "      <td></td>\n",
       "      <td></td>\n",
       "      <td></td>\n",
       "      <td></td>\n",
       "      <td></td>\n",
       "      <td></td>\n",
       "      <td></td>\n",
       "      <td></td>\n",
       "      <td></td>\n",
       "    </tr>\n",
       "    <tr>\n",
       "      <th>difwt</th>\n",
       "      <td>-10.2</td>\n",
       "      <td>-0.7</td>\n",
       "      <td>-0.1</td>\n",
       "      <td>3.9</td>\n",
       "      <td></td>\n",
       "      <td></td>\n",
       "      <td></td>\n",
       "      <td></td>\n",
       "      <td></td>\n",
       "      <td></td>\n",
       "      <td>...</td>\n",
       "      <td></td>\n",
       "      <td></td>\n",
       "      <td></td>\n",
       "      <td></td>\n",
       "      <td></td>\n",
       "      <td></td>\n",
       "      <td></td>\n",
       "      <td></td>\n",
       "      <td></td>\n",
       "      <td></td>\n",
       "    </tr>\n",
       "  </tbody>\n",
       "</table>\n",
       "<p>5 rows × 72 columns</p>\n",
       "</div>"
      ],
      "text/plain": [
       "           0      1      2      3      4      5      6      7      8      9   \\\n",
       "ID      101.0  102.0  103.0  104.0  105.0  106.0  107.0  108.0  109.0  110.0   \n",
       "group     1.0                                                                  \n",
       "prewt    80.5   83.3   86.0                                                    \n",
       "postwt   81.4                                                                  \n",
       "difwt   -10.2   -0.7   -0.1    3.9                                             \n",
       "\n",
       "        ...     62     63     64     65     66     67     68     69     70  \\\n",
       "ID      ...  308.0  309.0  310.0  311.0  312.0  313.0  314.0  315.0  316.0   \n",
       "group   ...                                                                  \n",
       "prewt   ...                                                                  \n",
       "postwt  ...                                                                  \n",
       "difwt   ...                                                                  \n",
       "\n",
       "           71  \n",
       "ID      317.0  \n",
       "group          \n",
       "prewt          \n",
       "postwt         \n",
       "difwt          \n",
       "\n",
       "[5 rows x 72 columns]"
      ]
     },
     "execution_count": 44,
     "metadata": {},
     "output_type": "execute_result"
    }
   ],
   "source": [
    "csdf.mode()"
   ]
  },
  {
   "cell_type": "code",
   "execution_count": 45,
   "metadata": {},
   "outputs": [],
   "source": [
    "csdf.set_df(df)"
   ]
  },
  {
   "cell_type": "code",
   "execution_count": 46,
   "metadata": {},
   "outputs": [
    {
     "data": {
      "text/html": [
       "<div>\n",
       "<style scoped>\n",
       "    .dataframe tbody tr th:only-of-type {\n",
       "        vertical-align: middle;\n",
       "    }\n",
       "\n",
       "    .dataframe tbody tr th {\n",
       "        vertical-align: top;\n",
       "    }\n",
       "\n",
       "    .dataframe thead th {\n",
       "        text-align: right;\n",
       "    }\n",
       "</style>\n",
       "<table border=\"1\" class=\"dataframe\">\n",
       "  <thead>\n",
       "    <tr style=\"text-align: right;\">\n",
       "      <th></th>\n",
       "      <th>0</th>\n",
       "      <th>1</th>\n",
       "      <th>2</th>\n",
       "      <th>3</th>\n",
       "      <th>4</th>\n",
       "      <th>5</th>\n",
       "      <th>6</th>\n",
       "      <th>7</th>\n",
       "      <th>8</th>\n",
       "      <th>9</th>\n",
       "      <th>...</th>\n",
       "      <th>62</th>\n",
       "      <th>63</th>\n",
       "      <th>64</th>\n",
       "      <th>65</th>\n",
       "      <th>66</th>\n",
       "      <th>67</th>\n",
       "      <th>68</th>\n",
       "      <th>69</th>\n",
       "      <th>70</th>\n",
       "      <th>71</th>\n",
       "    </tr>\n",
       "  </thead>\n",
       "  <tbody>\n",
       "    <tr>\n",
       "      <th>ID</th>\n",
       "      <td>101.0</td>\n",
       "      <td>102.0</td>\n",
       "      <td>103.0</td>\n",
       "      <td>104.0</td>\n",
       "      <td>105.0</td>\n",
       "      <td>106.0</td>\n",
       "      <td>107.0</td>\n",
       "      <td>108.0</td>\n",
       "      <td>109.0</td>\n",
       "      <td>110.0</td>\n",
       "      <td>...</td>\n",
       "      <td>308.0</td>\n",
       "      <td>309.0</td>\n",
       "      <td>310.0</td>\n",
       "      <td>311.0</td>\n",
       "      <td>312.0</td>\n",
       "      <td>313.0</td>\n",
       "      <td>314.0</td>\n",
       "      <td>315.0</td>\n",
       "      <td>316.0</td>\n",
       "      <td>317.0</td>\n",
       "    </tr>\n",
       "    <tr>\n",
       "      <th>group</th>\n",
       "      <td>1.0</td>\n",
       "      <td></td>\n",
       "      <td></td>\n",
       "      <td></td>\n",
       "      <td></td>\n",
       "      <td></td>\n",
       "      <td></td>\n",
       "      <td></td>\n",
       "      <td></td>\n",
       "      <td></td>\n",
       "      <td>...</td>\n",
       "      <td></td>\n",
       "      <td></td>\n",
       "      <td></td>\n",
       "      <td></td>\n",
       "      <td></td>\n",
       "      <td></td>\n",
       "      <td></td>\n",
       "      <td></td>\n",
       "      <td></td>\n",
       "      <td></td>\n",
       "    </tr>\n",
       "    <tr>\n",
       "      <th>prewt</th>\n",
       "      <td>80.5</td>\n",
       "      <td>83.3</td>\n",
       "      <td>86.0</td>\n",
       "      <td></td>\n",
       "      <td></td>\n",
       "      <td></td>\n",
       "      <td></td>\n",
       "      <td></td>\n",
       "      <td></td>\n",
       "      <td></td>\n",
       "      <td>...</td>\n",
       "      <td></td>\n",
       "      <td></td>\n",
       "      <td></td>\n",
       "      <td></td>\n",
       "      <td></td>\n",
       "      <td></td>\n",
       "      <td></td>\n",
       "      <td></td>\n",
       "      <td></td>\n",
       "      <td></td>\n",
       "    </tr>\n",
       "    <tr>\n",
       "      <th>postwt</th>\n",
       "      <td>81.4</td>\n",
       "      <td></td>\n",
       "      <td></td>\n",
       "      <td></td>\n",
       "      <td></td>\n",
       "      <td></td>\n",
       "      <td></td>\n",
       "      <td></td>\n",
       "      <td></td>\n",
       "      <td></td>\n",
       "      <td>...</td>\n",
       "      <td></td>\n",
       "      <td></td>\n",
       "      <td></td>\n",
       "      <td></td>\n",
       "      <td></td>\n",
       "      <td></td>\n",
       "      <td></td>\n",
       "      <td></td>\n",
       "      <td></td>\n",
       "      <td></td>\n",
       "    </tr>\n",
       "    <tr>\n",
       "      <th>difwt</th>\n",
       "      <td>-10.2</td>\n",
       "      <td>-0.7</td>\n",
       "      <td>-0.1</td>\n",
       "      <td>3.9</td>\n",
       "      <td></td>\n",
       "      <td></td>\n",
       "      <td></td>\n",
       "      <td></td>\n",
       "      <td></td>\n",
       "      <td></td>\n",
       "      <td>...</td>\n",
       "      <td></td>\n",
       "      <td></td>\n",
       "      <td></td>\n",
       "      <td></td>\n",
       "      <td></td>\n",
       "      <td></td>\n",
       "      <td></td>\n",
       "      <td></td>\n",
       "      <td></td>\n",
       "      <td></td>\n",
       "    </tr>\n",
       "  </tbody>\n",
       "</table>\n",
       "<p>5 rows × 72 columns</p>\n",
       "</div>"
      ],
      "text/plain": [
       "           0      1      2      3      4      5      6      7      8      9   \\\n",
       "ID      101.0  102.0  103.0  104.0  105.0  106.0  107.0  108.0  109.0  110.0   \n",
       "group     1.0                                                                  \n",
       "prewt    80.5   83.3   86.0                                                    \n",
       "postwt   81.4                                                                  \n",
       "difwt   -10.2   -0.7   -0.1    3.9                                             \n",
       "\n",
       "        ...     62     63     64     65     66     67     68     69     70  \\\n",
       "ID      ...  308.0  309.0  310.0  311.0  312.0  313.0  314.0  315.0  316.0   \n",
       "group   ...                                                                  \n",
       "prewt   ...                                                                  \n",
       "postwt  ...                                                                  \n",
       "difwt   ...                                                                  \n",
       "\n",
       "           71  \n",
       "ID      317.0  \n",
       "group          \n",
       "prewt          \n",
       "postwt         \n",
       "difwt          \n",
       "\n",
       "[5 rows x 72 columns]"
      ]
     },
     "execution_count": 46,
     "metadata": {},
     "output_type": "execute_result"
    }
   ],
   "source": [
    "csdf.mode()"
   ]
  },
  {
   "cell_type": "code",
   "execution_count": 47,
   "metadata": {},
   "outputs": [],
   "source": [
    "df2 = csdf.get_df()"
   ]
  },
  {
   "cell_type": "code",
   "execution_count": 48,
   "metadata": {},
   "outputs": [
    {
     "data": {
      "text/plain": [
       "pandas.core.frame.DataFrame"
      ]
     },
     "execution_count": 48,
     "metadata": {},
     "output_type": "execute_result"
    }
   ],
   "source": [
    "type(df2)"
   ]
  },
  {
   "cell_type": "code",
   "execution_count": 49,
   "metadata": {},
   "outputs": [
    {
     "data": {
      "text/html": [
       "<div>\n",
       "<style scoped>\n",
       "    .dataframe tbody tr th:only-of-type {\n",
       "        vertical-align: middle;\n",
       "    }\n",
       "\n",
       "    .dataframe tbody tr th {\n",
       "        vertical-align: top;\n",
       "    }\n",
       "\n",
       "    .dataframe thead th {\n",
       "        text-align: right;\n",
       "    }\n",
       "</style>\n",
       "<table border=\"1\" class=\"dataframe\">\n",
       "  <thead>\n",
       "    <tr style=\"text-align: right;\">\n",
       "      <th></th>\n",
       "      <th>ID</th>\n",
       "      <th>group</th>\n",
       "      <th>prewt</th>\n",
       "      <th>postwt</th>\n",
       "      <th>difwt</th>\n",
       "    </tr>\n",
       "  </thead>\n",
       "  <tbody>\n",
       "    <tr>\n",
       "      <th>0</th>\n",
       "      <td>101</td>\n",
       "      <td>1.0</td>\n",
       "      <td>80.5</td>\n",
       "      <td>81.4</td>\n",
       "      <td>-10.2</td>\n",
       "    </tr>\n",
       "    <tr>\n",
       "      <th>1</th>\n",
       "      <td>102</td>\n",
       "      <td>NaN</td>\n",
       "      <td>83.3</td>\n",
       "      <td>NaN</td>\n",
       "      <td>-0.7</td>\n",
       "    </tr>\n",
       "    <tr>\n",
       "      <th>2</th>\n",
       "      <td>103</td>\n",
       "      <td>NaN</td>\n",
       "      <td>86.0</td>\n",
       "      <td>NaN</td>\n",
       "      <td>-0.1</td>\n",
       "    </tr>\n",
       "    <tr>\n",
       "      <th>3</th>\n",
       "      <td>104</td>\n",
       "      <td>NaN</td>\n",
       "      <td>NaN</td>\n",
       "      <td>NaN</td>\n",
       "      <td>3.9</td>\n",
       "    </tr>\n",
       "    <tr>\n",
       "      <th>4</th>\n",
       "      <td>105</td>\n",
       "      <td>NaN</td>\n",
       "      <td>NaN</td>\n",
       "      <td>NaN</td>\n",
       "      <td>NaN</td>\n",
       "    </tr>\n",
       "    <tr>\n",
       "      <th>...</th>\n",
       "      <td>...</td>\n",
       "      <td>...</td>\n",
       "      <td>...</td>\n",
       "      <td>...</td>\n",
       "      <td>...</td>\n",
       "    </tr>\n",
       "    <tr>\n",
       "      <th>67</th>\n",
       "      <td>313</td>\n",
       "      <td>NaN</td>\n",
       "      <td>NaN</td>\n",
       "      <td>NaN</td>\n",
       "      <td>NaN</td>\n",
       "    </tr>\n",
       "    <tr>\n",
       "      <th>68</th>\n",
       "      <td>314</td>\n",
       "      <td>NaN</td>\n",
       "      <td>NaN</td>\n",
       "      <td>NaN</td>\n",
       "      <td>NaN</td>\n",
       "    </tr>\n",
       "    <tr>\n",
       "      <th>69</th>\n",
       "      <td>315</td>\n",
       "      <td>NaN</td>\n",
       "      <td>NaN</td>\n",
       "      <td>NaN</td>\n",
       "      <td>NaN</td>\n",
       "    </tr>\n",
       "    <tr>\n",
       "      <th>70</th>\n",
       "      <td>316</td>\n",
       "      <td>NaN</td>\n",
       "      <td>NaN</td>\n",
       "      <td>NaN</td>\n",
       "      <td>NaN</td>\n",
       "    </tr>\n",
       "    <tr>\n",
       "      <th>71</th>\n",
       "      <td>317</td>\n",
       "      <td>NaN</td>\n",
       "      <td>NaN</td>\n",
       "      <td>NaN</td>\n",
       "      <td>NaN</td>\n",
       "    </tr>\n",
       "  </tbody>\n",
       "</table>\n",
       "<p>72 rows × 5 columns</p>\n",
       "</div>"
      ],
      "text/plain": [
       "     ID  group  prewt  postwt  difwt\n",
       "0   101    1.0   80.5    81.4  -10.2\n",
       "1   102    NaN   83.3     NaN   -0.7\n",
       "2   103    NaN   86.0     NaN   -0.1\n",
       "3   104    NaN    NaN     NaN    3.9\n",
       "4   105    NaN    NaN     NaN    NaN\n",
       "..  ...    ...    ...     ...    ...\n",
       "67  313    NaN    NaN     NaN    NaN\n",
       "68  314    NaN    NaN     NaN    NaN\n",
       "69  315    NaN    NaN     NaN    NaN\n",
       "70  316    NaN    NaN     NaN    NaN\n",
       "71  317    NaN    NaN     NaN    NaN\n",
       "\n",
       "[72 rows x 5 columns]"
      ]
     },
     "execution_count": 49,
     "metadata": {},
     "output_type": "execute_result"
    }
   ],
   "source": [
    "df2.mode()"
   ]
  },
  {
   "cell_type": "markdown",
   "metadata": {},
   "source": [
    "## The most Advanced Solution - Creating our own class with a DF inside"
   ]
  },
  {
   "cell_type": "markdown",
   "metadata": {},
   "source": [
    "## Class\n",
    "We will great initial code, which extends Pandas DataFrame in a magical way turning our own class into like-Pandas:\n",
    "\n",
    "\n",
    "class ExtendedDataframe(pd.DataFrame):\n",
    "    #Initializing the inherited pd.DataFrame\n",
    "    def __init__(self, *args, **kwargs):\n",
    "        super().__init__(*args,**kwargs)\n",
    "    \n",
    "    @property\n",
    "    def _constructor(self):\n",
    "        def func_(*args,**kwargs):\n",
    "            df = ExtendedDataframe(*args,**kwargs)\n",
    "            return df\n",
    "        return func_\n"
   ]
  },
  {
   "cell_type": "code",
   "execution_count": 69,
   "metadata": {},
   "outputs": [],
   "source": [
    "class ExtendedDataframe(pd.DataFrame):\n",
    "    \"\"\"\n",
    "    Complete and correct way to extend the properties of Dataframes!\n",
    "    \"\"\"\n",
    "\n",
    "    #Initializing the inherited pd.DataFrame\n",
    "    def __init__(self, *args, **kwargs):\n",
    "        super().__init__(*args,**kwargs)\n",
    "    \n",
    "    @property\n",
    "    def _constructor(self):\n",
    "        def func_(*args,**kwargs):\n",
    "            df = ExtendedDataframe(*args,**kwargs)\n",
    "            return df\n",
    "        return func_\n",
    "\n",
    "    # your functions start from here!\n",
    "    def fixed_mode(self):\n",
    "        return self.mode().T.replace(np.nan,\"\")\n",
    "    "
   ]
  },
  {
   "cell_type": "code",
   "execution_count": 70,
   "metadata": {},
   "outputs": [
    {
     "data": {
      "text/html": [
       "<div>\n",
       "<style scoped>\n",
       "    .dataframe tbody tr th:only-of-type {\n",
       "        vertical-align: middle;\n",
       "    }\n",
       "\n",
       "    .dataframe tbody tr th {\n",
       "        vertical-align: top;\n",
       "    }\n",
       "\n",
       "    .dataframe thead th {\n",
       "        text-align: right;\n",
       "    }\n",
       "</style>\n",
       "<table border=\"1\" class=\"dataframe\">\n",
       "  <thead>\n",
       "    <tr style=\"text-align: right;\">\n",
       "      <th></th>\n",
       "      <th>ID</th>\n",
       "      <th>group</th>\n",
       "      <th>prewt</th>\n",
       "      <th>postwt</th>\n",
       "      <th>difwt</th>\n",
       "    </tr>\n",
       "  </thead>\n",
       "  <tbody>\n",
       "    <tr>\n",
       "      <th>0</th>\n",
       "      <td>101</td>\n",
       "      <td>1.0</td>\n",
       "      <td>80.5</td>\n",
       "      <td>81.4</td>\n",
       "      <td>-10.2</td>\n",
       "    </tr>\n",
       "    <tr>\n",
       "      <th>1</th>\n",
       "      <td>102</td>\n",
       "      <td>NaN</td>\n",
       "      <td>83.3</td>\n",
       "      <td>NaN</td>\n",
       "      <td>-0.7</td>\n",
       "    </tr>\n",
       "    <tr>\n",
       "      <th>2</th>\n",
       "      <td>103</td>\n",
       "      <td>NaN</td>\n",
       "      <td>86.0</td>\n",
       "      <td>NaN</td>\n",
       "      <td>-0.1</td>\n",
       "    </tr>\n",
       "    <tr>\n",
       "      <th>3</th>\n",
       "      <td>104</td>\n",
       "      <td>NaN</td>\n",
       "      <td>NaN</td>\n",
       "      <td>NaN</td>\n",
       "      <td>3.9</td>\n",
       "    </tr>\n",
       "    <tr>\n",
       "      <th>4</th>\n",
       "      <td>105</td>\n",
       "      <td>NaN</td>\n",
       "      <td>NaN</td>\n",
       "      <td>NaN</td>\n",
       "      <td>NaN</td>\n",
       "    </tr>\n",
       "    <tr>\n",
       "      <th>...</th>\n",
       "      <td>...</td>\n",
       "      <td>...</td>\n",
       "      <td>...</td>\n",
       "      <td>...</td>\n",
       "      <td>...</td>\n",
       "    </tr>\n",
       "    <tr>\n",
       "      <th>67</th>\n",
       "      <td>313</td>\n",
       "      <td>NaN</td>\n",
       "      <td>NaN</td>\n",
       "      <td>NaN</td>\n",
       "      <td>NaN</td>\n",
       "    </tr>\n",
       "    <tr>\n",
       "      <th>68</th>\n",
       "      <td>314</td>\n",
       "      <td>NaN</td>\n",
       "      <td>NaN</td>\n",
       "      <td>NaN</td>\n",
       "      <td>NaN</td>\n",
       "    </tr>\n",
       "    <tr>\n",
       "      <th>69</th>\n",
       "      <td>315</td>\n",
       "      <td>NaN</td>\n",
       "      <td>NaN</td>\n",
       "      <td>NaN</td>\n",
       "      <td>NaN</td>\n",
       "    </tr>\n",
       "    <tr>\n",
       "      <th>70</th>\n",
       "      <td>316</td>\n",
       "      <td>NaN</td>\n",
       "      <td>NaN</td>\n",
       "      <td>NaN</td>\n",
       "      <td>NaN</td>\n",
       "    </tr>\n",
       "    <tr>\n",
       "      <th>71</th>\n",
       "      <td>317</td>\n",
       "      <td>NaN</td>\n",
       "      <td>NaN</td>\n",
       "      <td>NaN</td>\n",
       "      <td>NaN</td>\n",
       "    </tr>\n",
       "  </tbody>\n",
       "</table>\n",
       "<p>72 rows × 5 columns</p>\n",
       "</div>"
      ],
      "text/plain": [
       "     ID  group  prewt  postwt  difwt\n",
       "0   101    1.0   80.5    81.4  -10.2\n",
       "1   102    NaN   83.3     NaN   -0.7\n",
       "2   103    NaN   86.0     NaN   -0.1\n",
       "3   104    NaN    NaN     NaN    3.9\n",
       "4   105    NaN    NaN     NaN    NaN\n",
       "..  ...    ...    ...     ...    ...\n",
       "67  313    NaN    NaN     NaN    NaN\n",
       "68  314    NaN    NaN     NaN    NaN\n",
       "69  315    NaN    NaN     NaN    NaN\n",
       "70  316    NaN    NaN     NaN    NaN\n",
       "71  317    NaN    NaN     NaN    NaN\n",
       "\n",
       "[72 rows x 5 columns]"
      ]
     },
     "execution_count": 70,
     "metadata": {},
     "output_type": "execute_result"
    }
   ],
   "source": [
    "import pandas as pd\n",
    "df = pd.read_csv(\"anorexia.csv\")\n",
    "df.mode()"
   ]
  },
  {
   "cell_type": "code",
   "execution_count": 71,
   "metadata": {},
   "outputs": [
    {
     "data": {
      "text/html": [
       "<div>\n",
       "<style scoped>\n",
       "    .dataframe tbody tr th:only-of-type {\n",
       "        vertical-align: middle;\n",
       "    }\n",
       "\n",
       "    .dataframe tbody tr th {\n",
       "        vertical-align: top;\n",
       "    }\n",
       "\n",
       "    .dataframe thead th {\n",
       "        text-align: right;\n",
       "    }\n",
       "</style>\n",
       "<table border=\"1\" class=\"dataframe\">\n",
       "  <thead>\n",
       "    <tr style=\"text-align: right;\">\n",
       "      <th></th>\n",
       "      <th>0</th>\n",
       "      <th>1</th>\n",
       "      <th>2</th>\n",
       "      <th>3</th>\n",
       "      <th>4</th>\n",
       "      <th>5</th>\n",
       "      <th>6</th>\n",
       "      <th>7</th>\n",
       "      <th>8</th>\n",
       "      <th>9</th>\n",
       "      <th>...</th>\n",
       "      <th>62</th>\n",
       "      <th>63</th>\n",
       "      <th>64</th>\n",
       "      <th>65</th>\n",
       "      <th>66</th>\n",
       "      <th>67</th>\n",
       "      <th>68</th>\n",
       "      <th>69</th>\n",
       "      <th>70</th>\n",
       "      <th>71</th>\n",
       "    </tr>\n",
       "  </thead>\n",
       "  <tbody>\n",
       "    <tr>\n",
       "      <th>ID</th>\n",
       "      <td>101.0</td>\n",
       "      <td>102.0</td>\n",
       "      <td>103.0</td>\n",
       "      <td>104.0</td>\n",
       "      <td>105.0</td>\n",
       "      <td>106.0</td>\n",
       "      <td>107.0</td>\n",
       "      <td>108.0</td>\n",
       "      <td>109.0</td>\n",
       "      <td>110.0</td>\n",
       "      <td>...</td>\n",
       "      <td>308.0</td>\n",
       "      <td>309.0</td>\n",
       "      <td>310.0</td>\n",
       "      <td>311.0</td>\n",
       "      <td>312.0</td>\n",
       "      <td>313.0</td>\n",
       "      <td>314.0</td>\n",
       "      <td>315.0</td>\n",
       "      <td>316.0</td>\n",
       "      <td>317.0</td>\n",
       "    </tr>\n",
       "    <tr>\n",
       "      <th>group</th>\n",
       "      <td>1.0</td>\n",
       "      <td></td>\n",
       "      <td></td>\n",
       "      <td></td>\n",
       "      <td></td>\n",
       "      <td></td>\n",
       "      <td></td>\n",
       "      <td></td>\n",
       "      <td></td>\n",
       "      <td></td>\n",
       "      <td>...</td>\n",
       "      <td></td>\n",
       "      <td></td>\n",
       "      <td></td>\n",
       "      <td></td>\n",
       "      <td></td>\n",
       "      <td></td>\n",
       "      <td></td>\n",
       "      <td></td>\n",
       "      <td></td>\n",
       "      <td></td>\n",
       "    </tr>\n",
       "    <tr>\n",
       "      <th>prewt</th>\n",
       "      <td>80.5</td>\n",
       "      <td>83.3</td>\n",
       "      <td>86.0</td>\n",
       "      <td></td>\n",
       "      <td></td>\n",
       "      <td></td>\n",
       "      <td></td>\n",
       "      <td></td>\n",
       "      <td></td>\n",
       "      <td></td>\n",
       "      <td>...</td>\n",
       "      <td></td>\n",
       "      <td></td>\n",
       "      <td></td>\n",
       "      <td></td>\n",
       "      <td></td>\n",
       "      <td></td>\n",
       "      <td></td>\n",
       "      <td></td>\n",
       "      <td></td>\n",
       "      <td></td>\n",
       "    </tr>\n",
       "    <tr>\n",
       "      <th>postwt</th>\n",
       "      <td>81.4</td>\n",
       "      <td></td>\n",
       "      <td></td>\n",
       "      <td></td>\n",
       "      <td></td>\n",
       "      <td></td>\n",
       "      <td></td>\n",
       "      <td></td>\n",
       "      <td></td>\n",
       "      <td></td>\n",
       "      <td>...</td>\n",
       "      <td></td>\n",
       "      <td></td>\n",
       "      <td></td>\n",
       "      <td></td>\n",
       "      <td></td>\n",
       "      <td></td>\n",
       "      <td></td>\n",
       "      <td></td>\n",
       "      <td></td>\n",
       "      <td></td>\n",
       "    </tr>\n",
       "    <tr>\n",
       "      <th>difwt</th>\n",
       "      <td>-10.2</td>\n",
       "      <td>-0.7</td>\n",
       "      <td>-0.1</td>\n",
       "      <td>3.9</td>\n",
       "      <td></td>\n",
       "      <td></td>\n",
       "      <td></td>\n",
       "      <td></td>\n",
       "      <td></td>\n",
       "      <td></td>\n",
       "      <td>...</td>\n",
       "      <td></td>\n",
       "      <td></td>\n",
       "      <td></td>\n",
       "      <td></td>\n",
       "      <td></td>\n",
       "      <td></td>\n",
       "      <td></td>\n",
       "      <td></td>\n",
       "      <td></td>\n",
       "      <td></td>\n",
       "    </tr>\n",
       "  </tbody>\n",
       "</table>\n",
       "<p>5 rows × 72 columns</p>\n",
       "</div>"
      ],
      "text/plain": [
       "           0      1      2      3      4      5      6      7      8      9   \\\n",
       "ID      101.0  102.0  103.0  104.0  105.0  106.0  107.0  108.0  109.0  110.0   \n",
       "group     1.0                                                                  \n",
       "prewt    80.5   83.3   86.0                                                    \n",
       "postwt   81.4                                                                  \n",
       "difwt   -10.2   -0.7   -0.1    3.9                                             \n",
       "\n",
       "        ...     62     63     64     65     66     67     68     69     70  \\\n",
       "ID      ...  308.0  309.0  310.0  311.0  312.0  313.0  314.0  315.0  316.0   \n",
       "group   ...                                                                  \n",
       "prewt   ...                                                                  \n",
       "postwt  ...                                                                  \n",
       "difwt   ...                                                                  \n",
       "\n",
       "           71  \n",
       "ID      317.0  \n",
       "group          \n",
       "prewt          \n",
       "postwt         \n",
       "difwt          \n",
       "\n",
       "[5 rows x 72 columns]"
      ]
     },
     "execution_count": 71,
     "metadata": {},
     "output_type": "execute_result"
    }
   ],
   "source": [
    "xdf = ExtendedDataframe(df)\n",
    "xdf.fixed_mode()"
   ]
  },
  {
   "cell_type": "code",
   "execution_count": 72,
   "metadata": {},
   "outputs": [
    {
     "data": {
      "text/html": [
       "<div>\n",
       "<style scoped>\n",
       "    .dataframe tbody tr th:only-of-type {\n",
       "        vertical-align: middle;\n",
       "    }\n",
       "\n",
       "    .dataframe tbody tr th {\n",
       "        vertical-align: top;\n",
       "    }\n",
       "\n",
       "    .dataframe thead th {\n",
       "        text-align: right;\n",
       "    }\n",
       "</style>\n",
       "<table border=\"1\" class=\"dataframe\">\n",
       "  <thead>\n",
       "    <tr style=\"text-align: right;\">\n",
       "      <th></th>\n",
       "      <th>ID</th>\n",
       "      <th>group</th>\n",
       "      <th>prewt</th>\n",
       "      <th>postwt</th>\n",
       "      <th>difwt</th>\n",
       "    </tr>\n",
       "  </thead>\n",
       "  <tbody>\n",
       "    <tr>\n",
       "      <th>0</th>\n",
       "      <td>101</td>\n",
       "      <td>1.0</td>\n",
       "      <td>80.5</td>\n",
       "      <td>81.4</td>\n",
       "      <td>-10.2</td>\n",
       "    </tr>\n",
       "    <tr>\n",
       "      <th>1</th>\n",
       "      <td>102</td>\n",
       "      <td>NaN</td>\n",
       "      <td>83.3</td>\n",
       "      <td>NaN</td>\n",
       "      <td>-0.7</td>\n",
       "    </tr>\n",
       "    <tr>\n",
       "      <th>2</th>\n",
       "      <td>103</td>\n",
       "      <td>NaN</td>\n",
       "      <td>86.0</td>\n",
       "      <td>NaN</td>\n",
       "      <td>-0.1</td>\n",
       "    </tr>\n",
       "    <tr>\n",
       "      <th>3</th>\n",
       "      <td>104</td>\n",
       "      <td>NaN</td>\n",
       "      <td>NaN</td>\n",
       "      <td>NaN</td>\n",
       "      <td>3.9</td>\n",
       "    </tr>\n",
       "    <tr>\n",
       "      <th>4</th>\n",
       "      <td>105</td>\n",
       "      <td>NaN</td>\n",
       "      <td>NaN</td>\n",
       "      <td>NaN</td>\n",
       "      <td>NaN</td>\n",
       "    </tr>\n",
       "    <tr>\n",
       "      <th>...</th>\n",
       "      <td>...</td>\n",
       "      <td>...</td>\n",
       "      <td>...</td>\n",
       "      <td>...</td>\n",
       "      <td>...</td>\n",
       "    </tr>\n",
       "    <tr>\n",
       "      <th>67</th>\n",
       "      <td>313</td>\n",
       "      <td>NaN</td>\n",
       "      <td>NaN</td>\n",
       "      <td>NaN</td>\n",
       "      <td>NaN</td>\n",
       "    </tr>\n",
       "    <tr>\n",
       "      <th>68</th>\n",
       "      <td>314</td>\n",
       "      <td>NaN</td>\n",
       "      <td>NaN</td>\n",
       "      <td>NaN</td>\n",
       "      <td>NaN</td>\n",
       "    </tr>\n",
       "    <tr>\n",
       "      <th>69</th>\n",
       "      <td>315</td>\n",
       "      <td>NaN</td>\n",
       "      <td>NaN</td>\n",
       "      <td>NaN</td>\n",
       "      <td>NaN</td>\n",
       "    </tr>\n",
       "    <tr>\n",
       "      <th>70</th>\n",
       "      <td>316</td>\n",
       "      <td>NaN</td>\n",
       "      <td>NaN</td>\n",
       "      <td>NaN</td>\n",
       "      <td>NaN</td>\n",
       "    </tr>\n",
       "    <tr>\n",
       "      <th>71</th>\n",
       "      <td>317</td>\n",
       "      <td>NaN</td>\n",
       "      <td>NaN</td>\n",
       "      <td>NaN</td>\n",
       "      <td>NaN</td>\n",
       "    </tr>\n",
       "  </tbody>\n",
       "</table>\n",
       "<p>72 rows × 5 columns</p>\n",
       "</div>"
      ],
      "text/plain": [
       "     ID  group  prewt  postwt  difwt\n",
       "0   101    1.0   80.5    81.4  -10.2\n",
       "1   102    NaN   83.3     NaN   -0.7\n",
       "2   103    NaN   86.0     NaN   -0.1\n",
       "3   104    NaN    NaN     NaN    3.9\n",
       "4   105    NaN    NaN     NaN    NaN\n",
       "..  ...    ...    ...     ...    ...\n",
       "67  313    NaN    NaN     NaN    NaN\n",
       "68  314    NaN    NaN     NaN    NaN\n",
       "69  315    NaN    NaN     NaN    NaN\n",
       "70  316    NaN    NaN     NaN    NaN\n",
       "71  317    NaN    NaN     NaN    NaN\n",
       "\n",
       "[72 rows x 5 columns]"
      ]
     },
     "execution_count": 72,
     "metadata": {},
     "output_type": "execute_result"
    }
   ],
   "source": [
    "xdf.mode()"
   ]
  },
  {
   "cell_type": "markdown",
   "metadata": {},
   "source": [
    "## Exercise part 1 - create a class named Company with the following attributes:\n",
    "* nif: company fiscal number\n",
    "* company_name: Company Name\n",
    "* CNAE: Business Sector\n",
    "* p10000: Total Assets / Total activos\n",
    "* p20000: Own Capital / Patrimonio neto\n",
    "* p31200: Short Term Debt / Deuda a corto plazo\n",
    "* p32300: Long Term Debt / Deuda a largo plazo\n",
    "* p40100_40500: Sales Turnover (Ingresos de Explotación) + Other sales (Otros Ingresos)\n",
    "* p40800: Amortization (Amortización)\n",
    "* p49100: Profit (Resultado del ejercicio)\n",
    "\n"
   ]
  },
  {
   "cell_type": "code",
   "execution_count": 1,
   "metadata": {},
   "outputs": [],
   "source": [
    "class Company():\n",
    "    def __init__(self, nif, company_name, CNAE, p10000,p20000,p31200,p32300,p40100_40500,p40800,p49100):\n",
    "        self.nif=nif\n",
    "        self.company_name=company_name\n",
    "        self.CNAE=CNAE\n",
    "        self.p10000 = p10000\n",
    "        self.p20000 = p20000\n",
    "        self.p31200 = p31200\n",
    "        self.p32300 = p32300\n",
    "        self.p40100_40500 = p40100_40500\n",
    "        self.p40800 = p40800\n",
    "        self.p49100 = p49100\n",
    "    def get_ebitda_margin(self):\n",
    "        return (self.p49100 + abs(self.p40800))/self.p40100_40500\n",
    "    def get_total_debt_ebitda(self):\n",
    "        return (self.p31200+self.p32300)/(self.p49100 + abs(self.p40800))\n",
    "    def get_leverage(self):\n",
    "        return (self.p10000-self.p20000)/self.p20000"
   ]
  },
  {
   "cell_type": "markdown",
   "metadata": {},
   "source": [
    "Then, a constructor to set those values. Test with:"
   ]
  },
  {
   "cell_type": "code",
   "execution_count": 3,
   "metadata": {},
   "outputs": [],
   "source": [
    "c1 = Company('A28015865', # nif: company fiscal number\n",
    "        'Telefonica, SA', # company_name: Company Name\n",
    "        6420,             # CNAE: Sector de la Empresa\n",
    "        115066000.0,      # p10000: Total Assets / Total activos\n",
    "        26618000.0,       # p20000: Own Capital / Patrimonio neto\n",
    "        46332000.0,       # p31200: Short Term Debt / Deuda a corto plazo\n",
    "        9414000.0,        # p32300: Long Term Debt / Deuda a largo plazo\n",
    "        -9396000.0,       # p40800: Amortization (Amortización)\n",
    "        52455000.0,       # p40100_40500: Sales Turnover (Ingresos de Explotación) + Other sales (Otros Ingresos)\n",
    "        6791000.0)        # p49100: Profit (Resultado del ejercicio)\n",
    "\n"
   ]
  },
  {
   "cell_type": "markdown",
   "metadata": {},
   "source": [
    "## Part 2 - create 3 methods\n",
    "\n",
    "* 1: get_ebitda_margin: Ebitda / Turn over (Ventas)\n",
    "* calculate and return: (p49100 + abs(p40800)) / p40100_40500\n",
    "* test using: e.get_ebitda_margin()\n",
    "\n",
    "\n",
    "* 2: get_total_debt_ebitda: Total Debt / Ebita \n",
    "* calculate and return: (p31200+p32300)/(p49100 + abs(p40800))\n",
    "* test using: e.get_total_debt_ebitda()\n",
    "\n",
    "\n",
    "* 3: get_leverage: Financial leveraging / apalancamiento financiero \n",
    "* calculate and return: (p10000-p20000)/p20000\n",
    "* test using: e.get_leverage()"
   ]
  },
  {
   "cell_type": "code",
   "execution_count": 4,
   "metadata": {},
   "outputs": [
    {
     "name": "stdout",
     "output_type": "stream",
     "text": [
      "-6.305449127288208\n",
      "0.9409242818080545\n",
      "3.3228642272146667\n"
     ]
    }
   ],
   "source": [
    "print(c1.get_ebitda_margin())\n",
    "print(c1.get_total_debt_ebitda())\n",
    "print(c1.get_leverage())"
   ]
  },
  {
   "cell_type": "markdown",
   "metadata": {},
   "source": [
    "---"
   ]
  },
  {
   "cell_type": "markdown",
   "metadata": {},
   "source": [
    "# 07 - Rating Case Study - Model development part 3\n",
    "\n",
    "## Creanting a code prof_manoel_gadi_model_dev_support.py with the code we are going to be using in many different projects."
   ]
  },
  {
   "cell_type": "code",
   "execution_count": null,
   "metadata": {},
   "outputs": [],
   "source": [
    "#IMPORTING LIBRARIES\n",
    "import pandas as pd\n",
    "import statsmodels.api as sm\n",
    "\n",
    "# READING THE DEVELOPEMENT DATAFRAME!\n",
    "output_var = 'target_increase_in_risk'\n",
    "list_of_bucket_fields = ['Market Cap_group', 'Enterprise Value_group', 'Trailing P/E_group', 'Forward P/E_group', 'PEG Ratio_group', 'Price/Sales_group', 'Price/Book_group', 'Enterprise Value/Revenue_group', 'Enterprise Value/EBITDA_group', 'Profit Margin_group', 'Operating Margin_group', 'Return on Assets_group', 'Return on Equity_group', 'Revenue_group', 'Revenue Per Share_group', 'Quarterly Revenue Growth_group', 'Gross Profit_group', 'EBITDA_group', 'Net Income Avi to Common_group', 'Diluted EPS_group', 'Quarterly Earnings Growth_group', 'Total Cash_group', 'Total Cash Per Share_group', 'Total Debt_group', 'Total Debt/Equity_group', 'Current Ratio_group', 'Book Value Per Share_group', 'Operating Cash Flow_group', 'Levered Free Cash Flow_group', '52-Week Change_group', 'S&amp;P500 52-Week Change_group', '52 Week High_group', '52 Week Low_group', '50-Day Moving Average_group', '200-Day Moving Average_group', 'Avg Vol (3 month)_group', 'Avg Vol (10 day)_group', 'Shares Outstanding_group', 'Float_group', '% Held by Insiders_group', '% Held by Institutions_group', 'Shares Short_group', 'Short Ratio_group', 'Short % of Float_group', 'Shares Short (prior month)_group', 'Forward Annual Dividend Rate_group', 'Forward Annual Dividend Yield_group', 'Trailing Annual Dividend Rate_group', 'Trailing Annual Dividend Yield_group', '5 Year Average Dividend Yield_group', 'Payout Ratio_group']\n",
    "\n",
    "df_dev = pd.read_excel(\"yahoo_ticker_new_beta_20180306.xlsx\")\n",
    "y_dev = df_dev[output_var]\n",
    "X_dev = df_dev[list_of_bucket_fields]\n",
    "\n",
    "# READING THE OUT-OF-TIME DATAFRAME!\n",
    "df_oot = pd.read_excel(\"oot_yahoo_ticker_new_beta_20180226.xlsx\")\n",
    "y_oot = df_oot[output_var]\n",
    "X_oot = df_oot[list_of_bucket_fields]"
   ]
  },
  {
   "cell_type": "code",
   "execution_count": null,
   "metadata": {},
   "outputs": [],
   "source": [
    "from prof_manoel_gadi_model_dev_support import *"
   ]
  },
  {
   "cell_type": "code",
   "execution_count": null,
   "metadata": {},
   "outputs": [],
   "source": [
    "dict_trained_model = train_method(X_dev, y_dev,X_oot,y_oot,\"LR\")\n",
    "print(dict_trained_model)"
   ]
  },
  {
   "cell_type": "code",
   "execution_count": null,
   "metadata": {},
   "outputs": [],
   "source": [
    "method_list = ['LR','LASSO', 'DT', 'LOGR','RIDGE','RFR','RFC','GBR']"
   ]
  },
  {
   "cell_type": "code",
   "execution_count": null,
   "metadata": {},
   "outputs": [],
   "source": [
    "# We develop the model in df_dev and test is on df_oot.\n",
    "data = []\n",
    "for method in method_list:\n",
    "    dict_trained_model[method] = train_method(X_dev, y_dev,X_oot,y_oot,method)\n",
    "#    print (dict_trained_model[method])\n",
    "    data.append([method, dict_trained_model[method]['accuracy_train'], dict_trained_model[method]['accuracy_test'], dict_trained_model[method]['gini_train'], dict_trained_model[method]['gini_test'], dict_trained_model[method]['ks_train'], dict_trained_model[method]['ks_test']])\n",
    "\n",
    "df_result_summary = pd.DataFrame(data,columns=['method','accuracy_train', 'accuracy_test', 'gini_train', 'gini_test', 'ks_train', 'ks_test'])    "
   ]
  },
  {
   "cell_type": "code",
   "execution_count": null,
   "metadata": {},
   "outputs": [],
   "source": [
    "df_result_summary"
   ]
  },
  {
   "cell_type": "markdown",
   "metadata": {},
   "source": [
    "# Creating a customized class using Pandas.DataFrame internally - csdf\n"
   ]
  },
  {
   "cell_type": "code",
   "execution_count": null,
   "metadata": {},
   "outputs": [],
   "source": [
    "import prof_manoel_gadi_model_dev_support_class as prof"
   ]
  },
  {
   "cell_type": "code",
   "execution_count": null,
   "metadata": {},
   "outputs": [],
   "source": [
    "csdf = prof.CustomDF()"
   ]
  },
  {
   "cell_type": "code",
   "execution_count": null,
   "metadata": {},
   "outputs": [],
   "source": [
    "csdf.set_df(df_dev, df_oot)"
   ]
  },
  {
   "cell_type": "code",
   "execution_count": null,
   "metadata": {},
   "outputs": [],
   "source": [
    "csdf.train_method(inputvars=['Market Cap_group', 'Enterprise Value_group', 'Trailing P/E_group', 'Forward P/E_group', 'PEG Ratio_group', 'Price/Sales_group', 'Price/Book_group', 'Enterprise Value/Revenue_group', 'Enterprise Value/EBITDA_group', 'Profit Margin_group', 'Operating Margin_group', 'Return on Assets_group', 'Return on Equity_group', 'Revenue_group', 'Revenue Per Share_group', 'Quarterly Revenue Growth_group', 'Gross Profit_group', 'EBITDA_group', 'Net Income Avi to Common_group', 'Diluted EPS_group', 'Quarterly Earnings Growth_group', 'Total Cash_group', 'Total Cash Per Share_group', 'Total Debt_group', 'Total Debt/Equity_group', 'Current Ratio_group', 'Book Value Per Share_group', 'Operating Cash Flow_group', 'Levered Free Cash Flow_group', '52-Week Change_group', 'S&amp;P500 52-Week Change_group', '52 Week High_group', '52 Week Low_group', '50-Day Moving Average_group', '200-Day Moving Average_group', 'Avg Vol (3 month)_group', 'Avg Vol (10 day)_group', 'Shares Outstanding_group', 'Float_group', '% Held by Insiders_group', '% Held by Institutions_group', 'Shares Short_group', 'Short Ratio_group', 'Short % of Float_group', 'Shares Short (prior month)_group', 'Forward Annual Dividend Rate_group', 'Forward Annual Dividend Yield_group', 'Trailing Annual Dividend Rate_group', 'Trailing Annual Dividend Yield_group', '5 Year Average Dividend Yield_group', 'Payout Ratio_group'],\n",
    "                  targetvar = \"target_increase_in_risk\", \n",
    "                  method=\"LR\")\n"
   ]
  },
  {
   "cell_type": "code",
   "execution_count": null,
   "metadata": {},
   "outputs": [],
   "source": [
    "csdf.train_methods(inputvars=['Market Cap_group', 'Enterprise Value_group', 'Trailing P/E_group', 'Forward P/E_group', 'PEG Ratio_group', 'Price/Sales_group', 'Price/Book_group', 'Enterprise Value/Revenue_group', 'Enterprise Value/EBITDA_group', 'Profit Margin_group', 'Operating Margin_group', 'Return on Assets_group', 'Return on Equity_group', 'Revenue_group', 'Revenue Per Share_group', 'Quarterly Revenue Growth_group', 'Gross Profit_group', 'EBITDA_group', 'Net Income Avi to Common_group', 'Diluted EPS_group', 'Quarterly Earnings Growth_group', 'Total Cash_group', 'Total Cash Per Share_group', 'Total Debt_group', 'Total Debt/Equity_group', 'Current Ratio_group', 'Book Value Per Share_group', 'Operating Cash Flow_group', 'Levered Free Cash Flow_group', '52-Week Change_group', 'S&amp;P500 52-Week Change_group', '52 Week High_group', '52 Week Low_group', '50-Day Moving Average_group', '200-Day Moving Average_group', 'Avg Vol (3 month)_group', 'Avg Vol (10 day)_group', 'Shares Outstanding_group', 'Float_group', '% Held by Insiders_group', '% Held by Institutions_group', 'Shares Short_group', 'Short Ratio_group', 'Short % of Float_group', 'Shares Short (prior month)_group', 'Forward Annual Dividend Rate_group', 'Forward Annual Dividend Yield_group', 'Trailing Annual Dividend Rate_group', 'Trailing Annual Dividend Yield_group', '5 Year Average Dividend Yield_group', 'Payout Ratio_group'],\n",
    "                  targetvar = \"target_increase_in_risk\")"
   ]
  },
  {
   "cell_type": "code",
   "execution_count": null,
   "metadata": {},
   "outputs": [],
   "source": [
    "csdf.df_result_summary"
   ]
  },
  {
   "cell_type": "code",
   "execution_count": null,
   "metadata": {},
   "outputs": [],
   "source": [
    "csdf.dict_trained_model"
   ]
  },
  {
   "cell_type": "code",
   "execution_count": null,
   "metadata": {},
   "outputs": [],
   "source": [
    "csdf.dict_trained_model['GBR']"
   ]
  },
  {
   "cell_type": "code",
   "execution_count": null,
   "metadata": {},
   "outputs": [],
   "source": [
    "csdf.dict_trained_model['GBR']['model']"
   ]
  },
  {
   "cell_type": "code",
   "execution_count": null,
   "metadata": {},
   "outputs": [],
   "source": [
    "csdf.dict_trained_model['GBR']['model'].predict(df_oot[['Market Cap_group', 'Enterprise Value_group', 'Trailing P/E_group', 'Forward P/E_group', 'PEG Ratio_group', 'Price/Sales_group', 'Price/Book_group', 'Enterprise Value/Revenue_group', 'Enterprise Value/EBITDA_group', 'Profit Margin_group', 'Operating Margin_group', 'Return on Assets_group', 'Return on Equity_group', 'Revenue_group', 'Revenue Per Share_group', 'Quarterly Revenue Growth_group', 'Gross Profit_group', 'EBITDA_group', 'Net Income Avi to Common_group', 'Diluted EPS_group', 'Quarterly Earnings Growth_group', 'Total Cash_group', 'Total Cash Per Share_group', 'Total Debt_group', 'Total Debt/Equity_group', 'Current Ratio_group', 'Book Value Per Share_group', 'Operating Cash Flow_group', 'Levered Free Cash Flow_group', '52-Week Change_group', 'S&amp;P500 52-Week Change_group', '52 Week High_group', '52 Week Low_group', '50-Day Moving Average_group', '200-Day Moving Average_group', 'Avg Vol (3 month)_group', 'Avg Vol (10 day)_group', 'Shares Outstanding_group', 'Float_group', '% Held by Insiders_group', '% Held by Institutions_group', 'Shares Short_group', 'Short Ratio_group', 'Short % of Float_group', 'Shares Short (prior month)_group', 'Forward Annual Dividend Rate_group', 'Forward Annual Dividend Yield_group', 'Trailing Annual Dividend Rate_group', 'Trailing Annual Dividend Yield_group', '5 Year Average Dividend Yield_group', 'Payout Ratio_group']])"
   ]
  },
  {
   "cell_type": "code",
   "execution_count": null,
   "metadata": {},
   "outputs": [],
   "source": []
  }
 ],
 "metadata": {
  "kernelspec": {
   "display_name": "Python 3",
   "language": "python",
   "name": "python3"
  },
  "language_info": {
   "codemirror_mode": {
    "name": "ipython",
    "version": 3
   },
   "file_extension": ".py",
   "mimetype": "text/x-python",
   "name": "python",
   "nbconvert_exporter": "python",
   "pygments_lexer": "ipython3",
   "version": "3.9.7"
  }
 },
 "nbformat": 4,
 "nbformat_minor": 2
}
